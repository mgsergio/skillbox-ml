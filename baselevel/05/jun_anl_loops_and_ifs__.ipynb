{
 "cells": [
  {
   "cell_type": "markdown",
   "metadata": {
    "colab_type": "text",
    "id": "X9wfb-pqPzYu"
   },
   "source": [
    "# Циклы и условия\n",
    "\n",
    "## Домашняя работа\n",
    "Эта домашняя работа должна быть решена **БЕЗ** использования готовых функций (если именно они \"решают\" задачу) и сторонних библиотек. Используйте циклы и условия."
   ]
  },
  {
   "cell_type": "markdown",
   "metadata": {
    "colab_type": "text",
    "id": "DMpu8uUoPzY0"
   },
   "source": [
    "## 1\n",
    "\n",
    "Напишите программу, которая будет запрашивать на вход числа (через запятую на одной строке) и выводить наибольшее значение из списка.\n",
    "<br><br>\n",
    "*Ограничение: нельзя пользоваться готовой функцией для нахождения максимума (например, `max()`), готовыми функциями и методами сортировки (например, `sort()`,`sorted()`), функцией set().*\n",
    "<br>\n",
    "<br>\n",
    "*Формат ввода:* <br>\n",
    "1, 2, 3, 6, 7<br><br>\n",
    "\n",
    "*Формат вывода:* <br>\n",
    "7"
   ]
  },
  {
   "cell_type": "code",
   "execution_count": 4,
   "metadata": {
    "colab": {},
    "colab_type": "code",
    "id": "dHs34-p-PzY3"
   },
   "outputs": [
    {
     "name": "stdin",
     "output_type": "stream",
     "text": [
      " 1,2,3,4,4,5,6,7,2,3,4,5,3,2,1\n"
     ]
    },
    {
     "data": {
      "text/plain": [
       "7"
      ]
     },
     "execution_count": 4,
     "metadata": {},
     "output_type": "execute_result"
    }
   ],
   "source": [
    "### YOUR CODE HERE ###\n",
    "from functools import reduce\n",
    "numbers = [int(n) for n in input().split(',')]\n",
    "reduce(\n",
    "    lambda x, y: x if x > y else y,\n",
    "    numbers,\n",
    "    numbers[0]\n",
    ")"
   ]
  },
  {
   "cell_type": "markdown",
   "metadata": {
    "colab_type": "text",
    "id": "sCF9Hd9rPzZD"
   },
   "source": [
    "### 2\n",
    "\n",
    "Напишите программу, которая будет запрашивать на вход числа (каждое с новой строки) до тех пор, пока не будет введен ноль (0). На выход должно выводиться второе по величине значение.\n",
    "<br><br>\n",
    "*Ограничение: нельзя пользоваться готовой функцией для нахождения максимума (например, `max()`), готовыми функциями и методами сортировки (например, `sort()`,`sorted()`).*\n",
    "<br><br>\n",
    "*Формат ввода:* <br>\n",
    "4<br>\n",
    "6<br>\n",
    "7<br>\n",
    "7<br>\n",
    "0\n",
    "<br><br>\n",
    "\n",
    "*Формат вывода:* <br>\n",
    "6"
   ]
  },
  {
   "cell_type": "code",
   "execution_count": 15,
   "metadata": {
    "colab": {},
    "colab_type": "code",
    "id": "yrJk-mEjPzZF"
   },
   "outputs": [
    {
     "name": "stdin",
     "output_type": "stream",
     "text": [
      " 99\n",
      " 4\n",
      " 6\n",
      " 88\n",
      " 100500\n",
      " 500\n",
      " 300600\n",
      " 4\n",
      " 5\n",
      " 6\n",
      " 0\n"
     ]
    },
    {
     "data": {
      "text/plain": [
       "100500"
      ]
     },
     "execution_count": 15,
     "metadata": {},
     "output_type": "execute_result"
    }
   ],
   "source": [
    "### YOUR CODE HERE ###\n",
    "def get_number() -> int:\n",
    "    return int(input())\n",
    "\n",
    "a = get_number()\n",
    "m1, m2 = a, None\n",
    "while a:\n",
    "    a = get_number()\n",
    "    if a > m1:\n",
    "        m1, m2 = a, m1\n",
    "    elif m2 is None or (m1 > a > m2):\n",
    "        m2 = a\n",
    "m2"
   ]
  },
  {
   "cell_type": "markdown",
   "metadata": {
    "colab_type": "text",
    "id": "fdJZMUtGPzZN"
   },
   "source": [
    "### 3\n",
    "\n",
    "Напишите программу, которая принимает на вход год, а на выход выдает количество дней в этом году.\n",
    "<br><br>\n",
    "*Формат ввода:* <br>\n",
    "2020<br><br>\n",
    "\n",
    "*Формат вывода:* <br>\n",
    "366"
   ]
  },
  {
   "cell_type": "code",
   "execution_count": 23,
   "metadata": {
    "colab": {},
    "colab_type": "code",
    "id": "Dk6PDx-jPzZP"
   },
   "outputs": [
    {
     "name": "stdin",
     "output_type": "stream",
     "text": [
      " 2004\n"
     ]
    },
    {
     "data": {
      "text/plain": [
       "366"
      ]
     },
     "execution_count": 23,
     "metadata": {},
     "output_type": "execute_result"
    }
   ],
   "source": [
    "### YOUR CODE HERE ###\n",
    "# If the year is evenly divisible by 4, go to step 2. Otherwise, go to step 5.\n",
    "# If the year is evenly divisible by 100, go to step 3. Otherwise, go to step 4.\n",
    "# If the year is evenly divisible by 400, go to step 4. Otherwise, go to step 5.\n",
    "# The year is a leap year (it has 366 days).\n",
    "# The year is not a leap year (it has 365 days).\n",
    "\n",
    "def is_leap_year(year: int) -> bool:\n",
    "    if year % 4 != 0:\n",
    "        return False\n",
    "    if year % 100 == 0:\n",
    "        return year % 400 == 0\n",
    "    return True\n",
    "    \n",
    "def days_in_year(year: int) -> int:\n",
    "    if is_leap_year(year):\n",
    "        return 366\n",
    "    return 365\n",
    "\n",
    "year = int(input())\n",
    "days_in_year(year)"
   ]
  },
  {
   "cell_type": "markdown",
   "metadata": {
    "colab_type": "text",
    "id": "wFGBh0dYPzZV"
   },
   "source": [
    "### 4\n",
    "\n",
    "Напишите программу, которая на вход получает координаты двух клеток шахматной доски и выводит соощение о том, являются ли эти клетки одного цвета.\n",
    "<br><br>\n",
    "*Формат ввода:* <br>\n",
    "c2<br>\n",
    "e4<br><br>\n",
    "\n",
    "*Формат вывода:* <br>\n",
    "Клетки одинакового цвета"
   ]
  },
  {
   "cell_type": "code",
   "execution_count": 31,
   "metadata": {
    "colab": {},
    "colab_type": "code",
    "id": "k-8POcqGPzZW"
   },
   "outputs": [
    {
     "name": "stdin",
     "output_type": "stream",
     "text": [
      " f8\n",
      " c5\n"
     ]
    },
    {
     "name": "stdout",
     "output_type": "stream",
     "text": [
      "Клетки одинакового цвета\n"
     ]
    }
   ],
   "source": [
    "### YOUR CODE HERE ###\n",
    "from enum import Enum, auto\n",
    "\n",
    "def letter_to_number(c: str) -> int:\n",
    "    return ord(c) - ord('a') + 1\n",
    "\n",
    "class CellColor(Enum):\n",
    "    Black = auto()\n",
    "    White = auto()\n",
    "\n",
    "def cell_color(cell: str) -> CellColor:\n",
    "    if sum(map(letter_to_number, cell)) % 2 == 0:\n",
    "        return CellColor.Black\n",
    "    return CellColor.White\n",
    "\n",
    "def is_same_color(c1: str, c2: str) -> bool:\n",
    "    return cell_color(c1) == cell_color(c2)\n",
    "\n",
    "c1 = input()\n",
    "c2 = input()\n",
    "\n",
    "if is_same_color(c1, c2):\n",
    "    print(\"Клетки одинакового цвета\")\n",
    "else:\n",
    "    print(\"Клетки разного цвета\")"
   ]
  },
  {
   "cell_type": "markdown",
   "metadata": {
    "colab_type": "text",
    "id": "O594rz0tPzZb"
   },
   "source": [
    "### 5\n",
    "\n",
    "Напишите программу, которая на вход получает число, а на выходе сообщает, простое это число или составное.\n",
    "<br><br>\n",
    "*Формат ввода:* <br>\n",
    "169<br><br>\n",
    "\n",
    "*Формат вывода:* <br>\n",
    "Составное число"
   ]
  },
  {
   "cell_type": "code",
   "execution_count": 49,
   "metadata": {
    "colab": {},
    "colab_type": "code",
    "id": "-Oy1AesyPzZd"
   },
   "outputs": [
    {
     "name": "stdin",
     "output_type": "stream",
     "text": [
      " 47\n"
     ]
    },
    {
     "name": "stdout",
     "output_type": "stream",
     "text": [
      "Простое число\n"
     ]
    }
   ],
   "source": [
    "### YOUR CODE HERE ###\n",
    "def is_prime(n: int) -> bool:\n",
    "    if n <= 3:\n",
    "        return n != 1\n",
    "    if n % 2 == 0 or n % 3 == 0:\n",
    "        return False\n",
    "    i = 5\n",
    "    while i ** 2 < n:\n",
    "        if n % i == 0 or n % (i + 2) == 0:\n",
    "            return False\n",
    "        i += 6\n",
    "    return True\n",
    "\n",
    "n = int(input())\n",
    "if is_prime(n):\n",
    "    print(\"Простое число\")\n",
    "else:\n",
    "    print(\"Составное число\")"
   ]
  },
  {
   "cell_type": "markdown",
   "metadata": {
    "colab_type": "text",
    "id": "QzBAQaW8PzZg"
   },
   "source": [
    "### 6\n",
    "\n",
    "Напишите программу, которая на вход получает целое число больше 2 и выводит по нему его наименьший натуральный делитель, отличный от 1.\n",
    "<br><br>\n",
    "*Формат ввода:* <br>\n",
    "169<br><br>\n",
    "\n",
    "*Формат вывода:* <br>\n",
    "13"
   ]
  },
  {
   "cell_type": "code",
   "execution_count": 96,
   "metadata": {
    "colab": {},
    "colab_type": "code",
    "id": "Z2QzgAYKPzZi"
   },
   "outputs": [
    {
     "name": "stdin",
     "output_type": "stream",
     "text": [
      " 169\n"
     ]
    },
    {
     "data": {
      "text/plain": [
       "13"
      ]
     },
     "execution_count": 96,
     "metadata": {},
     "output_type": "execute_result"
    }
   ],
   "source": [
    "### YOUR CODE HERE ###\n",
    "n = int(input())\n",
    "assert n > 2\n",
    "\n",
    "# We could skip all even numbers...\n",
    "# And maybe there are some other optimizations.\n",
    "for i in range(2, n + 1):\n",
    "    if n % i == 0:\n",
    "        break\n",
    "i"
   ]
  },
  {
   "cell_type": "markdown",
   "metadata": {
    "colab_type": "text",
    "id": "Mdg_IAfFPzZk"
   },
   "source": [
    "### 7\n",
    "\n",
    "Напишите программу, которая поможет составить план тренировок для подготовки к марафону. Она получает на вход число километров на планируемом марафоне, сколько пользователь планирует пробежать в первый день тренировок и на сколько процентов планирует увеличивать каждый день это расстояние. На выходе программа должна выдавать, сколько дней пользователю потребуется для того, чтобы подготовиться пробежать целевое количество километров.\n",
    "<br><br>\n",
    "*Ограничение: нельзя пользоваться функцией `ceil()` из модуля `math` и ее аналогами.*\n",
    "<br><br>\n",
    "*Формат ввода:* <br>\n",
    "12<br>\n",
    "3<br>\n",
    "10<br><br>\n",
    "\n",
    "*Формат вывода:* <br>\n",
    "16"
   ]
  },
  {
   "cell_type": "code",
   "execution_count": 204,
   "metadata": {
    "colab": {},
    "colab_type": "code",
    "id": "mXeF6AMWPzZl"
   },
   "outputs": [
    {
     "name": "stdin",
     "output_type": "stream",
     "text": [
      " 10\n",
      " 2\n",
      " 5\n"
     ]
    },
    {
     "name": "stdout",
     "output_type": "stream",
     "text": [
      "34\n"
     ]
    }
   ],
   "source": [
    "### YOUR CODE HERE ###\n",
    "# The sane way to solve this is:\n",
    "# math.ceil(log(target / first, 1 + percent)) + 1\n",
    "# But since we cannot use math.ceil and the module is \n",
    "# about loops, let's play with bin_search :)\n",
    "\n",
    "\n",
    "target = int(input())\n",
    "first = int(input())\n",
    "percent = int(input()) / 100\n",
    "\n",
    "\n",
    "def kilometers(first, percent, days) -> float:\n",
    "    return first * percent ** days\n",
    "\n",
    "\n",
    "# O(log(n, 2))\n",
    "def upper_bound(target, first, percent) -> int:\n",
    "    d = 1\n",
    "    while kilometers(first, (1 + percent), d) <= target:\n",
    "        d *= 2\n",
    "    return d + 1\n",
    "\n",
    "\n",
    "# O(log(n, 2))\n",
    "def bin_search(l, r, target, first, percent) -> int:\n",
    "    while l < r:\n",
    "        m = (l + r) // 2\n",
    "        k1 = kilometers(first, (1 + percent), m - 1)\n",
    "        k2 = kilometers(first, (1 + percent), m)\n",
    "        if k1 < target <= k2:\n",
    "            return m\n",
    "        if target < k1:\n",
    "            r = m\n",
    "        else:\n",
    "            l = m + 1\n",
    "    assert False, 'This should have not happened!'\n",
    "    \n",
    "    \n",
    "if first >= target:\n",
    "    print(1)\n",
    "else:\n",
    "    max_days = upper_bound(target, first, percent)\n",
    "    days = bin_search(max_days // 2, max_days, target, first, percent)\n",
    "    # Self-check\n",
    "    # import math\n",
    "    # print(math.ceil(log(target / first, 1 + percent)) + 1)\n",
    "    print(days + 1)\n"
   ]
  },
  {
   "cell_type": "code",
   "execution_count": 139,
   "metadata": {},
   "outputs": [
    {
     "data": {
      "text/plain": [
       "3.630000000000001"
      ]
     },
     "execution_count": 139,
     "metadata": {},
     "output_type": "execute_result"
    }
   ],
   "source": [
    "3 * (1 + 0.1) ** 2"
   ]
  },
  {
   "cell_type": "markdown",
   "metadata": {
    "colab_type": "text",
    "id": "sxKoWpYKPzZo"
   },
   "source": [
    "### 8\n",
    "\n",
    "Напишите программу, которая на вход получает число n и считает по нему сумму 1²+2²+3²+...+n².\n",
    "<br><br>\n",
    "*Ограничение: нельзя пользоваться функцией `sum()` и ее аналогами.*\n",
    "\n",
    "*Формат ввода:* <br>\n",
    "3<br><br>\n",
    "\n",
    "*Формат вывода:* <br>\n",
    "14"
   ]
  },
  {
   "cell_type": "code",
   "execution_count": 56,
   "metadata": {
    "colab": {},
    "colab_type": "code",
    "id": "RiPlWLm6PzZp"
   },
   "outputs": [
    {
     "name": "stdin",
     "output_type": "stream",
     "text": [
      " 4\n"
     ]
    },
    {
     "data": {
      "text/plain": [
       "30"
      ]
     },
     "execution_count": 56,
     "metadata": {},
     "output_type": "execute_result"
    }
   ],
   "source": [
    "### YOUR CODE HERE ###\n",
    "def square_sum(n: int) -> int:\n",
    "    return n * (n + 1) * (2 * n + 1) // 6\n",
    "\n",
    "n = int(input())\n",
    "square_sum(n)"
   ]
  },
  {
   "cell_type": "markdown",
   "metadata": {
    "colab_type": "text",
    "id": "aXzG4-wdPzZr"
   },
   "source": [
    "## 9\n",
    "\n",
    "Напишите программу, которая на вход получает число n и считает по нему сумму сумму 1! + 2! + 3! + ... + n!\n",
    "<br><br>\n",
    "*Ограничение: нельзя пользоваться готовой функцией `factorial()` из модуля `math`, функцией `sum()` и их аналогами.*\n",
    "\n",
    "*Формат ввода:* <br>\n",
    "3<br><br>\n",
    "\n",
    "*Формат вывода:* <br>\n",
    "9"
   ]
  },
  {
   "cell_type": "code",
   "execution_count": 70,
   "metadata": {
    "colab": {},
    "colab_type": "code",
    "id": "KBEXUEDQPzZs"
   },
   "outputs": [
    {
     "name": "stdin",
     "output_type": "stream",
     "text": [
      " 5\n"
     ]
    },
    {
     "data": {
      "text/plain": [
       "153"
      ]
     },
     "execution_count": 70,
     "metadata": {},
     "output_type": "execute_result"
    }
   ],
   "source": [
    "### YOUR CODE HERE ###\n",
    "from functools import reduce\n",
    "\n",
    "def fact_sum(n: int) -> int:\n",
    "    # 1! + 2! + 3! + ... + n! = 1 + 1*2 + 1*2*3 + ... + 1*2*3*...*n =\n",
    "    # = 1 + (1 + 2(1 + 3(1 + 4(1 + ...))))\n",
    "    return reduce(\n",
    "        lambda acc, x: (acc + 1) * x,\n",
    "        range(n, 0, -1),\n",
    "    )\n",
    "\n",
    "n = int(input())\n",
    "fact_sum(n)"
   ]
  },
  {
   "cell_type": "markdown",
   "metadata": {
    "colab_type": "text",
    "id": "4nsOuiWVPzZu"
   },
   "source": [
    "### 10\n",
    "\n",
    "Напишите программу, которая получает на вход последовательность чисел (каждое число с новой строки до того момента, пока пользователь не введет 0) и считает количество четных элементов в последовательности.\n",
    "<br><br>\n",
    "*Формат ввода:* <br>\n",
    "5<br>\n",
    "4<br>\n",
    "2<br>\n",
    "7<br>\n",
    "8<br>\n",
    "9<br>\n",
    "0<br><br>\n",
    "\n",
    "*Формат вывода:* <br>\n",
    "3"
   ]
  },
  {
   "cell_type": "code",
   "execution_count": 71,
   "metadata": {
    "colab": {},
    "colab_type": "code",
    "id": "xktF2cocPzZv"
   },
   "outputs": [
    {
     "name": "stdin",
     "output_type": "stream",
     "text": [
      " 5\n",
      " 4\n",
      " 2\n",
      " 7\n",
      " 8\n",
      " 0\n"
     ]
    },
    {
     "data": {
      "text/plain": [
       "3"
      ]
     },
     "execution_count": 71,
     "metadata": {},
     "output_type": "execute_result"
    }
   ],
   "source": [
    "### YOUR CODE HERE ###\n",
    "even = 0\n",
    "while True:\n",
    "    n = int(input())\n",
    "    if n == 0:\n",
    "        break\n",
    "    even += 1 - n % 2\n",
    "even"
   ]
  },
  {
   "cell_type": "markdown",
   "metadata": {
    "colab_type": "text",
    "id": "hyC9QGXPPzZx"
   },
   "source": [
    "### 11\n",
    "\n",
    "Напишите программу, которая формирует список игроков женской команды по мини-футболу. Программа должна записывать возраст и пол претендента. Возраст должен запрашиваться после пола и только в том случае, если пол претендента женский. Если пол претендента мужской, программа должна сообщать о том, что он не подходит. Возраст претенденток должен быть от 18 до 35 лет. Если кандидат удовлетворяет требованиям, должно появляться соответствующее сообщение. Всего в команде могут быть только шесть человек. Когда необходимое число набирается, запись закрывается и выводится сообщение \"Запись в команду закрыта\".\n"
   ]
  },
  {
   "cell_type": "code",
   "execution_count": 74,
   "metadata": {
    "colab": {},
    "colab_type": "code",
    "id": "qSDK-zQ4PzZx"
   },
   "outputs": [
    {
     "name": "stdin",
     "output_type": "stream",
     "text": [
      "Please enter sex in the form: 'f' for female and 'm' for male:  f\n",
      " 10\n"
     ]
    },
    {
     "name": "stdout",
     "output_type": "stream",
     "text": [
      "Sorry, the candidate should be of age 18-35\n"
     ]
    },
    {
     "name": "stdin",
     "output_type": "stream",
     "text": [
      "Please enter sex in the form: 'f' for female and 'm' for male:  m\n"
     ]
    },
    {
     "name": "stdout",
     "output_type": "stream",
     "text": [
      "Sorry, did I mention that only women fit?\n"
     ]
    },
    {
     "name": "stdin",
     "output_type": "stream",
     "text": [
      "Please enter sex in the form: 'f' for female and 'm' for male:  f\n",
      " 30\n"
     ]
    },
    {
     "name": "stdout",
     "output_type": "stream",
     "text": [
      "Awesome, please join our team\n"
     ]
    },
    {
     "name": "stdin",
     "output_type": "stream",
     "text": [
      "Please enter sex in the form: 'f' for female and 'm' for male:  f\n",
      " 28\n"
     ]
    },
    {
     "name": "stdout",
     "output_type": "stream",
     "text": [
      "Awesome, please join our team\n"
     ]
    },
    {
     "name": "stdin",
     "output_type": "stream",
     "text": [
      "Please enter sex in the form: 'f' for female and 'm' for male:  f\n",
      " 18\n"
     ]
    },
    {
     "name": "stdout",
     "output_type": "stream",
     "text": [
      "Awesome, please join our team\n"
     ]
    },
    {
     "name": "stdin",
     "output_type": "stream",
     "text": [
      "Please enter sex in the form: 'f' for female and 'm' for male:  f\n",
      " 12\n"
     ]
    },
    {
     "name": "stdout",
     "output_type": "stream",
     "text": [
      "Sorry, the candidate should be of age 18-35\n"
     ]
    },
    {
     "name": "stdin",
     "output_type": "stream",
     "text": [
      "Please enter sex in the form: 'f' for female and 'm' for male:  f\n",
      " 20\n"
     ]
    },
    {
     "name": "stdout",
     "output_type": "stream",
     "text": [
      "Awesome, please join our team\n"
     ]
    },
    {
     "name": "stdin",
     "output_type": "stream",
     "text": [
      "Please enter sex in the form: 'f' for female and 'm' for male:  f\n",
      " 19\n"
     ]
    },
    {
     "name": "stdout",
     "output_type": "stream",
     "text": [
      "Awesome, please join our team\n"
     ]
    },
    {
     "name": "stdin",
     "output_type": "stream",
     "text": [
      "Please enter sex in the form: 'f' for female and 'm' for male:  f\n",
      " 27\n"
     ]
    },
    {
     "name": "stdout",
     "output_type": "stream",
     "text": [
      "Awesome, please join our team\n",
      "Запись в команду закрыта\n"
     ]
    }
   ],
   "source": [
    "### YOUR CODE HERE ###\n",
    "team_size = 0\n",
    "team_capacity = 6\n",
    "while team_size < team_capacity:\n",
    "    sex = input(\"Please enter sex in the form: 'f' for female and 'm' for male: \")\n",
    "    if sex not in 'mf':\n",
    "        print('Not sure what you mean, please try again')\n",
    "        continue\n",
    "    if sex == 'm':\n",
    "        print('Sorry, did I mention that only women fit?')\n",
    "        continue\n",
    "    age = int(input())\n",
    "    if 18 <= age <= 35:\n",
    "        print('Awesome, please join our team')\n",
    "        team_size += 1\n",
    "    else:\n",
    "        print('Sorry, the candidate should be of age 18-35')\n",
    "print(\"Запись в команду закрыта\")"
   ]
  },
  {
   "cell_type": "markdown",
   "metadata": {
    "colab_type": "text",
    "id": "B4JAB8AqPzZ0"
   },
   "source": [
    "### 12\n",
    "\n",
    "\n",
    "Напишите программу, которая на вход получает максимальную ширину ромба и рисует его. Гарантируется, что входное число всегда нечетное.\n",
    "<br><br>\n",
    "\n",
    "*Формат ввода:* <br>\n",
    "5<br><br>\n",
    "\n",
    "*Формат вывода:* <br>\n",
    "```  \n",
    "  *\n",
    " ***\n",
    "*****\n",
    " ***\n",
    "  *\n",
    "```"
   ]
  },
  {
   "cell_type": "code",
   "execution_count": 87,
   "metadata": {
    "colab": {},
    "colab_type": "code",
    "id": "WVp7O75oPzZ0"
   },
   "outputs": [
    {
     "name": "stdin",
     "output_type": "stream",
     "text": [
      " 11\n"
     ]
    },
    {
     "name": "stdout",
     "output_type": "stream",
     "text": [
      "     *     \n",
      "    ***    \n",
      "   *****   \n",
      "  *******  \n",
      " ********* \n",
      "***********\n",
      " ********* \n",
      "  *******  \n",
      "   *****   \n",
      "    ***    \n",
      "     *     \n"
     ]
    }
   ],
   "source": [
    "### YOUR CODE HERE ###\n",
    "n = int(input())\n",
    "\n",
    "assert n % 2, 'n should be odd'\n",
    "\n",
    "for i in range(n):\n",
    "    side = abs(i - n // 2) \n",
    "    middle = n - 2 * side\n",
    "    print(' ' * side + '*' * middle + ' ' * side)\n"
   ]
  },
  {
   "cell_type": "markdown",
   "metadata": {
    "colab_type": "text",
    "id": "xrIXWj0yPzZ2"
   },
   "source": [
    "### 13\n",
    "\n",
    "Напишите программу, которая запрашивает у пользователя сторону квадрата и символ, а затем рисует этот символ по диагоналям квадрата. Гарантируется, что входное число всегда нечетное.\n",
    "<br><br>\n",
    "\n",
    "*Формат ввода:* <br>\n",
    "5<br>\n",
    "\\#<br><br>\n",
    "\n",
    "*Формат вывода:* <br>\n",
    "```\n",
    " \n",
    "#   #\n",
    " # #\n",
    "  #  \n",
    " # #\n",
    "#   #\n",
    "```"
   ]
  },
  {
   "cell_type": "code",
   "execution_count": 83,
   "metadata": {
    "colab": {},
    "colab_type": "code",
    "id": "oUKNB9TaPzZ3"
   },
   "outputs": [
    {
     "name": "stdin",
     "output_type": "stream",
     "text": [
      " 9\n",
      " t\n"
     ]
    },
    {
     "name": "stdout",
     "output_type": "stream",
     "text": [
      "t       t\n",
      " t     t \n",
      "  t   t  \n",
      "   t t   \n",
      "    t    \n",
      "   t t   \n",
      "  t   t  \n",
      " t     t \n",
      "t       t\n"
     ]
    }
   ],
   "source": [
    "### YOUR CODE HERE ###\n",
    "n = int(input())\n",
    "c = input()\n",
    "\n",
    "assert n % 2, 'n should be odd'\n",
    "assert len(c) == 1, 'c should be one character'\n",
    "\n",
    "for i in range(n):\n",
    "    a, b = i, n - i - 1\n",
    "    for j in range(n):\n",
    "        if j in [a, b]:\n",
    "            print(c, end='')\n",
    "        else:\n",
    "            print(' ', end='')\n",
    "    print()\n"
   ]
  },
  {
   "cell_type": "markdown",
   "metadata": {
    "colab_type": "text",
    "id": "3GaiPsFYPzZ_"
   },
   "source": [
    "### 14\n",
    "\n",
    "В корзине лежат шары. Если разложить их в кучи по 2, останется один. Если разложить в кучи по 3, останется один. Если разложить в кучи по 4, останется один. Если разложить в кучи по 5, останется один. Если разложить в кучи по 6, останется один. Если разложить в кучи по 7, не будет остатка. Нужно найти минимальное количество шаров, удовлетворяющее условию.  <br>"
   ]
  },
  {
   "cell_type": "code",
   "execution_count": 91,
   "metadata": {
    "colab": {},
    "colab_type": "code",
    "id": "V2msEhQkPzZ_"
   },
   "outputs": [
    {
     "data": {
      "text/plain": [
       "301"
      ]
     },
     "execution_count": 91,
     "metadata": {},
     "output_type": "execute_result"
    }
   ],
   "source": [
    "### YOUR CODE HERE ###\n",
    "# X = k * 7\n",
    "for i in range(7, 100000, 7):\n",
    "    if all(i % j == 1 for j in range(2, 7)) and i % 7 == 0:\n",
    "        break\n",
    "i"
   ]
  },
  {
   "cell_type": "markdown",
   "metadata": {
    "colab_type": "text",
    "id": "5pOjlON-PzaC"
   },
   "source": [
    "### 15\n",
    "\n",
    "Рабочие клеили обои на стены. Первую стену поклеили за M минут, а каждую следующую на 5 минут больше, чем предыдущую.\n",
    "Напишите программу, которая запрашивает сколько стен было в квартире под поклейку, а также время работы с первой стеной в минутах. Программа должна выводить, сколько **часов** рабочие потратили на поклейку обоев во всей квартире. Час отсчитывается с первой минуты. Ответом должно быть целое число. \n",
    "<br><br>\n",
    "*Ограничение: нельзя пользоваться готовыми функциями `bool()`, `floor()` и их аналогами.*\n",
    "<br><br>\n",
    "*Формат ввода:* <br>\n",
    "6<br>\n",
    "10<br><br>\n",
    "\n",
    "*Формат вывода:* <br>\n",
    "3"
   ]
  },
  {
   "cell_type": "code",
   "execution_count": 156,
   "metadata": {
    "colab": {},
    "colab_type": "code",
    "id": "Pmu96rWGPzaD"
   },
   "outputs": [
    {
     "name": "stdin",
     "output_type": "stream",
     "text": [
      " 6\n",
      " 10\n"
     ]
    },
    {
     "data": {
      "text/plain": [
       "3"
      ]
     },
     "execution_count": 156,
     "metadata": {},
     "output_type": "execute_result"
    }
   ],
   "source": [
    "### YOUR CODE HERE ###\n",
    "n = int(input())\n",
    "t = int(input())\n",
    "\n",
    "T = t * n + 5 * n * (n - 1) // 2\n",
    "T // 60 + (1 if T % 60 != 0 else 0)"
   ]
  },
  {
   "cell_type": "markdown",
   "metadata": {
    "colab_type": "text",
    "id": "63C6Za3CPzaF"
   },
   "source": [
    "### 16\n",
    "\n",
    "Напишите программу, которая убирает из списка повторяющиеся элементы. Программа должна запрашивать на вход слова, каждое с новой строки, пока пользователь не введет пустую строку. Затем должна выводить список без повторяющихся элементов. \n",
    "<br><br>\n",
    "*Ограничение: нельзя пользоваться готовой функцией `set()` и ее аналогами.*\n",
    "\n",
    "<br><br>\n",
    "*Формат ввода:* <br>\n",
    "Алиса<br>\n",
    "Алиса<br>\n",
    "Алиса<br>\n",
    "Петя<br>\n",
    "<br><br>\n",
    "\n",
    "*Формат вывода:* <br>\n",
    "[Алиса, Петя]"
   ]
  },
  {
   "cell_type": "code",
   "execution_count": 203,
   "metadata": {
    "colab": {},
    "colab_type": "code",
    "id": "MQ-eDkbAPzaG"
   },
   "outputs": [
    {
     "name": "stdin",
     "output_type": "stream",
     "text": [
      " алиса\n",
      " петя\n",
      " алиса\n",
      " петя\n",
      " петя\n",
      " кот\n",
      " петя\n",
      " алиса\n",
      " кот\n",
      " \n"
     ]
    },
    {
     "data": {
      "text/plain": [
       "['алиса', 'петя', 'кот']"
      ]
     },
     "execution_count": 203,
     "metadata": {},
     "output_type": "execute_result"
    }
   ],
   "source": [
    "### YOUR CODE HERE ###\n",
    "# Не понятно, как именно должна работать функция. Убирать только подряд идущие дубли или любые.\n",
    "# Например f([1, 1, 1, 2, 1]) -> [1, 2] или [1, 2, 1]? \n",
    "# Довольно много задач в задании, которые можно трактовать по-разному.\n",
    "\n",
    "# Можно запилить за O(n^2), но это скучно, надо помучиться...\n",
    "\n",
    "\n",
    "from typing import List\n",
    "from itertools import islice\n",
    "\n",
    "\n",
    "def distribute(src: List[str], fst: List[str], snd: List[str], size: int) -> None:\n",
    "    for n, e in enumerate(src):\n",
    "        if (n // size) % 2 == 0:\n",
    "            fst.append(e)\n",
    "        else:\n",
    "            snd.append(e)\n",
    "\n",
    "\n",
    "def merge_chank(dst: List[str], fst: List[str], snd: List[str]) -> None:\n",
    "    f, s = 0, 0\n",
    "    while f < len(fst) and s < len(snd):\n",
    "        if fst[f] <= snd[s]:\n",
    "            dst.append(fst[f])\n",
    "            f += 1\n",
    "        else:\n",
    "            dst.append(snd[s])\n",
    "            s += 1\n",
    "    while f < len(fst):\n",
    "        dst.append(fst[f])\n",
    "        f += 1 \n",
    "    while s < len(snd):\n",
    "        dst.append(snd[s])\n",
    "        s += 1\n",
    "\n",
    "            \n",
    "def merge(dst: List[str], fst: List[str], snd: List[str], size: int) -> None:\n",
    "    i = 0\n",
    "    while i < min(len(fst), len(snd)):\n",
    "        merge_chank(dst, fst[i:(i + size)], snd[i:(i + size)])\n",
    "        i += size\n",
    "    dst.extend(fst[i:])\n",
    "    dst.extend(snd[i:])\n",
    "        \n",
    "\n",
    "def merge_sort(l: List[str]) -> None:\n",
    "    size = 1\n",
    "    N = len(l)\n",
    "    while size < N:\n",
    "        fst, snd = [], []\n",
    "        distribute(l, fst, snd, size)\n",
    "        l.clear()\n",
    "        merge(l, fst, snd, size)\n",
    "        size *= 2\n",
    "\n",
    "        \n",
    "def read_data() -> List[str]:\n",
    "    l: List[str] = []\n",
    "    while True:\n",
    "        line = input()\n",
    "        if line:\n",
    "            l.append(line)\n",
    "        else:\n",
    "            break\n",
    "    return l\n",
    "\n",
    "\n",
    "def unique(l: List[str]) -> List[str]:\n",
    "    if not l: \n",
    "        return []\n",
    "    \n",
    "    prev = l[0]\n",
    "    res: List[str] = [prev]\n",
    "    for e in l[1:]:\n",
    "        if e == prev:\n",
    "            continue\n",
    "        prev = e\n",
    "        res.append(prev)\n",
    "    return res\n",
    "\n",
    "\n",
    "def bin_search(lst: List[str], e: str) -> int:\n",
    "    l, r = 0, len(lst)\n",
    "    while l < r:\n",
    "        m = (l + r) // 2\n",
    "        if lst[m] == e:\n",
    "            return m\n",
    "        if e < lst[m]:\n",
    "            r = m\n",
    "        else:\n",
    "            l = m + 1\n",
    "    # Return -1 or raise in normal case, but since all elements we search\n",
    "    # mast be in the lst we never should end up here.\n",
    "    assert False, 'Something went really wrong!'\n",
    "\n",
    "    \n",
    "l = read_data()\n",
    "\n",
    "# l = [\n",
    "#     'Алиса',\n",
    "#     'Петя',\n",
    "#     'Алиса',\n",
    "#     'Мячик',\n",
    "#     'Алиса',\n",
    "#     'Мячик',\n",
    "#     'Котик',\n",
    "#     'С++',\n",
    "#     'С++',\n",
    "#     'Haskell',\n",
    "#     'С++',\n",
    "# ]\n",
    "\n",
    "lc = l * 1\n",
    "merge_sort(lc)\n",
    "u = unique(lc)\n",
    "# If i don't need to keep the order of the original list, then\n",
    "# just print(u) and this is the answer.\n",
    "taken = [False for i in range(len(u))]\n",
    "res: List[str] = []\n",
    "for e in l:\n",
    "    ind = bin_search(u, e)\n",
    "    if taken[ind]:\n",
    "        continue\n",
    "    taken[ind] = True\n",
    "    res.append(e)\n",
    "res\n"
   ]
  },
  {
   "cell_type": "markdown",
   "metadata": {
    "colab_type": "text",
    "id": "jueSDORaPzaI"
   },
   "source": [
    "### 17\n",
    "\n",
    "Напишите программу, которая выводит число пар одинаковых элементов в списке. При этом если два элемента образовали пару, они не могут вступить в пару с другими элементами. Программа должна запрашивать на вход слова, каждое с новой строки, пока пользователь не введет пустую строку. \n",
    "<br><br>\n",
    "*Формат ввода:* <br>\n",
    "Алиса<br>\n",
    "Алиса<br>\n",
    "Алиса<br>\n",
    "<br><br>\n",
    "\n",
    "*Формат вывода:* <br>\n",
    "1"
   ]
  },
  {
   "cell_type": "code",
   "execution_count": 80,
   "metadata": {
    "colab": {},
    "colab_type": "code",
    "id": "49tbEr3NPzaJ"
   },
   "outputs": [
    {
     "name": "stdin",
     "output_type": "stream",
     "text": [
      " Алиса\n",
      " Алиса\n",
      " Алиса\n",
      " Артем\n",
      " Алиса\n",
      " Артем\n",
      " Антон\n",
      " Кот\n",
      " Кит\n",
      " Кот\n",
      " Кот\n",
      " \n"
     ]
    },
    {
     "data": {
      "text/plain": [
       "4"
      ]
     },
     "execution_count": 80,
     "metadata": {},
     "output_type": "execute_result"
    }
   ],
   "source": [
    "### YOUR CODE HERE ###\n",
    "from collections import Counter\n",
    "\n",
    "c = Counter()\n",
    "while True:\n",
    "    l = input()\n",
    "    if not l:\n",
    "        break\n",
    "    c[l] += 1\n",
    "    \n",
    "sum(i // 2 for i in c.values())\n"
   ]
  },
  {
   "cell_type": "markdown",
   "metadata": {
    "colab_type": "text",
    "id": "yVLcBrD-PzaN"
   },
   "source": [
    "### 18\n",
    "\n",
    "Будем считать, что кубик может иметь неограниченное количество граней (натуральное число). Напишите программу, которая запрашивает, сколько граней имеется у двух разных кубиков. Затем выводит все возможные комбинации результатов бросков двух таких кубиков. \n",
    "<br><br>\n",
    "*Формат ввода:* <br>\n",
    "3<br>\n",
    "4<br><br>\n",
    "\n",
    "*Формат вывода:* <br>\n",
    "1 1<br>\n",
    "1 2<br>\n",
    "1 3<br>\n",
    "1 4<br>\n",
    "2 1<br>\n",
    "2 2<br>\n",
    "2 3<br>\n",
    "2 4<br>\n",
    "3 1<br>\n",
    "3 2<br>\n",
    "3 3<br>\n",
    "3 4<br>"
   ]
  },
  {
   "cell_type": "code",
   "execution_count": 78,
   "metadata": {
    "colab": {},
    "colab_type": "code",
    "id": "7I2va0KwPzaR"
   },
   "outputs": [
    {
     "name": "stdin",
     "output_type": "stream",
     "text": [
      " 2\n",
      " 3\n"
     ]
    },
    {
     "name": "stdout",
     "output_type": "stream",
     "text": [
      "1 1\n",
      "1 2\n",
      "1 3\n",
      "2 1\n",
      "2 2\n",
      "2 3\n"
     ]
    }
   ],
   "source": [
    "### YOUR CODE HERE ###\n",
    "edges1 = int(input())\n",
    "edges2 = int(input())\n",
    "for i in range(1, edges1 + 1):\n",
    "    for j in range(1, edges2 + 1):\n",
    "        print(i, j)"
   ]
  }
 ],
 "metadata": {
  "colab": {
   "collapsed_sections": [],
   "name": "jun_anl_loops_and_ifs.ipynb",
   "provenance": []
  },
  "kernelspec": {
   "display_name": "Python 3",
   "language": "python",
   "name": "python3"
  },
  "language_info": {
   "codemirror_mode": {
    "name": "ipython",
    "version": 3
   },
   "file_extension": ".py",
   "mimetype": "text/x-python",
   "name": "python",
   "nbconvert_exporter": "python",
   "pygments_lexer": "ipython3",
   "version": "3.7.7"
  }
 },
 "nbformat": 4,
 "nbformat_minor": 4
}
