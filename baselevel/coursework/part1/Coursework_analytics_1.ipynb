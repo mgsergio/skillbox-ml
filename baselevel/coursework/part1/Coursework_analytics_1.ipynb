{
 "cells": [
  {
   "cell_type": "markdown",
   "metadata": {},
   "source": [
    "# Курсовая работа. Блок 1\n",
    "*Pandas и Matplotlib*\n",
    "\n",
    "**NB!** Код должен быть с комментариями к каждому логическому блоку кода. В противном случае работа **не** будет принята. <br><br>\n",
    "Выполнение курсовой работы может потребовать использование дополнительных библиотек. \n",
    "\n",
    "<br><br>\n",
    "**Описание работы:**\n",
    "\n",
    "Перед вами стоит бизнес-задача – на основании имеющихся данных подготовить аналитический отчет, который в дальнейшем поможет продюсерам образовательных программ эффективно выстраивать стратегию по модернизированию и улучшению курсов. В начале отчета предлагается оформить емкий описательный блок по каждому курсу на основании рассчитанных показателей. Далее предлагается посчитать потенциальную нагрузку на преподавателей, чтобы оценить необходимость расширения штата сотрудников. Затем идет блок из двух пунктов по анализу качества контента курсов, где необходимо выявить проблемные модули, которые, возможно, требуют доработки. Также стоит задача выявить потенциальную сезонность. Наконец, предложено задание для самостоятельной разработки метрики успеваемости студентов для нахождения тех, кто значительно хуже справляются с прохождением курса. Каждый из пунктов анализа предполагается сопроводить аналитическим выводом на основании рассчитанных метрик.\n",
    "\n",
    "<br><br>\n",
    "\n",
    "_________\n",
    "Обозначения:<br><br>\n",
    "&nbsp;&nbsp;&nbsp;&nbsp;**(p)** – задание может быть выполнено после прохождения модулей по Pandas <br>\n",
    "&nbsp;&nbsp;&nbsp;&nbsp;**(m)** – задание может быть выполнено после прохождения модуля по Matplotlib <br>\n",
    "&nbsp;&nbsp;&nbsp;&nbsp;⭐ – необязательное задание повышенной сложности\n",
    "_________\n",
    "\n",
    "[Codebook](#Codebook) <br>\n",
    "[1. Описание и начальная работа с данными](#1.1-Описание-и-начальная-работа-с-данными)<br>\n",
    "[2. Расчет потенциальной нагрузки на преподавателей](#2.-Расчет-потенциальной-нагрузки-на-преподавателей)<br>\n",
    "[3. Выявление проблемных модулей](#3.-Выявление-проблемных-модулей)<br>\n",
    "[4. Расчет конверсии](#4.-Расчет-конверсии) <br>\n",
    "[5. Метрика успеваемости ](#5.-Метрика-успеваемости)"
   ]
  },
  {
   "cell_type": "markdown",
   "metadata": {},
   "source": [
    "## Codebook\n",
    "\n",
    "`courses.csv` содержит следующие значения: <br><br>\n",
    "&nbsp;&nbsp;&nbsp;&nbsp; `id` – идентификатор курса <br>\n",
    "&nbsp;&nbsp;&nbsp;&nbsp; `title` – название курса <br>\n",
    "&nbsp;&nbsp;&nbsp;&nbsp;  `field` – сфера, к которой относится курс <br> <br><br>\n",
    "`students.csv` содержит следующие значения: <br><br>\n",
    "&nbsp;&nbsp;&nbsp;&nbsp; `id` – идентификатор студента <br>\n",
    "&nbsp;&nbsp;&nbsp;&nbsp; `city` – город студента <br>\n",
    "&nbsp;&nbsp;&nbsp;&nbsp;  `birthday` – день рождения студента <br> <br><br>\n",
    "`course_contents.csv` содержит следующие значения: <br><br>\n",
    "&nbsp;&nbsp;&nbsp;&nbsp; `course_id` – идентификатор курса <br>\n",
    "&nbsp;&nbsp;&nbsp;&nbsp; `module_number` – номер модуля <br>\n",
    "&nbsp;&nbsp;&nbsp;&nbsp;  `module_title` – название модуля <br> \n",
    "&nbsp;&nbsp;&nbsp;&nbsp; `lesson_number` – номер урока <br>\n",
    "&nbsp;&nbsp;&nbsp;&nbsp;  `lesson_title` – название урока <br>\n",
    "&nbsp;&nbsp;&nbsp;&nbsp;  `lesson_token` – токен урока <br> \n",
    "&nbsp;&nbsp;&nbsp;&nbsp; `is_video` – наличие видео *(true/false)* <br>\n",
    "&nbsp;&nbsp;&nbsp;&nbsp;  `is_homework` – наличие домашней работы *(true/false)* <br>\n",
    "<br><br>\n",
    "`progresses.csv` содержит следующие значения: <br><br>\n",
    "&nbsp;&nbsp;&nbsp;&nbsp; `id` – идентификатор прогресса <br>\n",
    "&nbsp;&nbsp;&nbsp;&nbsp; `student_id` – идентификатор студента <br>\n",
    "&nbsp;&nbsp;&nbsp;&nbsp;  `course_id` – идентификатор курса <br> <br><br>\n",
    "`progress_phases.csv` содержит следующие значения: <br><br>\n",
    "&nbsp;&nbsp;&nbsp;&nbsp; `progress_id` – идентификатор прогресса <br>\n",
    "&nbsp;&nbsp;&nbsp;&nbsp; `module_number` – номер модуля <br>\n",
    "&nbsp;&nbsp;&nbsp;&nbsp; `lesson_number` – номер урока <br>\n",
    "&nbsp;&nbsp;&nbsp;&nbsp;  `status` – статус прохождения урока <br>\n",
    "&nbsp;&nbsp;&nbsp;&nbsp;  `start_date` – дата начала <br> \n",
    "&nbsp;&nbsp;&nbsp;&nbsp; `finish_date` – дата окончания <br>\n",
    "<br><br>"
   ]
  },
  {
   "cell_type": "markdown",
   "metadata": {},
   "source": [
    "## 1. Описание и начальная работа с данными\n",
    "\n",
    "Вам необходимо подготовить данные и описать их. Данные реальные и содержат пропущенные значения, а также лишние относительно друг друга данные. <br>\n",
    "\n",
    "Объедините датасеты (кроме `students.scv`) в один общий для дальнейшей работы. Отдельный датасет создайте для расчета среднего возраста студентов курсов (отдельный датасет со `students.scv` нужен, чтобы в основном не потерять значения в основном датасете из-за того, что не по всем студентам есть анкетные данные о дате рождения). <br> <br>\n",
    "Опишите данные: <br>\n",
    "1. **(p)** Посчитайте\n",
    "      * общее количество курсов в датасете, \n",
    "      * количество модулей на каждом курсе, \n",
    "      * количество уроков в каждом модуле на каждом курсе, \n",
    "      * медианное количество уроков в модуле на каждом курсе, \n",
    "      * количество учеников на каждом курсе\n",
    "      * минимальный, максимальный, средний, медианный возраст студентов\n",
    "      * минимальный, максимальный, средний, медианный возраст студентов на каждом курсе\n",
    "2. **(m)** Постройте bar-chart, отражающий количество студентов на каждом курсе. Ticks нужно развернуть так, чтобы они были читаемы\n",
    "3. **(m)** Постройте горизонтальный (столбцы должны располагаться горизонтально) bar-chart, отражающий количество студентов на каждом курсе. График должен иметь заголовок. Значения должны быть отсортированы. Цвет столбцов должен содержать информацию о сфере, к которой относится курс (то есть нужна легенда). Прозрачность должна стоять на отметке 0.1. На график должна быть нанесена линия медианы. У медианы должен быть свой цвет. Рамки у графика быть не должно ⭐\n",
    "4.     На основании рассчитанных значений опишите данные (описание должно быть полным и покрывать все полученные выше метрики)\n",
    "\n",
    "_____________________________________________________________________\n"
   ]
  },
  {
   "cell_type": "markdown",
   "metadata": {},
   "source": [
    "Для того, чтобы проверить, что вы правильно соединили все датасеты в основной (без `students.csv`), запустите аналогичный приведенному ниже запрос. Выдача должна совпадать. Имейте в виду, что названия некоторых столбцов были переименованы."
   ]
  },
  {
   "cell_type": "code",
   "execution_count": null,
   "metadata": {},
   "outputs": [],
   "source": [
    "# main[main.student_id == '768c2987a744c51ce64a5993a2a94eaf'] # проверка основного датасета"
   ]
  },
  {
   "cell_type": "code",
   "execution_count": null,
   "metadata": {},
   "outputs": [],
   "source": [
    "import pandas as pd\n",
    "import numpy as np\n",
    "import matplotlib.pyplot as plt"
   ]
  },
  {
   "cell_type": "code",
   "execution_count": null,
   "metadata": {},
   "outputs": [],
   "source": [
    "plt.rcParams.update({\n",
    "    'figure.figsize': [12, 8],\n",
    "    'figure.titlesize': 'medium',\n",
    "\n",
    "    'font.size': 12,\n",
    "    'legend.fontsize': 'large',\n",
    "    \n",
    "    'axes.spines.bottom': False,\n",
    "    'axes.spines.left': False,\n",
    "    'axes.spines.right': False,\n",
    "    'axes.spines.top': False,\n",
    "})\n",
    "\n",
    "colors = plt.rcParams['axes.prop_cycle'].by_key()['color']\n",
    "# plt.rcParams.keys()"
   ]
  },
  {
   "cell_type": "code",
   "execution_count": null,
   "metadata": {},
   "outputs": [],
   "source": [
    "students = pd.read_csv('Data/students.csv', )\n",
    "courses = pd.read_csv('Data/courses.csv', usecols=[1, 2, 3])  # read courses ignoring index column\n",
    "course_contents = pd.read_csv('Data/course_contents.csv')\n",
    "progresses = pd.read_csv('Data/progresses.csv')\n",
    "progress_phases = pd.read_csv('Data/progress_phases.csv', parse_dates=['start_date', 'finish_date'])"
   ]
  },
  {
   "cell_type": "code",
   "execution_count": null,
   "metadata": {},
   "outputs": [],
   "source": [
    "courses_merged = courses.merge(\n",
    "    course_contents, \n",
    "    left_on='id', \n",
    "    right_on='course_id', \n",
    "    how='right'\n",
    ").drop('id', axis=1)\n",
    "\n",
    "progress_merged = progress_phases.merge(\n",
    "    progresses, \n",
    "    left_on='progress_id', \n",
    "    right_on='id'\n",
    ").drop('id', axis=1)\n",
    "\n",
    "main = progress_merged.merge(\n",
    "    courses_merged, \n",
    "    on=['course_id', 'module_number', 'lesson_number']\n",
    ")\n",
    "main.head()"
   ]
  },
  {
   "cell_type": "code",
   "execution_count": null,
   "metadata": {},
   "outputs": [],
   "source": [
    "# Let's check our main agains the given example\n",
    "main.query(\"student_id == '768c2987a744c51ce64a5993a2a94eaf'\")  # Looks like it works!"
   ]
  },
  {
   "cell_type": "code",
   "execution_count": null,
   "metadata": {},
   "outputs": [],
   "source": [
    "ncourses = main.course_id.nunique()\n",
    "\n",
    "modules_per_course = (\n",
    "    main\n",
    "    .pivot_table(\n",
    "        index=['title'],\n",
    "        aggfunc={'module_number': 'max'}\n",
    "    )\n",
    "    .sort_values('module_number')\n",
    ")\n",
    "\n",
    "lessons_per_module_per_course = (\n",
    "    main\n",
    "    .pivot_table(\n",
    "        index=['title', 'module_title'],\n",
    "        aggfunc={'lesson_number': 'max'}\n",
    "    )\n",
    ")\n",
    "\n",
    "median_lessons_per_module_per_course = (\n",
    "    lessons_per_module_per_course\n",
    "    .pivot_table(\n",
    "        index=['title'],\n",
    "        aggfunc={'lesson_number': 'median'}\n",
    "    )\n",
    ")\n",
    "\n",
    "students_per_course = (\n",
    "    main\n",
    "    .pivot_table(\n",
    "        index=['course_id', 'title'], \n",
    "        aggfunc={'student_id': 'size'}\n",
    "    )\n",
    "    .rename(columns={'student_id': 'students_number'})\n",
    ")"
   ]
  },
  {
   "cell_type": "code",
   "execution_count": null,
   "metadata": {
    "tags": []
   },
   "outputs": [],
   "source": [
    "print('Коллечество модулей на каждм курсе:')\n",
    "display(modules_per_course.reset_index())\n",
    "\n",
    "print('\\n\\nМедиана и среднее:')\n",
    "display(modules_per_course.module_number.agg(['median', 'mean']))\n"
   ]
  },
  {
   "cell_type": "markdown",
   "metadata": {},
   "source": [
    "Количество муодулей по курсам распределено неравномерно: существует ступенька в 6 (и более) модулей между некоторыми курсами. Медиана — 17 модулей, а среднее — 15. Либо курсы с числом модуелй в 11 и меньше простые, либо стоит задуматься о том, чтобы разбить их на большее число модулей."
   ]
  },
  {
   "cell_type": "code",
   "execution_count": null,
   "metadata": {},
   "outputs": [],
   "source": [
    "hist = (\n",
    "    lessons_per_module_per_course\n",
    "    .lesson_number\n",
    "    .value_counts()\n",
    "    .sort_index()\n",
    ")\n",
    "\n",
    "ax = hist.plot.bar(rot=0, alpha=.6)\n",
    "meidan = ax.axvline(x=lessons_per_module_per_course.lesson_number.median() - 1,\n",
    "                    c=colors[1], label='median')\n",
    "mean = ax.axvline(x=lessons_per_module_per_course.lesson_number.mean() - 1, \n",
    "                  c=colors[2], label='mean')\n",
    "ax.legend();\n",
    "ax.grid(axis='y')"
   ]
  },
  {
   "cell_type": "markdown",
   "metadata": {},
   "source": [
    "Основная масса модулей состоит из количества уроков не прывышающего 7. Довольно много модулей с одним-двумя уроками. Это могут быть вводные и ознакомительные модули (нужен дополнительный анализ). Есть 6 модулей с количеством уроков 15 и более, и такие модули уникальны по количеству уроков. \n",
    "\n",
    "Посмотрим на них:"
   ]
  },
  {
   "cell_type": "code",
   "execution_count": null,
   "metadata": {},
   "outputs": [],
   "source": [
    "lessons_per_module_per_course.query('lesson_number >= 15').droplevel(0)"
   ]
  },
  {
   "cell_type": "markdown",
   "metadata": {},
   "source": [
    "В курсе «Java-разработчик c нуля» всего 9 модулей, что в два раза меньше медианы по данному параметру, \n",
    "а количество уроков на модуль в этом курсе больше среднего более чем в 3 раза. Кажется, что стоит разбить модули\n",
    "«Работа с файлами и сетью» и «Числа, строки и даты» хотя бы на 3 модуля каждый.\n",
    "\n",
    "Курс «Интернет-маркетолог от Ingate» выглядит довольно сложным, ибо в нем 4 модуля, количество уроков в которых превышает средние показатели более чем в 3 раза. Также этот курс является рекордсменом по количеству уроков на модуль. Думаю, что его модули тоже стоит разбить на несколлько или сам курс разбить на две части."
   ]
  },
  {
   "cell_type": "code",
   "execution_count": null,
   "metadata": {},
   "outputs": [],
   "source": [
    "def calculate_age(birthday):\n",
    "    today = pd.Timestamp.today()\n",
    "    age = (today - birthday) // pd.Timedelta('1y')\n",
    "    return age\n",
    "\n",
    "students.birthday = pd.to_datetime(students.birthday, errors='coerce')\n",
    "students['age'] = students.birthday.apply(calculate_age)\n",
    "\n",
    "students.age.agg(['min', 'max', 'mean', 'median'])"
   ]
  },
  {
   "cell_type": "markdown",
   "metadata": {},
   "source": [
    "В графе birthday много мусора, надо почистить."
   ]
  },
  {
   "cell_type": "code",
   "execution_count": null,
   "metadata": {},
   "outputs": [],
   "source": [
    "students_with_age = students.dropna(subset=['age'])\n",
    "\n",
    "# There are lots of garbage in birthday field, so age is also spoiled.\n",
    "# Let's fix it the way boxplot is using.\n",
    "q2 = students_with_age.age.quantile(0.25)\n",
    "q3 = students_with_age.age.quantile(0.75)\n",
    "median = students_with_age.age.median()\n",
    "\n",
    "intr = q3 - q2\n",
    "min_age = median - 1.6 * intr\n",
    "max_age = median + 2.8 * intr  # I'm gonna cheat a bit since I guess that students over 50 are more likelly than below 14.\n",
    "\n",
    "sane_age_students = students_with_age.query(f'{min_age} <= age <= {max_age}')\n",
    "sane_age_students.age.agg(['min', 'max', 'mean', 'median'])"
   ]
  },
  {
   "cell_type": "markdown",
   "metadata": {},
   "source": [
    "Так выглядит намного лучше. Посмотрим, сколько данных пришлось отсеить."
   ]
  },
  {
   "cell_type": "code",
   "execution_count": null,
   "metadata": {},
   "outputs": [],
   "source": [
    " 1 - (sane_age_students.age.count() / students_with_age.shape[0])"
   ]
  },
  {
   "cell_type": "markdown",
   "metadata": {},
   "source": [
    "Чуть меньше процента. Пришлось немного сжульничать с правой границей «ящика», ибо судентов возрастом за 50 достаточно, чтобы нельзя было ими пренебречь."
   ]
  },
  {
   "cell_type": "code",
   "execution_count": null,
   "metadata": {},
   "outputs": [],
   "source": [
    "ax = sane_age_students.age.hist(bins=20, alpha=.8, rwidth=0.96);\n",
    "ax.grid(axis='x')"
   ]
  },
  {
   "cell_type": "markdown",
   "metadata": {},
   "source": [
    "Основная масса студентов находится в возрасте от 25 до 38 лет с преобладанием возраста от 25 до 26. Сложно доверять данным о возрасте до 20 и после 50, так как в поле дата рождения много мусора, насколько честно его очищать метом ящика — вопрос, требующий дополнительного анализа. "
   ]
  },
  {
   "cell_type": "code",
   "execution_count": null,
   "metadata": {},
   "outputs": [],
   "source": [
    "students_cources_with_age = (\n",
    "    main[['title', 'student_id']]\n",
    "    .merge(sane_age_students, left_on='student_id', right_on='id')\n",
    ")\n",
    "\n",
    "# Set's see what we've got...\n",
    "(\n",
    "    students_cources_with_age\n",
    "    .groupby('title')\n",
    "    .agg({'age': ['min', 'max', 'mean', 'median']})\n",
    "    .droplevel(0, axis=1)\n",
    "    .sort_values('median')\n",
    ")"
   ]
  },
  {
   "cell_type": "markdown",
   "metadata": {},
   "source": [
    "Из таблицы выше видно, что веб-дизайн и веб-разработка — самые молодые области. А в excel до 33 лет ковыряться никто не хочет😁 (не воспринимать буквально)."
   ]
  },
  {
   "cell_type": "code",
   "execution_count": null,
   "metadata": {},
   "outputs": [],
   "source": [
    "# Let's plot student number per course and add lots ans lots of fanciness.\n",
    "\n",
    "from matplotlib.cm import get_cmap\n",
    "from matplotlib.patches import Patch\n",
    "\n",
    "cmap = get_cmap('viridis')\n",
    "\n",
    "# Sort values.\n",
    "students_per_course_sorted = (\n",
    "    students_per_course\n",
    "    .sort_values('students_number')\n",
    "    .reset_index()\n",
    ")\n",
    "\n",
    "# Let's have courses' fields collected in the correct order.\n",
    "course_fields = students_per_course_sorted.merge(\n",
    "    courses[['id', 'field']], \n",
    "    left_on='course_id', \n",
    "    right_on='id'\n",
    ").field\n",
    "\n",
    "# Assign colors for fields\n",
    "all_fields = course_fields.unique()\n",
    "field_color = pd.Series(\n",
    "    np.linspace(0, 1, len(all_fields)), \n",
    "    index=all_fields\n",
    ")\n",
    "\n",
    "alpha = .1\n",
    "courses_colors = [\n",
    "    cmap(field_color[f], alpha=alpha) \n",
    "    for f in course_fields\n",
    "]\n",
    "\n",
    "legend_handles = [\n",
    "    Patch(color=cmap(c, alpha=alpha), label=f) \n",
    "    for f, c in field_color.items()\n",
    "]\n",
    "\n",
    "# Actually plot, finally\n",
    "fix, ax = plt.subplots()\n",
    "( \n",
    "    students_per_course_sorted\n",
    "    .set_index('title')\n",
    "    .students_number\n",
    "    .plot.bar(\n",
    "        ax=ax, \n",
    "        legend=None, \n",
    "        yticks=np.linspace(students_per_course.students_number.min(), \n",
    "                           students_per_course.students_number.max(), \n",
    "                           10),\n",
    "        color=courses_colors\n",
    "    )\n",
    ")\n",
    "\n",
    "median = students_per_course.students_number.median()\n",
    "median_line = ax.axhline(y=median, label=f'median {median}')\n",
    "\n",
    "plt.setp(ax.get_xticklabels(), rotation=45, ha='right');\n",
    "\n",
    "ax.set_title('Количество студентов на курсах')\n",
    "ax.set_xlabel(None)\n",
    "\n",
    "ax.legend(handles=legend_handles + [median_line])\n",
    "\n",
    "ax.grid(axis='y')"
   ]
  },
  {
   "cell_type": "markdown",
   "metadata": {},
   "source": [
    "Судя по графику, на платформе существуют «legacy» (устаревшие) курсы, например, «Веб-дизайн базовый»; или просто маркетинг этого курса намного\n",
    "слабее, чем курса «Веб-дизай с нуля 2.0». Тоже можно сказать про «SMM-маркетолог от А до Я» и «Интернет-маркетолог от Ingate».\n",
    "\n",
    "«Интернет-маркетолог от Ingate» и «Веб-дизай с нуля 2.0» уходят в нереальный отрыв от остальных курсов по популярности, то ли это хайп, то ли технология продажи этих курсов сияет во всю."
   ]
  },
  {
   "cell_type": "code",
   "execution_count": null,
   "metadata": {},
   "outputs": [],
   "source": [
    "fix, ax = plt.subplots(figsize=(15, 10))\n",
    "( \n",
    "    students_per_course_sorted\n",
    "    .set_index('title')\n",
    "    .students_number\n",
    "    .plot.barh(\n",
    "        ax=ax, \n",
    "        legend=None, \n",
    "        xticks=np.linspace(students_per_course.students_number.min(), \n",
    "                           students_per_course.students_number.max(), \n",
    "                           10),\n",
    "        color=courses_colors\n",
    "    )\n",
    ")\n",
    "\n",
    "median = students_per_course.students_number.median()\n",
    "median_line = ax.axvline(x=median, label=f'median {median}')\n",
    "\n",
    "ax.set_title('Количество студентов на курсах')\n",
    "ax.set_ylabel(None)\n",
    "\n",
    "ax.legend(handles=legend_handles + [median_line])\n",
    "\n",
    "ax.grid(axis='x')"
   ]
  },
  {
   "cell_type": "markdown",
   "metadata": {},
   "source": [
    "## 2. Расчет потенциальной нагрузки на преподавателей\n",
    "\n",
    "1. **(p)** Рассчитать прирост студентов на каждом курсе в каждом месяце за всю историю (каждый месяц в диапазоне от марта 2016 до июля 2019 включительно). Считать дату начала прохождения курса студентом по дате начала первой домашней работы.\n",
    "2. **(m)** На основании первого пункта построить line-graph с приростом студентов в каждом месяце для каждого курса. 15 графиков. Графики должны иметь заголовки, оси должны быть подписаны. Ticks нужно развернуть так, чтобы они были читаемы.\n",
    "3. **(m)** На основании первого пункта построить line-graph с несколькими линиями, отражающими прирост студентов в каждом месяце для каждого курса. 15 линий на графике. Ticks нужно развернуть так, чтобы они были читаемы. График должен иметь заголовок. Ось, отражающая прирост, должна быть подписана. Линия для каждого курса должна иметь свой цвет (нужна легенда). Рамок у графика быть не должно ⭐\n",
    "4. **(p)** Рассчитать количество прогрессов по выполнению домашних работ в каждом месяце за всю историю (каждый месяц в диапазоне от марта 2016 до июля 2019 включительно) для каждого курса. Учитывать, что выполнение домашнего задания может перетекать из одного месяца в другой (такие дз надо включать в общее число прогрессов для всех месяцев, которые покрывает срок выполнения этих дз)\n",
    "5. **(m)** Построить line-graph по четвертому пункту. 15 графиков. Графики должны иметь заголовки, оси должны быть подписаны. Ticks нужно развернуть так, чтобы они были читаемы\n",
    "6. **(m)** Построить один line-graph для всех курсов по четвертому пункту. 15 линий на графике. Ticks нужно развернуть так, чтобы они были читаемы. График должен иметь заголовок. Ось, отражающая количество прогрессов, должна быть подписана. Линия для каждого курса должна иметь свой цвет (нужна легенда). Рамок у графика быть не должно ⭐\n",
    "7. На основании рассчитанных значений сделайте аналитический вывод (должен быть полным и покрывать все полученные выше метрики)"
   ]
  },
  {
   "cell_type": "code",
   "execution_count": null,
   "metadata": {},
   "outputs": [],
   "source": [
    "def plot_df_subplots(df, xlabel, ylabel, rot,\n",
    "                     sharex=False, \n",
    "                     sharey='row', \n",
    "                     legend=False, \n",
    "                     figsize=(15, 25), \n",
    "                     grid=True):\n",
    "    \n",
    "    xticks=np.arange(1, len(df.index) + 1, 2)\n",
    "    title=df.columns.to_list()\n",
    "\n",
    "    df.plot.line(\n",
    "        figsize=figsize,\n",
    "        \n",
    "        subplots=True, \n",
    "        layout=(5, 3),\n",
    "\n",
    "        title=title,\n",
    "        legend=legend,\n",
    "        \n",
    "        xticks=xticks,\n",
    "        xlabel=xlabel,\n",
    "        sharex=sharex,\n",
    "        rot=rot,\n",
    "        \n",
    "        ylabel=ylabel,\n",
    "        sharey=sharey,\n",
    "        \n",
    "        grid=grid\n",
    "    )\n",
    "\n",
    "    plt.tight_layout()\n"
   ]
  },
  {
   "cell_type": "code",
   "execution_count": null,
   "metadata": {},
   "outputs": [],
   "source": [
    "student_stats = (\n",
    "    main\n",
    "    .query('is_homework == True')\n",
    "    .sort_values(['title', 'student_id', 'start_date', 'finish_date'])\n",
    "    .groupby(['title', 'student_id'])\n",
    "    .agg(lambda x: x.iloc[0])\n",
    "    .reset_index()\n",
    "    [['title', 'student_id', 'start_date', 'finish_date']]\n",
    ")\n",
    "student_stats['start_year_month'] = student_stats.start_date.dt.strftime('%Y-%m')\n",
    "student_stats['finish_year_month'] = student_stats.finish_date.dt.strftime('%Y-%m')"
   ]
  },
  {
   "cell_type": "code",
   "execution_count": null,
   "metadata": {},
   "outputs": [],
   "source": [
    "students_grouth = (\n",
    "    student_stats.pivot_table(\n",
    "        index='start_year_month',\n",
    "        columns='title',\n",
    "        aggfunc={'student_id': 'size'}\n",
    "    )\n",
    "    .droplevel(0, axis=1)\n",
    "    .fillna(0)  # Getting rid of gaps for months with zero impact.\n",
    ")"
   ]
  },
  {
   "cell_type": "code",
   "execution_count": null,
   "metadata": {},
   "outputs": [],
   "source": [
    "plot_df_subplots(students_grouth, xlabel='Месяц', ylabel='Прирост студентов', rot=45)"
   ]
  },
  {
   "cell_type": "markdown",
   "metadata": {},
   "source": [
    "1. Нисходящий тренд к концу срока почти по всем курсам. Возможно дело в том, что летом учиться никто не хочет :)\n",
    "1. Курс «Веб-дизайн базовый» умер.\n",
    "1. Курс «Веб-разработчик» лежит в той же палате, откуда недавно увезли «Веб-дизайн базовый».\n",
    "1. «Анимация интерфейсов» держится, однако рискует стать соседом «Веб-разработчик».\n",
    "1. К группе риска также присоединяется «Java разработчик», некогда здоровый и бодрый внезапно начал кашлить кровбю. Но возможно тут снова вмешалось лето, а сам курс ни при чем.\n",
    "1. Хорошо бы изучить их историю болезни и понять, почему они не выстрелили. Дело в том, как сдела курс, рекламе, или самой теме?\n",
    "1. «Веб-дизайн с нуля 2.0» имеет сильный пик, возможно была удачная рекламная компания.\n",
    "1. Есть подозрение, что курсы рекламируются каждые 2-3 месяцы, на эти мысли наталкивает колебание притока студентов.\n",
    "1. Стоит придумать, как и чем заинтересовать студентов летом, чтобы не падали продажи, и люди продолжали учиться в удовольствие.\n",
    "1. Лучше всех конвертят «Интернет-маркетолог от Ingate», «Веб-дизай с нуля 2.0» и «Веб верстка для начинающих 2.0».\n",
    "1. «Java-разработчик с нуля» начал бодро, однако данных маловато, чтобы за него «ручаться»."
   ]
  },
  {
   "cell_type": "code",
   "execution_count": null,
   "metadata": {},
   "outputs": [],
   "source": [
    "axs = students_grouth.plot.line(\n",
    "    figsize=(20, 10),\n",
    "    xticks=np.arange(1, len(students_grouth.index) + 1),\n",
    "    title='Прирост студентов по месяцам',\n",
    "    style=['-'] * len(colors) + ['--'] * (len(students_grouth.columns) - len(colors)),\n",
    "    sharex=False,\n",
    "    rot=45,\n",
    "    xlabel='Месяц',\n",
    "    ylabel='Прирост студентов',\n",
    "    sharey='row',\n",
    "    grid=True\n",
    ")"
   ]
  },
  {
   "source": [
    "Рассчитаем нагрузку на преподавателей следующим образом:\n",
    "\n",
    "1. посчитаем количество начатых домашек для всех курсов и пар <год, месяц>\n",
    "1. посчитаем количество законченных домашек для всех курсов и пар <год, месяц>\n",
    "1. каждую пару <год, месяц> в предыдущем результате «подвинем» на месяц вперед (это нужно, чтобы домашка, решенная в данный месяц была учтена как нагрузка в этот месяц)\n",
    "1. вычтем количетво решенных домашек из количества начатых для всех курсов и пар <год, месяц>\n",
    "1. посчитаем кумулятивную сумму полученных результатов для каждого курса, используя пары <год, месяц> в качестве индекса\n",
    "\n",
    "Пример:\n",
    "```\n",
    "Месяц начала, Месяц конца\n",
    "1             3\n",
    "1             2\n",
    "1             1\n",
    "2             2\n",
    "2             3\n",
    "3             3\n",
    "\n",
    "Месяц, Домашек начато, Домашек закончено\n",
    "1      3               1\n",
    "2      2               2\n",
    "3      1               3\n",
    "\n",
    "С поправкой на перенос законченных:\n",
    "Месяц, Домашек начато, Домашек закончено\n",
    "1      3               0\n",
    "2      2               1\n",
    "3      1               2\n",
    "\n",
    "Месяц, Разница\n",
    "1      3\n",
    "2      1\n",
    "3      -1\n",
    "\n",
    "Суммируем:\n",
    "Месяц, Нагрузка\n",
    "1      3\n",
    "2      4\n",
    "3      3\n",
    "```"
   ],
   "cell_type": "markdown",
   "metadata": {}
  },
  {
   "cell_type": "code",
   "execution_count": null,
   "metadata": {},
   "outputs": [],
   "source": [
    "homeworks_started = ( \n",
    "    main\n",
    "    .query('is_homework')\n",
    "    [['title', 'start_date']]\n",
    "    .eval('''\n",
    "        year = start_date.dt.year\n",
    "        month = start_date.dt.month\n",
    "        count = 1\n",
    "    ''')\n",
    "    .pivot_table(\n",
    "        index=['title', 'year', 'month'],\n",
    "        aggfunc={\"count\": 'sum'}\n",
    "    )\n",
    ")\n",
    "\n",
    "def advance_month(s):\n",
    "    s.year, s.month = (s.year, s.month + 1) if s.month < 12 else (s.year + 1, 1)\n",
    "    return s\n",
    "\n",
    "homeworks_finished = ( \n",
    "    main\n",
    "    .query('is_homework')\n",
    "    [['title', 'finish_date']]\n",
    "    .eval('''\n",
    "        year = finish_date.dt.year\n",
    "        month = finish_date.dt.month\n",
    "        count = 1\n",
    "    ''')\n",
    "    .pivot_table(\n",
    "        index=['title', 'year', 'month'],\n",
    "        aggfunc={\"count\": 'sum'}\n",
    "    )\n",
    "    .reset_index()\n",
    "    .apply(advance_month, axis=1)\n",
    ")\n",
    "\n",
    "homeworks_per_month = (\n",
    "    homeworks_started.merge(\n",
    "        homeworks_finished,\n",
    "        on=['title', 'year', 'month'],\n",
    "        how='outer',\n",
    "        suffixes=[\"_started\", \"_finished\"]\n",
    "    )\n",
    "    .fillna(0)\n",
    "    .eval('count = count_started - count_finished')\n",
    "    .pivot(\n",
    "        index=['year', 'month'],\n",
    "        columns='title',\n",
    "        values='count'\n",
    "    )\n",
    "    .cumsum()\n",
    "    .fillna(0)\n",
    "\n",
    ")\n",
    "\n",
    "all_dates = (\n",
    "    pd.DataFrame.from_records(\n",
    "        [\n",
    "            {'year': y, 'month': m, 'date': f'{y}, {m:02}'} \n",
    "            for y in range(2016, 2020) \n",
    "            for m in range(1, 13)\n",
    "        ]\n",
    "    )\n",
    "    .query('(year > 2016) | (month >= 3)')\n",
    "    .query('(year < 2019) | (month <= 7)')\n",
    ")\n",
    "\n",
    "homeworks_per_month = (\n",
    "    homeworks_per_month.merge(\n",
    "        all_dates, \n",
    "        on=['year', 'month'],\n",
    "        how='right'\n",
    "    )\n",
    "    .drop(columns=['year', 'month'])\n",
    "    .fillna(0)\n",
    "    .set_index('date')\n",
    ")\n"
   ]
  },
  {
   "cell_type": "code",
   "execution_count": null,
   "metadata": {},
   "outputs": [],
   "source": [
    "plot_df_subplots(homeworks_per_month, xlabel='Месяц', ylabel='Количество домашек в работе', rot=45)"
   ]
  },
  {
   "cell_type": "markdown",
   "metadata": {},
   "source": [
    "Увы, но на этик графика отражена не динамика роста популярности курса, а то, как растет количество невыполненных домашек. Тот факт, \n",
    "что количество невыполненных домашек растет намного быстрее, чем количество новых студентов, говорит о том, что либо студенты отваливаются, либо считают, что видосов достаточно\n",
    "и домашки можно не делать. \n",
    "\n",
    "Возможно стоит подумать, как сделать домашки более привлекательными и интересными для выполнения; придумать систему поощрения в виде ачивок и/или доски славы."
   ]
  },
  {
   "cell_type": "code",
   "execution_count": null,
   "metadata": {},
   "outputs": [],
   "source": [
    "homeworks_per_month.plot.line(\n",
    "    figsize=(20, 10),\n",
    "    xticks=np.arange(1, len(homeworks_per_month.index) + 1),\n",
    "    title='Количество домашек в работе по месяцам',\n",
    "    style=['-'] * len(colors) + ['--'] * (len(homeworks_per_month.columns) - len(colors)),\n",
    "    sharex=False,\n",
    "    rot=45,\n",
    "    xlabel='Месяц',\n",
    "    ylabel='Количество домашек в работе',\n",
    "    sharey='row',\n",
    "    grid=True\n",
    ")"
   ]
  },
  {
   "cell_type": "markdown",
   "metadata": {},
   "source": [
    "## 3. Выявление проблемных модулей\n",
    "\n",
    "1. **(p)** Рассчитать минимальное, максимальное, среднее, медианное время прохождения каждого модуля (разность между временем начала и окончания выполнения домашней работы) для каждого курса. Если домашних заданий в модуле несколько, то считать разность между временем начала выполнения первой домашней работы и временем окончания выполнения последней домашней работы в модуле\n",
    "2. **(m)** На основании первого пункта построить line-graph с медианным временем прохождения каждого модуля для каждого курса. 15 графиков. Графики должны иметь заголовки\n",
    "3. **(p)**  Чтобы выявить сезонность, посчитать медианное время выполнения домашней работы по месяцам (12 месяцев, январь-декабрь) для каждого курса. \n",
    "4. **(m)** На основании третьего пункта построить line-graph, на который будут нанесены линии для каждого курса с медианным временем выполнения домашней работы по месяцам. 15 линий на графике. График должен иметь заголовок. Ось, отражающая время прохождения, должна быть подписана. Линия для каждого курса должна иметь свой цвет (нужна легенда). Рамок у графика быть не должно  ⭐\n",
    "5. На основании рассчитанных значений сделайте аналитический вывод (должен быть полным и покрывать все полученные выше метрики)"
   ]
  },
  {
   "cell_type": "code",
   "execution_count": null,
   "metadata": {},
   "outputs": [],
   "source": [
    "# Broken or strange records. Not to much luckelly.\n",
    "len(main.query('(is_homework == True) & (start_date > finish_date)'))"
   ]
  },
  {
   "cell_type": "code",
   "execution_count": null,
   "metadata": {},
   "outputs": [],
   "source": [
    "### YOUR CODE HERE ###\n",
    "module_progress = (\n",
    "    main\n",
    "    # Take only homework module with valid finish date which is greater then start_date.\n",
    "    .query('(is_homework == True) & (not finish_date.isnull()) & (start_date < finish_date)')\n",
    "    .sort_values(['module_number', 'lesson_number'])\n",
    "    .groupby(['title', 'module_number', 'student_id'])\n",
    "    .apply(lambda x: x['finish_date'].max() - x['start_date'].min())\n",
    ")\n",
    "module_progress\n"
   ]
  },
  {
   "cell_type": "code",
   "execution_count": null,
   "metadata": {},
   "outputs": [],
   "source": [
    "module_progress_stats = (\n",
    "    module_progress\n",
    "    .groupby(level=[0, 1]).agg([\n",
    "        pd.Series.min, \n",
    "        pd.Series.max,\n",
    "        pd.Series.mean,\n",
    "        pd.Series.median\n",
    "    ])\n",
    ")\n",
    "module_progress_stats"
   ]
  },
  {
   "cell_type": "code",
   "execution_count": null,
   "metadata": {},
   "outputs": [],
   "source": [
    "module_progress_stats.agg({'min': 'min', 'max': 'max'})"
   ]
  },
  {
   "cell_type": "code",
   "execution_count": null,
   "metadata": {},
   "outputs": [],
   "source": [
    "module_progress_plot = ( \n",
    "    module_progress_stats\n",
    "    .reset_index()\n",
    "    .eval('median = median.dt.days')\n",
    "    .pivot(\n",
    "        index=['module_number'], \n",
    "        columns='title', \n",
    "        values='median'\n",
    "    )\n",
    ")\n",
    "\n",
    "plot_df_subplots(module_progress_plot, xlabel='Номер модуля', ylabel='Медиана времени прохождения модуля', rot=0)"
   ]
  },
  {
   "cell_type": "code",
   "execution_count": null,
   "metadata": {},
   "outputs": [],
   "source": [
    "sane_homeworks = main.query(\n",
    "    '(is_homework == True) & (not finish_date.isnull()) & (start_date < finish_date)'\n",
    ")\n",
    "\n",
    "homework_duration = (\n",
    "    sane_homeworks\n",
    "    .eval(\n",
    "        '''\n",
    "        homework_duration = (finish_date - start_date).dt.days\n",
    "        start_month = start_date.dt.month\n",
    "        finish_month = finish_date.dt.month\n",
    "        ''')\n",
    "    .query('homework_duration < 30')\n",
    "#    [['title', 'homework_duration', 'start_month', 'finish_month']]\n",
    ")"
   ]
  },
  {
   "cell_type": "code",
   "execution_count": null,
   "metadata": {},
   "outputs": [],
   "source": [
    "homework_duration_start = (\n",
    "    homework_duration.pivot_table(\n",
    "        index='start_month',\n",
    "        columns='title',\n",
    "        values='homework_duration',\n",
    "        aggfunc=pd.Series.median\n",
    "    )\n",
    ")\n",
    "homework_duration_start"
   ]
  },
  {
   "cell_type": "code",
   "execution_count": null,
   "metadata": {},
   "outputs": [],
   "source": [
    "homework_duration_start.plot.line(\n",
    "    figsize=(20, 10),\n",
    "    xticks=np.arange(1, len(homework_duration_start.index) + 1),\n",
    "    title='Медианное время выполнения домашек по месяцам',\n",
    "    style=['-'] * len(colors) + ['--'] * (len(homework_duration_start.columns) - len(colors)),\n",
    "    sharex=False,\n",
    "    xlabel='Месяц',\n",
    "    ylabel='Медиана временм выполнения домашек',\n",
    "    sharey='row',\n",
    "    grid=True\n",
    ");"
   ]
  },
  {
   "cell_type": "markdown",
   "metadata": {},
   "source": [
    "На таком графике ничего не видно. Можно попробовать построить медиану (или сумму медиан) времни выполнения домашки по всем курсам разом, а не по каждому. И 15 линий на одном графике довольно плохо читаются."
   ]
  },
  {
   "cell_type": "code",
   "execution_count": null,
   "metadata": {},
   "outputs": [],
   "source": [
    "plot_df_subplots(homework_duration_start, xlabel='Месяц', ylabel='Медиана времени выполнения домашек', rot=0)"
   ]
  },
  {
   "cell_type": "code",
   "execution_count": null,
   "metadata": {},
   "outputs": [],
   "source": [
    "homework_duration_start.sum(axis=1).plot.line(\n",
    "    xticks=np.arange(1, len(homework_duration_start.index) + 1),\n",
    "    title='Сумма медиан время выполнения домашек по месяцам',\n",
    "    style=['-'] * len(colors) + ['--'] * (len(homework_duration_start.columns) - len(colors)),\n",
    "#     sharex=False,\n",
    "    xlabel='Месяц',\n",
    "#     ylabel='Медиана временм выполнения домашек',\n",
    "#     sharey='row',\n",
    "    grid=True\n",
    ");"
   ]
  },
  {
   "cell_type": "code",
   "execution_count": null,
   "metadata": {},
   "outputs": [],
   "source": [
    "homework_duration_start_all = (\n",
    "    homework_duration.pivot_table(\n",
    "        index='start_month',\n",
    "        values='homework_duration',\n",
    "        aggfunc=pd.Series.median\n",
    "    )\n",
    ")\n",
    "\n",
    "homework_duration_finish_all = (\n",
    "    homework_duration.pivot_table(\n",
    "        index='finish_month',\n",
    "        values='homework_duration',\n",
    "        aggfunc=pd.Series.median\n",
    "    )\n",
    ")\n",
    "\n",
    "homework_duration_all = (\n",
    "    homework_duration_start_all.join(\n",
    "        homework_duration_finish_all,\n",
    "        how='outer',\n",
    "        lsuffix='_start',\n",
    "        rsuffix='_finish'\n",
    "    )\n",
    ")\n",
    "\n",
    "# homework_duration_all\n",
    "homework_duration_all.plot.line(\n",
    "    xticks=np.arange(1, len(homework_duration_all.index) + 1),\n",
    "    title='Медианное время выполнения домашек по месяцам',\n",
    "    style=['-'] * len(colors) + ['--'] * (len(homework_duration_all.columns) - len(colors)),\n",
    "    sharex=False,\n",
    "    xlabel='Месяц',\n",
    "    ylabel='Медиана временм выполнения домашек',\n",
    "    sharey='row',\n",
    "    grid=True\n",
    ");"
   ]
  },
  {
   "cell_type": "markdown",
   "metadata": {},
   "source": [
    "По графику видно, что есть зависимость времени выполнения домашки от месяца, однако дать какое-то объяснения, основываясь только на этом графике,\n",
    "сложно.\n",
    "\n",
    "Гипотезы:\n",
    "\n",
    "1. В илюле домашки начинают делать только задроты, поэтому время выполнения такое маленькое.\n",
    "1. Курсы всегда начинаются в одно время и время выполнения домашки связано с увеличением/уменьшением сложности материала. (Скорее всего неверно и легко проверить)\n",
    "1. Более адекватный вариант предыдущей гипотезы: люди чаще начинают в одно и тоже время, и время выполнение домашки меняется по мере усложнения курса или потерей мотивации студентов.\n",
    "1. Рост и падение производительности связаны с жизненным укладом россиян: празжники, школы, институты, отпуска."
   ]
  },
  {
   "cell_type": "code",
   "execution_count": null,
   "metadata": {},
   "outputs": [],
   "source": [
    "courses_stream = (\n",
    "    sane_homeworks\n",
    "    .eval(\n",
    "        '''\n",
    "        month = start_date.dt.month\n",
    "        year = start_date.dt.year\n",
    "        '''\n",
    "    )\n",
    "    .groupby(['year', 'month', 'module_number', 'title'])\n",
    "    .agg('size')\n",
    "    .reset_index()\n",
    "    .rename(columns={0: 'homeworks'})\n",
    ")"
   ]
  },
  {
   "cell_type": "code",
   "execution_count": null,
   "metadata": {},
   "outputs": [],
   "source": [
    "plot_df_subplots(\n",
    "    courses_stream.pivot_table(\n",
    "        index='month',\n",
    "        columns='title',\n",
    "        values='homeworks',\n",
    "        aggfunc='sum'\n",
    "    ),\n",
    "    xlabel='Месяц',\n",
    "    ylabel='Количество студентов',\n",
    "    rot=0\n",
    ")"
   ]
  },
  {
   "cell_type": "code",
   "execution_count": null,
   "metadata": {},
   "outputs": [],
   "source": [
    "plot_df_subplots(\n",
    "    courses_stream.pivot_table(\n",
    "        index='month',\n",
    "        columns='year',\n",
    "        values='homeworks',\n",
    "        aggfunc='sum'\n",
    "    ),\n",
    "    xlabel='Месяц',\n",
    "    ylabel='Количество студентов',\n",
    "    rot=0\n",
    ")"
   ]
  },
  {
   "cell_type": "markdown",
   "metadata": {},
   "source": [
    "По таким данным считать сезонность особого смысла нет, так как мы имеем только один полный год, в котором наблюдается сильный рост, и еще один неполный, в котором виден спад. Для рассчета сезонности хорошо бы иметь данные за несколько полных лет, хотя бы за 3-4 года. \n",
    "\n",
    "Также было бы хорошо исключить из выборки курсы «Веб-дизайн с 0 2.0». «Интернет-маркетолог от Ingate» и «Java-разработчик с нуля», так как они сильно выбиваются из общей картины, вероятно из-за успешных рекламных компаний."
   ]
  },
  {
   "cell_type": "markdown",
   "metadata": {},
   "source": [
    "## 4. Расчет конверсии\n",
    "\n",
    "1. **(p)** Посчитать конверсию перехода студентов из одного модуля в другой на каждом курсе. Формула: отношение количества студентов, приступивших к выполнению домашнего задания в этом модуле (если дз в модуле несколько, то считать по первому дз в модуле), к количеству студентов, сдавших задание в предыдущем модуле (если дз в модуле несколько, то считать по последнему дз в модуле).\n",
    "2. **(m)** Постройте bar-chart, отражающий конверсию перехода студентов из одного модуля в другой на каждом курсе. График должен иметь заголовок. Ticks нужно развернуть так, чтобы они были читаемы\n",
    "3. **(m)** Постройте горизонтальный (столбцы должны располагаться горизонтально) bar-chart, отражающий конверсию перехода студентов из одного модуля в другой на каждом курсе. 15 графиков. Графики должны иметь заголовки. Ticks должны содержать номер и название модуля. Цвет столбцов графиков должен содержать информацию о сфере, к которой относится курс (нужна легенда). Прозрачность должна стоять на отметке 0.1. На графики должна быть нанесена линия медианы конверсии для каждого курса. У медианы должен быть свой цвет. Рамок у графиков быть не должно ⭐\n",
    "4. На основании рассчитанных значений сделайте аналитический вывод (должен быть полным и покрывать все полученные выше метрики)"
   ]
  },
  {
   "cell_type": "code",
   "execution_count": null,
   "metadata": {},
   "outputs": [],
   "source": [
    "# Check that there are modules with more than one homework. Turns out, there are.\n",
    "\n",
    "# np.any((       \n",
    "#     sane_homeworks\n",
    "#     .sort_values(['title', 'student_id', 'module_number'])\n",
    "#     .groupby(['title', 'student_id', 'module_number'])\n",
    "#     .agg(lambda x: len(x)) \n",
    "# ) != 1)"
   ]
  },
  {
   "cell_type": "code",
   "execution_count": null,
   "metadata": {},
   "outputs": [],
   "source": [
    "### YOUR CODE HERE ###\n",
    "homeworks = (\n",
    "    main\n",
    "    .query('is_homework == True')\n",
    "    .eval('is_finished = not finish_date.isnull()')\n",
    "    .sort_values(['title', 'student_id', 'module_number', 'lesson_number'])\n",
    "    [['title', 'student_id', 'module_number', 'is_finished']]\n",
    ")\n",
    "\n",
    "modules_started = (\n",
    "    homeworks\n",
    "    .groupby(['title', 'student_id', 'module_number'])\n",
    "    .agg(lambda x: x.head(1))  # first homework of a module\n",
    "    .reset_index()\n",
    "    # .reset_index(drop=True)\n",
    "    .pivot_table(\n",
    "        index=['title', 'module_number'],\n",
    "        values='student_id',\n",
    "        aggfunc=frozenset\n",
    "        # aggfunc=['count', frozenset]\n",
    "    )\n",
    "    # .droplevel(1, axis=1)\n",
    "    .rename(columns={'student_id': 'students'})\n",
    ")\n",
    "\n",
    "modules_finished = (\n",
    "    homeworks\n",
    "    .groupby(['title', 'student_id', 'module_number'])\n",
    "    .agg(lambda x: x.tail(1))  # last homework of a module\n",
    "    .query('is_finished == True')\n",
    "    .reset_index()\n",
    "    # .reset_index(drop=True)\n",
    "    .pivot_table(\n",
    "        index=['title', 'module_number'],\n",
    "        values='student_id',\n",
    "        aggfunc=frozenset\n",
    "        # aggfunc=['count', frozenset]\n",
    "    )\n",
    "    # .droplevel(1, axis=1)\n",
    "    .rename(columns={'student_id': 'students'})\n",
    ")"
   ]
  },
  {
   "cell_type": "code",
   "execution_count": null,
   "metadata": {},
   "outputs": [],
   "source": [
    "intersect = lambda x, y: x & y\n",
    "emptyset = frozenset()\n",
    "card = len\n",
    "module_conversion = ( \n",
    "    modules_started.join(\n",
    "        modules_finished, \n",
    "        how='outer', \n",
    "        lsuffix='_started',\n",
    "        rsuffix='_finished'\n",
    "    )\n",
    "    .applymap(lambda x: x if isinstance(x, frozenset) else emptyset)\n",
    "    .groupby(level=['title'])\n",
    "    .apply(lambda x: x.eval(\n",
    "        '''\n",
    "        students_finished = students_finished.shift(fill_value=@emptyset)\n",
    "        conversion_naive = students_started.apply(@card) / students_finished.apply(@card)\n",
    "        conversion = students_started.combine(students_finished, @intersect).apply(@card) / students_finished.apply(@card)\n",
    "        '''\n",
    "        )\n",
    "    )\n",
    ")\n",
    "        # students_started = students_started.combine(students_finished, @xor)\n",
    "        # students_finished = students_finished.shift()\n",
    "        # conversion = students_started / students_finished\n",
    "module_conversion"
   ]
  },
  {
   "cell_type": "code",
   "execution_count": null,
   "metadata": {},
   "outputs": [],
   "source": [
    "groups = (\n",
    "    module_conversion[['conversion']]\n",
    "    # .drop(columns=['students_started', 'students_finished'])\n",
    "    .reset_index()\n",
    "    .set_index('module_number')\n",
    "    .query('module_number != 1')\n",
    "    .groupby('title')\n",
    ")\n",
    "\n",
    "# Let's have courses' fields collected in the correct order.\n",
    "course_fields = courses[['title', 'field']].set_index('title').field\n",
    "\n",
    "# Assign colors for fields\n",
    "all_fields = course_fields.unique()\n",
    "field_color = pd.Series(\n",
    "    np.linspace(0, 1, len(all_fields)), \n",
    "    index=all_fields\n",
    ")\n",
    "\n",
    "alpha = .4  # .1 is not lookng very nice so .4 is chosen instead.\n",
    "courses_colors = {\n",
    "    title: cmap(field_color[field], alpha=alpha) \n",
    "    for title, field in course_fields.iteritems()\n",
    "}\n",
    "\n",
    "legend_handles = [\n",
    "    Patch(color=cmap(c, alpha=alpha), label=f) \n",
    "    for f, c in field_color.items()\n",
    "]\n",
    "\n",
    "fig, axs = plt.subplots(5, 3, figsize=(18, 25), sharey='row')\n",
    "fig.legend(handles=legend_handles)\n",
    "fig.suptitle('Конверсия студентов из модуля в модуль', fontsize=18, y=1.07)\n",
    "for ax, (name, group) in zip(axs.flat, groups):\n",
    "    group.plot.barh(\n",
    "        ax=ax, rot=0, \n",
    "        legend=False, \n",
    "        grid=True, \n",
    "        title=name, \n",
    "        color=[courses_colors[name]]\n",
    "    )\n",
    "    median_line = ax.axvline(x=group.conversion.median(),\n",
    "                             c='gray', linestyle='--', label='median')\n",
    "\n",
    "fig.legend(handles=legend_handles + [median_line])\n",
    "\n",
    "plt.tight_layout()\n"
   ]
  },
  {
   "cell_type": "markdown",
   "metadata": {},
   "source": [
    "В основном последние модули конвертят очень хорошо. Основаня потяря проискодит либо в самом начале либо ближе к середине. Самые нестабильные курсы в смысле конверисс — «Интернет маркетолог от Ingate», «SMM-маркетолог от А до Я» и «Java-разработчик с нуля». Конверия ниже 0.8 падает ниже только на курсах «SMM-маркетолог от А до Я» и «Java-разработчик с нуля» (тут на гране). Стоит изучить модули 4 и 6 курса «SMM-маркетолог от А до Я», а также модуль 8 курса «Java-разработчик с нуля».\n",
    "\n",
    "Любопвтно посмотреть на конверсию, посчитанную без учета адишниуов студентов их предыдущего модуля, а смотреть только на количество. "
   ]
  },
  {
   "cell_type": "code",
   "execution_count": null,
   "metadata": {},
   "outputs": [],
   "source": [
    "groups = (\n",
    "    module_conversion[['conversion_naive']]\n",
    "    # .drop(columns=['students_started', 'students_finished'])\n",
    "    .reset_index()\n",
    "    .set_index('module_number')\n",
    "    .query('module_number != 1')\n",
    "    .groupby('title')\n",
    ")\n",
    "\n",
    "fig, axs = plt.subplots(5, 3, figsize=(18, 25), sharey='row')\n",
    "fig.suptitle('Конверсия студентов из модуля в модуль', fontsize=18, y=1.01)\n",
    "for ax, (name, group) in zip(axs.flat, groups):\n",
    "    group.plot.bar(ax=ax, rot=0, legend=False, grid=True, title=name)\n",
    "\n",
    "plt.tight_layout()"
   ]
  },
  {
   "cell_type": "markdown",
   "metadata": {},
   "source": [
    "Наличие модулей с конверсием больше единицы можнет означать, что порядок проходения модулей не всегда соблюдается и/или в уже запущенном курсе появился новый модуль. \n",
    "Еще вариант, что в курсе есть модуль, который представляет для студента основной интерес, и студент проходит только его (думаю, что это история курса про SMM-маркетинг). "
   ]
  },
  {
   "cell_type": "markdown",
   "metadata": {},
   "source": [
    "## 5. Метрика успеваемости,\n",
    "    \n",
    "&nbsp;&nbsp;&nbsp;&nbsp;*(необязательное задание)*,\n",
    "\n",
    "Иногда студенты берут курсы, которые оказываются для них неподъемными. Это может быть как по причинам недостаточной изначальной подготовки, так и по причинам, связанным с низкой мотивацией студента. Для улучшения качества контента полезно выявить причину. На основании имеющихся данных придумайте метрику успеваемости студента. **Обоснуйте ее.** Выявите таких студентов на каждом курсе, чтобы предоставить продюсерам список проблемных студентов."
   ]
  },
  {
   "cell_type": "markdown",
   "metadata": {},
   "source": [
    "## Идеи\n",
    "1. Время прохождения модуля\n",
    "1. Время выполнения домашек\n",
    "1. Отношение времени просмотра лекций во времени выполнения домашки\n",
    "1. Регулярность просмотра лекций и выполнения домашек (для простоты можно посчитать второй момент времени начала каждого урока)\n",
    "1. Просмотр нового модуля до выполнения домашки предыдущего (это очень лениво считать)"
   ]
  },
  {
   "cell_type": "code",
   "execution_count": null,
   "metadata": {},
   "outputs": [],
   "source": [
    "### YOUR CODE HERE ###\n",
    "main2 = ( \n",
    "    main\n",
    "    .query('finish_date > start_date')\n",
    "    .drop(columns=[\n",
    "        'course_id', \n",
    "        'field', \n",
    "        'lesson_title', \n",
    "        'lesson_token', \n",
    "        'module_title', \n",
    "        'progress_id', \n",
    "        'is_video'\n",
    "    ])\n",
    "    .eval(\n",
    "        '''\n",
    "        is_finished = not finish_date.isnull()\n",
    "        time_spent = (finish_date - start_date)\n",
    "        '''\n",
    "    )\n",
    "    \n",
    ")"
   ]
  },
  {
   "cell_type": "code",
   "execution_count": null,
   "metadata": {},
   "outputs": [],
   "source": [
    "( \n",
    "    main2\n",
    "    .pivot_table(\n",
    "        index='title',\n",
    "        columns='is_homework',\n",
    "        aggfunc={'time_spent': [pd.Series.mean, pd.Series.median, pd.Series.std]}\n",
    "    )\n",
    "    .droplevel(0, axis=1)\n",
    "    .rename(columns={False: 'lecture', True: 'homework'})\n",
    ")"
   ]
  },
  {
   "cell_type": "markdown",
   "metadata": {},
   "source": [
    " Судя по тому, что медиана времени выполнения домашки и просмотра лекций заметно меньше среднего, и дисперсия на многих курсах очень велика, можно предположить, что время просмотралекция и выполнения домашки являются неплохим предиктором успешности студента. Посмотрим, насколько связаны эти значения с количеством модулей, которые прошел студент."
   ]
  },
  {
   "cell_type": "code",
   "execution_count": null,
   "metadata": {},
   "outputs": [],
   "source": [
    "\n",
    "groups = (\n",
    "    main2\n",
    "    .query('is_homework')\n",
    "    .groupby(['title', 'student_id'])\n",
    "    .agg({'is_finished': 'sum', 'time_spent': pd.Series.median})\n",
    "    .eval('hours_spent = time_spent.dt.total_seconds() / 60 ** 2')\n",
    "    .rename(columns={'is_finished': 'hw_finished'})\n",
    "    .groupby('title')\n",
    ")\n",
    "\n",
    "fig, axs = plt.subplots(5, 3, figsize=(18, 25))\n",
    "for ax, (name, group) in zip(axs.flat, groups):\n",
    "    group.plot.scatter(x='hw_finished', y='hours_spent', ax=ax, title=name)\n",
    "    ax.axhline(group.hours_spent.mean())\n",
    "plt.tight_layout()"
   ]
  },
  {
   "cell_type": "code",
   "execution_count": null,
   "metadata": {},
   "outputs": [],
   "source": [
    "groups = (\n",
    "    main2\n",
    "    .query('not is_homework')\n",
    "    .groupby(['title', 'student_id'])\n",
    "    .agg({'is_finished': 'sum', 'time_spent': pd.Series.median})\n",
    "    .eval('hours_spent = time_spent.dt.total_seconds() / 60 ** 2')\n",
    "    .rename(columns={'is_finished': 'hw_finished'})\n",
    "    .groupby('title')\n",
    ")\n",
    "\n",
    "fig, axs = plt.subplots(5, 3, figsize=(18, 25))\n",
    "for ax, (name, group) in zip(axs.flat, groups):\n",
    "    group.plot.scatter(x='hw_finished', y='hours_spent', ax=ax, title=name)\n",
    "plt.tight_layout()"
   ]
  },
  {
   "cell_type": "markdown",
   "metadata": {},
   "source": [
    "По графикам зависимости времени выполнения домашки (или просмотра лекций) и количества выполненных домашек (или просмотренных видео) видно, что медиана времени просмотра/проходжения материала явлются неплохим предиктором того, что студент отвалится на ранних этапах, однако почти не характеризуют вероятность переживания студентом сеередины курса и доживания до конца. \n",
    "\n",
    "Посмотрим, как обстоят дела в более крупном масштабе, чтобы избавиться от очень больших времен студентов, которые не пошли дальше первых модулей."
   ]
  },
  {
   "cell_type": "code",
   "execution_count": null,
   "metadata": {},
   "outputs": [],
   "source": [
    "groups = (\n",
    "    main2\n",
    "    .query('not is_homework')\n",
    "    .groupby(['title', 'student_id'])\n",
    "    .agg({'is_finished': 'sum', 'time_spent': pd.Series.median})\n",
    "    .eval('hours_spent = time_spent.dt.total_seconds() / 60 ** 2')\n",
    "    .query('hours_spent <= 120')\n",
    "    .rename(columns={'is_finished': 'hw_finished'})\n",
    "    .groupby('title')\n",
    ")\n",
    "\n",
    "fig, axs = plt.subplots(5, 3, figsize=(18, 25))\n",
    "for ax, (name, group) in zip(axs.flat, groups):\n",
    "    group.plot.scatter(x='hw_finished', y='hours_spent', ax=ax, title=name)\n",
    "plt.tight_layout()"
   ]
  },
  {
   "cell_type": "markdown",
   "metadata": {},
   "source": [
    "Для многих курсов трюк продолжает работать: время просмотра модуля является хорошим предиктором того, что студент начнет слудеющий."
   ]
  },
  {
   "cell_type": "markdown",
   "metadata": {},
   "source": [
    "## TODO:\n",
    "\n",
    "* Moving average\n",
    "* Percentile\n",
    "\n"
   ]
  },
  {
   "cell_type": "markdown",
   "metadata": {},
   "source": [
    "## Бонус\n",
    "Пересечение аудиторий курсов. Довольно предсказуемо, что пересечения больше у курсов принадлежащих одной области."
   ]
  },
  {
   "cell_type": "code",
   "execution_count": null,
   "metadata": {},
   "outputs": [],
   "source": [
    "students_per_course = main.pivot_table(\n",
    "    index='title',\n",
    "    aggfunc={'student_id': frozenset}\n",
    ")\n",
    "\n",
    "pd.DataFrame([\n",
    "    (t1, t2, len(v1[0] & v2[0]))\n",
    "    for t2, v2 in students_per_course.iterrows()\n",
    "    for t1, v1 in students_per_course.iterrows()\n",
    "]).set_index([0, 1]).unstack(-1)"
   ]
  },
  {
   "cell_type": "code",
   "execution_count": null,
   "metadata": {},
   "outputs": [],
   "source": [
    "( \n",
    "    main\n",
    "    .query('finish_date > start_date')\n",
    "    .eval('time_spent = finish_date - start_date')\n",
    ")"
   ]
  }
 ],
 "metadata": {
  "kernelspec": {
   "display_name": "Python 3",
   "language": "python",
   "name": "python3"
  },
  "language_info": {
   "codemirror_mode": {
    "name": "ipython",
    "version": 3
   },
   "file_extension": ".py",
   "mimetype": "text/x-python",
   "name": "python",
   "nbconvert_exporter": "python",
   "pygments_lexer": "ipython3",
   "version": "3.7.7-final"
  }
 },
 "nbformat": 4,
 "nbformat_minor": 4
}