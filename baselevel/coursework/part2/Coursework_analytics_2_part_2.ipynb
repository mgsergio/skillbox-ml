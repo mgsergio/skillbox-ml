{
  "nbformat": 4,
  "nbformat_minor": 0,
  "metadata": {
    "kernelspec": {
      "display_name": "Python 3",
      "language": "python",
      "name": "python3"
    },
    "language_info": {
      "codemirror_mode": {
        "name": "ipython",
        "version": 3
      },
      "file_extension": ".py",
      "mimetype": "text/x-python",
      "name": "python",
      "nbconvert_exporter": "python",
      "pygments_lexer": "ipython3",
      "version": "3.7.7-final"
    },
    "colab": {
      "name": "Coursework_analytics_2.ipynb",
      "provenance": [],
      "collapsed_sections": []
    }
  },
  "cells": [
    {
      "cell_type": "markdown",
      "metadata": {
        "id": "Fd3_VqqaHVAN"
      },
      "source": [
        "# Курсовая работа № 2\n",
        "## Аналитика. Начальный уровень\n",
        "\n",
        "Курсовая работа состоит из двух частей – обязательной и дополнительной. **Для зачета необходимо выполнение только первой части.** Выполнение второй части может потребовать дополнительные знания Python."
      ]
    },
    {
      "source": [
        "## Часть вторая"
      ],
      "cell_type": "markdown",
      "metadata": {
        "id": "5OXer84FHVAU"
      }
    },
    {
      "cell_type": "markdown",
      "metadata": {
        "id": "8vS_kLIvHVAV"
      },
      "source": [
        "Перед вами стоит задача – подготовить аналитический ответ для SMM-отдела компании Skillbox. <br> Объектом анализа является  [паблик Skillbox Вконтакте](https://vk.com/skillbox_education). <br> <br> \n",
        "Подключитесь к  API VK и выгрузите посты со стены паблика Skillbox за интересующий период (определите самостоятельно и обоснуйте). Проанализируйте влияние различных факторов (например, времени публикации) на вовлеченность пользователей (количество лайков, комментариев, голосов в опросах). Сделайте аналитику по рубрикам (примеры рубрик: дизайн-битва, игра по управлению), которые есть в паблике. Выбрать нужные посты можно с помощью регулярных выражений. Составьте перечень рекомандаций для SMM-отдела по итогам анализа. <br> <br> \n",
        "\n",
        "Дополнительные инструкции по работе с API VK расположены [здесь](https://colab.research.google.com/drive/1rRaTay-OSPLAOX8V9UaFvTiAciVtp2s3)."
      ]
    },
    {
      "source": [
        "### YOUR CODE HERE ###\n",
        "from pathlib import Path\n",
        "\n",
        "vk_token = Path('access_token.txt').read_text().rstrip()\n",
        "\n",
        "import requests\n",
        "\n",
        "def getjson(url):\n",
        "    response = requests.get(url)\n",
        "    response = response.json()\n",
        "    return response\n",
        "\n",
        "url = 'https://api.vk.com/method/account.getProfileInfo?access_token=' + str(vk_token) + '&v=5.92'\n",
        "response = getjson(url)\n",
        "\n",
        "print(response)\n"
      ],
      "cell_type": "code",
      "metadata": {
        "id": "7b1vJYVrHVAR",
        "outputId": "fc1b572c-2361-4273-f105-f2ea209d99a2",
        "colab": {
          "base_uri": "https://localhost:8080/",
          "height": 35
        }
      },
      "execution_count": null,
      "outputs": []
    },
    {
      "cell_type": "code",
      "metadata": {
        "id": "7SzjqiQLHVAW"
      },
      "source": [
        "### YOUR CODE HERE ###\n",
        "\n",
        "\n"
      ],
      "execution_count": 450,
      "outputs": []
    }
  ]
}