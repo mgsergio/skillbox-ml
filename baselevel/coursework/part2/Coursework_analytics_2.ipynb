{
  "nbformat": 4,
  "nbformat_minor": 0,
  "metadata": {
    "kernelspec": {
      "display_name": "Python 3",
      "language": "python",
      "name": "python3"
    },
    "language_info": {
      "codemirror_mode": {
        "name": "ipython",
        "version": 3
      },
      "file_extension": ".py",
      "mimetype": "text/x-python",
      "name": "python",
      "nbconvert_exporter": "python",
      "pygments_lexer": "ipython3",
      "version": "3.7.7-final"
    },
    "colab": {
      "name": "Coursework_analytics_2.ipynb",
      "provenance": [],
      "collapsed_sections": []
    }
  },
  "cells": [
    {
      "cell_type": "markdown",
      "metadata": {
        "id": "Fd3_VqqaHVAN"
      },
      "source": [
        "# Курсовая работа № 2\n",
        "## Аналитика. Начальный уровень\n",
        "\n",
        "Курсовая работа состоит из двух частей – обязательной и дополнительной. **Для зачета необходимо выполнение только первой части.** Выполнение второй части может потребовать дополнительные знания Python.\n",
        "\n",
        "- [Часть первая](#Часть-первая)\n",
        "- [Часть вторая](#Часть-вторая)"
      ]
    },
    {
      "cell_type": "markdown",
      "metadata": {
        "id": "v_LX23K6HVAQ"
      },
      "source": [
        "## Часть первая\n",
        "\n",
        "\n",
        "Перед вами стоит задача – подготовить аналитический отчет для HR-отдела. На основании проведенной аналитики предполагается составить рекомендации для отдела кадров по стратегии набора персонала, а также по взаимодействию с уже имеющимися сотрудниками.\n",
        "<br><br> В базе данных лежит набор таблиц, которые содержат данные о сотрудниках вымышленной компании.\n",
        "Сделайте обзор штата сотрудников компании. Составьте набор предметов исследования, а затем проверьте их на данных. Вся аналитика должна быть выполена с помощью SQL. Впоследствии данные можно визуализировать, однако финальные датафреймы для графиков также должны быть подготовлены с помощью SQL. <br><br>\n",
        "\n",
        "Примеры гипотез:\n",
        "\n",
        "1. Есть зависимость между `perfomance score` и тем, под чьим руководством работает сотрудник.\n",
        "2. Есть зависимость между продолжительностью работы в компании и семейным положением сотрудника.\n",
        "2. Есть зависимость между продолжительностью работы в компании и возрастом сотрудника.\n",
        "\n",
        "<br><br>\n",
        "Параметры для подключения следующие: \n",
        "\n",
        "хост – `dsstudents.skillbox.ru`,<br> порт – `5432`,<br> имя базы данных – `human_resources`,<br> пользователь – `readonly`,<br> пароль – `6hajV34RTQfmxhS`.<br><br> \n",
        "Таблицы, доступные для анализа, – `hr_dataset`, `production_staff`, `recruiting_costs`, `salary_grid`."
      ]
    },
    {
      "cell_type": "code",
      "execution_count": 414,
      "metadata": {},
      "outputs": [],
      "source": [
        "import psycopg2\n",
        "\n",
        "pg_connection = {\n",
        "    \"host\": \"dsstudents.skillbox.ru\",\n",
        "    \"port\": 5432,\n",
        "    \"dbname\": \"human_resources\",\n",
        "    \"user\": \"readonly\",\n",
        "    \"password\": \"6hajV34RTQfmxhS\"\n",
        "}\n",
        "conn = psycopg2.connect(**pg_connection)"
      ]
    },
    {
      "cell_type": "code",
      "execution_count": 415,
      "metadata": {},
      "outputs": [],
      "source": [
        "import pandas as pd\n",
        "\n",
        "sql = lambda q: pd.read_sql_query(q, conn)\n",
        "\n",
        "def sqlexec(q: str, commit=True):\n",
        "    with conn.cursor() as c:\n",
        "        return c.execute(q)\n",
        "    if commit:\n",
        "        conn.commit()"
      ]
    },
    {
      "source": [
        "### Посмотрим на данные"
      ],
      "cell_type": "markdown",
      "metadata": {}
    },
    {
      "cell_type": "code",
      "execution_count": 416,
      "metadata": {},
      "outputs": [
        {
          "output_type": "execute_result",
          "data": {
            "text/plain": [
              "                    mn   c\n",
              "0   Board of Directors   2\n",
              "1       Debra Houlihan   3\n",
              "2         Eric Dougall   4\n",
              "3   Brandon R. LeBlanc   7\n",
              "4      Jennifer Zamora   7\n",
              "5     Brian Champaigne   8\n",
              "6      Alex Sweetwater   9\n",
              "7        Lynn Daneault  13\n",
              "8           John Smith  14\n",
              "9         Peter Monroe  14\n",
              "10          Simon Roup  17\n",
              "11          Janet King  19\n",
              "12            Amy Dunn  21\n",
              "13      Brannon Miller  21\n",
              "14       David Stanley  21\n",
              "15       Ketsia Liebig  21\n",
              "16      Webster Butler  21\n",
              "17        Elijiah Gray  22\n",
              "18       Kelley Spirea  22\n",
              "19      Kissy Sullivan  22\n",
              "20      Michael Albert  22"
            ],
            "text/html": "<div>\n<style scoped>\n    .dataframe tbody tr th:only-of-type {\n        vertical-align: middle;\n    }\n\n    .dataframe tbody tr th {\n        vertical-align: top;\n    }\n\n    .dataframe thead th {\n        text-align: right;\n    }\n</style>\n<table border=\"1\" class=\"dataframe\">\n  <thead>\n    <tr style=\"text-align: right;\">\n      <th></th>\n      <th>mn</th>\n      <th>c</th>\n    </tr>\n  </thead>\n  <tbody>\n    <tr>\n      <th>0</th>\n      <td>Board of Directors</td>\n      <td>2</td>\n    </tr>\n    <tr>\n      <th>1</th>\n      <td>Debra Houlihan</td>\n      <td>3</td>\n    </tr>\n    <tr>\n      <th>2</th>\n      <td>Eric Dougall</td>\n      <td>4</td>\n    </tr>\n    <tr>\n      <th>3</th>\n      <td>Brandon R. LeBlanc</td>\n      <td>7</td>\n    </tr>\n    <tr>\n      <th>4</th>\n      <td>Jennifer Zamora</td>\n      <td>7</td>\n    </tr>\n    <tr>\n      <th>5</th>\n      <td>Brian Champaigne</td>\n      <td>8</td>\n    </tr>\n    <tr>\n      <th>6</th>\n      <td>Alex Sweetwater</td>\n      <td>9</td>\n    </tr>\n    <tr>\n      <th>7</th>\n      <td>Lynn Daneault</td>\n      <td>13</td>\n    </tr>\n    <tr>\n      <th>8</th>\n      <td>John Smith</td>\n      <td>14</td>\n    </tr>\n    <tr>\n      <th>9</th>\n      <td>Peter Monroe</td>\n      <td>14</td>\n    </tr>\n    <tr>\n      <th>10</th>\n      <td>Simon Roup</td>\n      <td>17</td>\n    </tr>\n    <tr>\n      <th>11</th>\n      <td>Janet King</td>\n      <td>19</td>\n    </tr>\n    <tr>\n      <th>12</th>\n      <td>Amy Dunn</td>\n      <td>21</td>\n    </tr>\n    <tr>\n      <th>13</th>\n      <td>Brannon Miller</td>\n      <td>21</td>\n    </tr>\n    <tr>\n      <th>14</th>\n      <td>David Stanley</td>\n      <td>21</td>\n    </tr>\n    <tr>\n      <th>15</th>\n      <td>Ketsia Liebig</td>\n      <td>21</td>\n    </tr>\n    <tr>\n      <th>16</th>\n      <td>Webster Butler</td>\n      <td>21</td>\n    </tr>\n    <tr>\n      <th>17</th>\n      <td>Elijiah Gray</td>\n      <td>22</td>\n    </tr>\n    <tr>\n      <th>18</th>\n      <td>Kelley Spirea</td>\n      <td>22</td>\n    </tr>\n    <tr>\n      <th>19</th>\n      <td>Kissy Sullivan</td>\n      <td>22</td>\n    </tr>\n    <tr>\n      <th>20</th>\n      <td>Michael Albert</td>\n      <td>22</td>\n    </tr>\n  </tbody>\n</table>\n</div>"
          },
          "metadata": {},
          "execution_count": 416
        }
      ],
      "source": [
        "# Managers\n",
        "sql(\n",
        "    \"\"\"\n",
        "    select \"Manager Name\" mn, count(\"Manager Name\") c\n",
        "    from hr_dataset \n",
        "    group by mn\n",
        "    order by c, mn;\n",
        "    \"\"\"\n",
        ")"
      ]
    },
    {
      "cell_type": "code",
      "execution_count": 417,
      "metadata": {},
      "outputs": [
        {
          "output_type": "execute_result",
          "data": {
            "text/plain": [
              "                      d    c\n",
              "0      Executive Office    1\n",
              "1         Admin Offices   10\n",
              "2  Software Engineering   10\n",
              "3                 Sales   31\n",
              "4                 IT/IS   50\n",
              "5     Production         208"
            ],
            "text/html": "<div>\n<style scoped>\n    .dataframe tbody tr th:only-of-type {\n        vertical-align: middle;\n    }\n\n    .dataframe tbody tr th {\n        vertical-align: top;\n    }\n\n    .dataframe thead th {\n        text-align: right;\n    }\n</style>\n<table border=\"1\" class=\"dataframe\">\n  <thead>\n    <tr style=\"text-align: right;\">\n      <th></th>\n      <th>d</th>\n      <th>c</th>\n    </tr>\n  </thead>\n  <tbody>\n    <tr>\n      <th>0</th>\n      <td>Executive Office</td>\n      <td>1</td>\n    </tr>\n    <tr>\n      <th>1</th>\n      <td>Admin Offices</td>\n      <td>10</td>\n    </tr>\n    <tr>\n      <th>2</th>\n      <td>Software Engineering</td>\n      <td>10</td>\n    </tr>\n    <tr>\n      <th>3</th>\n      <td>Sales</td>\n      <td>31</td>\n    </tr>\n    <tr>\n      <th>4</th>\n      <td>IT/IS</td>\n      <td>50</td>\n    </tr>\n    <tr>\n      <th>5</th>\n      <td>Production</td>\n      <td>208</td>\n    </tr>\n  </tbody>\n</table>\n</div>"
          },
          "metadata": {},
          "execution_count": 417
        }
      ],
      "source": [
        "# Departments\n",
        "sql(\n",
        "    \"\"\"\n",
        "    select department d, count(department) c \n",
        "    from hr_dataset \n",
        "    group by d\n",
        "    order by c, d;\n",
        "    \"\"\"\n",
        ")"
      ]
    },
    {
      "cell_type": "code",
      "execution_count": 418,
      "metadata": {},
      "outputs": [
        {
          "output_type": "execute_result",
          "data": {
            "text/plain": [
              "                                  r    c\n",
              "0  American Indian or Alaska Native    4\n",
              "1                          Hispanic    4\n",
              "2                 Two or more races   18\n",
              "3                             Asian   34\n",
              "4         Black or African American   57\n",
              "5                             White  193"
            ],
            "text/html": "<div>\n<style scoped>\n    .dataframe tbody tr th:only-of-type {\n        vertical-align: middle;\n    }\n\n    .dataframe tbody tr th {\n        vertical-align: top;\n    }\n\n    .dataframe thead th {\n        text-align: right;\n    }\n</style>\n<table border=\"1\" class=\"dataframe\">\n  <thead>\n    <tr style=\"text-align: right;\">\n      <th></th>\n      <th>r</th>\n      <th>c</th>\n    </tr>\n  </thead>\n  <tbody>\n    <tr>\n      <th>0</th>\n      <td>American Indian or Alaska Native</td>\n      <td>4</td>\n    </tr>\n    <tr>\n      <th>1</th>\n      <td>Hispanic</td>\n      <td>4</td>\n    </tr>\n    <tr>\n      <th>2</th>\n      <td>Two or more races</td>\n      <td>18</td>\n    </tr>\n    <tr>\n      <th>3</th>\n      <td>Asian</td>\n      <td>34</td>\n    </tr>\n    <tr>\n      <th>4</th>\n      <td>Black or African American</td>\n      <td>57</td>\n    </tr>\n    <tr>\n      <th>5</th>\n      <td>White</td>\n      <td>193</td>\n    </tr>\n  </tbody>\n</table>\n</div>"
          },
          "metadata": {},
          "execution_count": 418
        }
      ],
      "source": [
        "# Races\n",
        "sql(\n",
        "    \"\"\"\n",
        "    select racedesc r, count(racedesc) c \n",
        "    from hr_dataset \n",
        "    group by r\n",
        "    order by c, r;\n",
        "    \"\"\"\n",
        ")"
      ]
    },
    {
      "cell_type": "code",
      "execution_count": 419,
      "metadata": {},
      "outputs": [
        {
          "output_type": "execute_result",
          "data": {
            "text/plain": [
              "                                  tr    c\n",
              "0                   gross misconduct    1\n",
              "1   maternity leave - did not return    3\n",
              "2                     medical issues    3\n",
              "3                   no-call, no-show    3\n",
              "4                           military    4\n",
              "5                        performance    4\n",
              "6                           retiring    4\n",
              "7             relocation out of area    5\n",
              "8                   return to school    5\n",
              "9                         attendance    7\n",
              "10                     career change    9\n",
              "11                             hours    9\n",
              "12         N/A - Has not started yet   11\n",
              "13                        more money   11\n",
              "14                           unhappy   14\n",
              "15                  Another position   20\n",
              "16              N/A - still employed  197"
            ],
            "text/html": "<div>\n<style scoped>\n    .dataframe tbody tr th:only-of-type {\n        vertical-align: middle;\n    }\n\n    .dataframe tbody tr th {\n        vertical-align: top;\n    }\n\n    .dataframe thead th {\n        text-align: right;\n    }\n</style>\n<table border=\"1\" class=\"dataframe\">\n  <thead>\n    <tr style=\"text-align: right;\">\n      <th></th>\n      <th>tr</th>\n      <th>c</th>\n    </tr>\n  </thead>\n  <tbody>\n    <tr>\n      <th>0</th>\n      <td>gross misconduct</td>\n      <td>1</td>\n    </tr>\n    <tr>\n      <th>1</th>\n      <td>maternity leave - did not return</td>\n      <td>3</td>\n    </tr>\n    <tr>\n      <th>2</th>\n      <td>medical issues</td>\n      <td>3</td>\n    </tr>\n    <tr>\n      <th>3</th>\n      <td>no-call, no-show</td>\n      <td>3</td>\n    </tr>\n    <tr>\n      <th>4</th>\n      <td>military</td>\n      <td>4</td>\n    </tr>\n    <tr>\n      <th>5</th>\n      <td>performance</td>\n      <td>4</td>\n    </tr>\n    <tr>\n      <th>6</th>\n      <td>retiring</td>\n      <td>4</td>\n    </tr>\n    <tr>\n      <th>7</th>\n      <td>relocation out of area</td>\n      <td>5</td>\n    </tr>\n    <tr>\n      <th>8</th>\n      <td>return to school</td>\n      <td>5</td>\n    </tr>\n    <tr>\n      <th>9</th>\n      <td>attendance</td>\n      <td>7</td>\n    </tr>\n    <tr>\n      <th>10</th>\n      <td>career change</td>\n      <td>9</td>\n    </tr>\n    <tr>\n      <th>11</th>\n      <td>hours</td>\n      <td>9</td>\n    </tr>\n    <tr>\n      <th>12</th>\n      <td>N/A - Has not started yet</td>\n      <td>11</td>\n    </tr>\n    <tr>\n      <th>13</th>\n      <td>more money</td>\n      <td>11</td>\n    </tr>\n    <tr>\n      <th>14</th>\n      <td>unhappy</td>\n      <td>14</td>\n    </tr>\n    <tr>\n      <th>15</th>\n      <td>Another position</td>\n      <td>20</td>\n    </tr>\n    <tr>\n      <th>16</th>\n      <td>N/A - still employed</td>\n      <td>197</td>\n    </tr>\n  </tbody>\n</table>\n</div>"
          },
          "metadata": {},
          "execution_count": 419
        }
      ],
      "source": [
        "# Term reasons\n",
        "sql(\n",
        "    \"\"\"\n",
        "    select \"Reason For Term\" tr, count(\"Reason For Term\") c \n",
        "    from hr_dataset \n",
        "    group by tr \n",
        "    order by c, tr;\n",
        "    \"\"\"\n",
        ")"
      ]
    },
    {
      "cell_type": "code",
      "execution_count": 420,
      "metadata": {},
      "outputs": [
        {
          "output_type": "execute_result",
          "data": {
            "text/plain": [
              "                                        es   c\n",
              "0                        Employee Referral  31\n",
              "1                       Diversity Job Fair  29\n",
              "2        Search Engine - Google Bing Yahoo  25\n",
              "3                              Monster.com  24\n",
              "4                   Pay Per Click - Google  21\n",
              "5                     Professional Society  20\n",
              "6                       Newspager/Magazine  18\n",
              "7                                 MBTA ads  17\n",
              "8                                Billboard  16\n",
              "9                          Vendor Referral  15\n",
              "10                               Glassdoor  14\n",
              "11                      Website Banner Ads  13\n",
              "12                           Word of Mouth  13\n",
              "13                    On-campus Recruiting  12\n",
              "14  Social Networks - Facebook Twitter etc  11\n",
              "15                                   Other   9\n",
              "16                                  Indeed   8\n",
              "17                         Internet Search   6\n",
              "18                     Information Session   4\n",
              "19                           Careerbuilder   1\n",
              "20              Company Intranet - Partner   1\n",
              "21                 On-line Web application   1\n",
              "22                           Pay Per Click   1"
            ],
            "text/html": "<div>\n<style scoped>\n    .dataframe tbody tr th:only-of-type {\n        vertical-align: middle;\n    }\n\n    .dataframe tbody tr th {\n        vertical-align: top;\n    }\n\n    .dataframe thead th {\n        text-align: right;\n    }\n</style>\n<table border=\"1\" class=\"dataframe\">\n  <thead>\n    <tr style=\"text-align: right;\">\n      <th></th>\n      <th>es</th>\n      <th>c</th>\n    </tr>\n  </thead>\n  <tbody>\n    <tr>\n      <th>0</th>\n      <td>Employee Referral</td>\n      <td>31</td>\n    </tr>\n    <tr>\n      <th>1</th>\n      <td>Diversity Job Fair</td>\n      <td>29</td>\n    </tr>\n    <tr>\n      <th>2</th>\n      <td>Search Engine - Google Bing Yahoo</td>\n      <td>25</td>\n    </tr>\n    <tr>\n      <th>3</th>\n      <td>Monster.com</td>\n      <td>24</td>\n    </tr>\n    <tr>\n      <th>4</th>\n      <td>Pay Per Click - Google</td>\n      <td>21</td>\n    </tr>\n    <tr>\n      <th>5</th>\n      <td>Professional Society</td>\n      <td>20</td>\n    </tr>\n    <tr>\n      <th>6</th>\n      <td>Newspager/Magazine</td>\n      <td>18</td>\n    </tr>\n    <tr>\n      <th>7</th>\n      <td>MBTA ads</td>\n      <td>17</td>\n    </tr>\n    <tr>\n      <th>8</th>\n      <td>Billboard</td>\n      <td>16</td>\n    </tr>\n    <tr>\n      <th>9</th>\n      <td>Vendor Referral</td>\n      <td>15</td>\n    </tr>\n    <tr>\n      <th>10</th>\n      <td>Glassdoor</td>\n      <td>14</td>\n    </tr>\n    <tr>\n      <th>11</th>\n      <td>Website Banner Ads</td>\n      <td>13</td>\n    </tr>\n    <tr>\n      <th>12</th>\n      <td>Word of Mouth</td>\n      <td>13</td>\n    </tr>\n    <tr>\n      <th>13</th>\n      <td>On-campus Recruiting</td>\n      <td>12</td>\n    </tr>\n    <tr>\n      <th>14</th>\n      <td>Social Networks - Facebook Twitter etc</td>\n      <td>11</td>\n    </tr>\n    <tr>\n      <th>15</th>\n      <td>Other</td>\n      <td>9</td>\n    </tr>\n    <tr>\n      <th>16</th>\n      <td>Indeed</td>\n      <td>8</td>\n    </tr>\n    <tr>\n      <th>17</th>\n      <td>Internet Search</td>\n      <td>6</td>\n    </tr>\n    <tr>\n      <th>18</th>\n      <td>Information Session</td>\n      <td>4</td>\n    </tr>\n    <tr>\n      <th>19</th>\n      <td>Careerbuilder</td>\n      <td>1</td>\n    </tr>\n    <tr>\n      <th>20</th>\n      <td>Company Intranet - Partner</td>\n      <td>1</td>\n    </tr>\n    <tr>\n      <th>21</th>\n      <td>On-line Web application</td>\n      <td>1</td>\n    </tr>\n    <tr>\n      <th>22</th>\n      <td>Pay Per Click</td>\n      <td>1</td>\n    </tr>\n  </tbody>\n</table>\n</div>"
          },
          "metadata": {},
          "execution_count": 420
        }
      ],
      "source": [
        "# Employee sources\n",
        "sql(\n",
        "    \"\"\"\n",
        "    select \"Employee Source\" es, count(*) c\n",
        "    from hr_dataset hd \n",
        "    group by es\n",
        "    order by c desc, es;\n",
        "    \"\"\"\n",
        ")"
      ]
    },
    {
      "cell_type": "code",
      "execution_count": 421,
      "metadata": {},
      "outputs": [
        {
          "output_type": "execute_result",
          "data": {
            "text/plain": [
              "           Employee Name  Pay Rate     Pay\n",
              "0    Adinolfi, Wilson  K     20.00  $20.00\n",
              "1      Akinkuolie, Sarah     29.00  $29.00\n",
              "2           Alagbe,Trina     21.00  $21.00\n",
              "3      Albert, Michael       54.50  $54.50\n",
              "4       Anderson, Carol      16.00  $16.00\n",
              "..                   ...       ...     ...\n",
              "203   Winthrop, Jordan       29.00  $29.00\n",
              "204        Wolk, Hang  T     22.00  $22.00\n",
              "205       Woodson, Jason     24.25  $24.25\n",
              "206   Ybarra, Catherine      22.00  $22.00\n",
              "207        Zima, Colleen     15.00  $15.00\n",
              "\n",
              "[208 rows x 3 columns]"
            ],
            "text/html": "<div>\n<style scoped>\n    .dataframe tbody tr th:only-of-type {\n        vertical-align: middle;\n    }\n\n    .dataframe tbody tr th {\n        vertical-align: top;\n    }\n\n    .dataframe thead th {\n        text-align: right;\n    }\n</style>\n<table border=\"1\" class=\"dataframe\">\n  <thead>\n    <tr style=\"text-align: right;\">\n      <th></th>\n      <th>Employee Name</th>\n      <th>Pay Rate</th>\n      <th>Pay</th>\n    </tr>\n  </thead>\n  <tbody>\n    <tr>\n      <th>0</th>\n      <td>Adinolfi, Wilson  K</td>\n      <td>20.00</td>\n      <td>$20.00</td>\n    </tr>\n    <tr>\n      <th>1</th>\n      <td>Akinkuolie, Sarah</td>\n      <td>29.00</td>\n      <td>$29.00</td>\n    </tr>\n    <tr>\n      <th>2</th>\n      <td>Alagbe,Trina</td>\n      <td>21.00</td>\n      <td>$21.00</td>\n    </tr>\n    <tr>\n      <th>3</th>\n      <td>Albert, Michael</td>\n      <td>54.50</td>\n      <td>$54.50</td>\n    </tr>\n    <tr>\n      <th>4</th>\n      <td>Anderson, Carol</td>\n      <td>16.00</td>\n      <td>$16.00</td>\n    </tr>\n    <tr>\n      <th>...</th>\n      <td>...</td>\n      <td>...</td>\n      <td>...</td>\n    </tr>\n    <tr>\n      <th>203</th>\n      <td>Winthrop, Jordan</td>\n      <td>29.00</td>\n      <td>$29.00</td>\n    </tr>\n    <tr>\n      <th>204</th>\n      <td>Wolk, Hang  T</td>\n      <td>22.00</td>\n      <td>$22.00</td>\n    </tr>\n    <tr>\n      <th>205</th>\n      <td>Woodson, Jason</td>\n      <td>24.25</td>\n      <td>$24.25</td>\n    </tr>\n    <tr>\n      <th>206</th>\n      <td>Ybarra, Catherine</td>\n      <td>22.00</td>\n      <td>$22.00</td>\n    </tr>\n    <tr>\n      <th>207</th>\n      <td>Zima, Colleen</td>\n      <td>15.00</td>\n      <td>$15.00</td>\n    </tr>\n  </tbody>\n</table>\n<p>208 rows × 3 columns</p>\n</div>"
          },
          "metadata": {},
          "execution_count": 421
        }
      ],
      "source": [
        "# Check if production_staff and hr_dataset have some commont employees.\n",
        "# Also check that hd.\"Pay Rate\" and ps.\"Pay\" have the same meaning.\n",
        "#\n",
        "# Looks like the answer is yes to both questions.\n",
        "sql(\n",
        "    \"\"\"\n",
        "    select distinct hd.\"Employee Name\", \"Pay Rate\", \"Pay\" \n",
        "    from            hr_dataset hd \n",
        "        inner join production_staff ps \n",
        "        on hd.\"Employee Name\" = ps.\"Employee Name\";\n",
        "    \"\"\"     \n",
        ")"
      ]
    },
    {
      "cell_type": "code",
      "execution_count": 422,
      "metadata": {},
      "outputs": [
        {
          "output_type": "execute_result",
          "data": {
            "text/plain": [
              "                         ps    c\n",
              "0               Exceptional    9\n",
              "1                       PIP    9\n",
              "2         Needs Improvement   15\n",
              "3                   Exceeds   28\n",
              "4              90-day meets   31\n",
              "5  N/A- too early to review   37\n",
              "6               Fully Meets  181"
            ],
            "text/html": "<div>\n<style scoped>\n    .dataframe tbody tr th:only-of-type {\n        vertical-align: middle;\n    }\n\n    .dataframe tbody tr th {\n        vertical-align: top;\n    }\n\n    .dataframe thead th {\n        text-align: right;\n    }\n</style>\n<table border=\"1\" class=\"dataframe\">\n  <thead>\n    <tr style=\"text-align: right;\">\n      <th></th>\n      <th>ps</th>\n      <th>c</th>\n    </tr>\n  </thead>\n  <tbody>\n    <tr>\n      <th>0</th>\n      <td>Exceptional</td>\n      <td>9</td>\n    </tr>\n    <tr>\n      <th>1</th>\n      <td>PIP</td>\n      <td>9</td>\n    </tr>\n    <tr>\n      <th>2</th>\n      <td>Needs Improvement</td>\n      <td>15</td>\n    </tr>\n    <tr>\n      <th>3</th>\n      <td>Exceeds</td>\n      <td>28</td>\n    </tr>\n    <tr>\n      <th>4</th>\n      <td>90-day meets</td>\n      <td>31</td>\n    </tr>\n    <tr>\n      <th>5</th>\n      <td>N/A- too early to review</td>\n      <td>37</td>\n    </tr>\n    <tr>\n      <th>6</th>\n      <td>Fully Meets</td>\n      <td>181</td>\n    </tr>\n  </tbody>\n</table>\n</div>"
          },
          "metadata": {},
          "execution_count": 422
        }
      ],
      "source": [
        "# Performances\n",
        "# PIP stands for performance improvement plan.\n",
        "sql(\n",
        "    \"\"\"    \n",
        "    select \"Performance Score\" ps, count(*) c\n",
        "    from hr_dataset hd \n",
        "    group by ps\n",
        "    order by c, ps;\n",
        "    \"\"\"\n",
        ")"
      ]
    },
    {
      "source": [
        "### Подготовим данные для более детального анализа"
      ],
      "cell_type": "markdown",
      "metadata": {}
    },
    {
      "cell_type": "code",
      "execution_count": 423,
      "metadata": {},
      "outputs": [
        {
          "output_type": "execute_result",
          "data": {
            "text/plain": [
              "   bin   c\n",
              "0   25  36\n",
              "1   30  88\n",
              "2   35  64\n",
              "3   40  46\n",
              "4   45  38\n",
              "5   50  23\n",
              "6   55   5\n",
              "7   60   4\n",
              "8   65   6"
            ],
            "text/html": "<div>\n<style scoped>\n    .dataframe tbody tr th:only-of-type {\n        vertical-align: middle;\n    }\n\n    .dataframe tbody tr th {\n        vertical-align: top;\n    }\n\n    .dataframe thead th {\n        text-align: right;\n    }\n</style>\n<table border=\"1\" class=\"dataframe\">\n  <thead>\n    <tr style=\"text-align: right;\">\n      <th></th>\n      <th>bin</th>\n      <th>c</th>\n    </tr>\n  </thead>\n  <tbody>\n    <tr>\n      <th>0</th>\n      <td>25</td>\n      <td>36</td>\n    </tr>\n    <tr>\n      <th>1</th>\n      <td>30</td>\n      <td>88</td>\n    </tr>\n    <tr>\n      <th>2</th>\n      <td>35</td>\n      <td>64</td>\n    </tr>\n    <tr>\n      <th>3</th>\n      <td>40</td>\n      <td>46</td>\n    </tr>\n    <tr>\n      <th>4</th>\n      <td>45</td>\n      <td>38</td>\n    </tr>\n    <tr>\n      <th>5</th>\n      <td>50</td>\n      <td>23</td>\n    </tr>\n    <tr>\n      <th>6</th>\n      <td>55</td>\n      <td>5</td>\n    </tr>\n    <tr>\n      <th>7</th>\n      <td>60</td>\n      <td>4</td>\n    </tr>\n    <tr>\n      <th>8</th>\n      <td>65</td>\n      <td>6</td>\n    </tr>\n  </tbody>\n</table>\n</div>"
          },
          "metadata": {},
          "execution_count": 423
        }
      ],
      "source": [
        "# Let's orginize ages into bins splitead at each 5 years interval\n",
        "sqlexec(\n",
        "\"\"\"\n",
        "create or replace function age_group(age int) \n",
        "returns int as $$\n",
        "begin\n",
        "    return (age :: int / 5) * 5;\n",
        "end;\n",
        "$$ language plpgsql;\n",
        "\"\"\"\n",
        ")\n",
        "\n",
        "sql(\n",
        "    \"\"\"\n",
        "    select age_group(age) as bin,\n",
        "        count(1) c\n",
        "    from hr_dataset hd\n",
        "    group by bin\n",
        "    order by bin;\n",
        "    \"\"\"\n",
        ")"
      ]
    },
    {
      "source": [
        "Нужно преобразовать качественную оценку произовдительности в количествунную, чтобы можно было что-то осмысленное вычислить по этим данным. Выбор конкретного преобразования бедет влиять на различные метрики, вычисляемые по полученным значениям, однако некоторорый \"разумный\" выбор семенства преобразований будет обладать тем свойством, что метрики, посчитанные по разным представителям семества, не будут отличаться друг слишком сильно (аутсайдеры будут оставаться аутсайдерами, лидеры — лидерами, но могут быть перестановки внутри каждой группы). "
      ],
      "cell_type": "markdown",
      "metadata": {}
    },
    {
      "cell_type": "code",
      "execution_count": 424,
      "metadata": {},
      "outputs": [],
      "source": [
        "sqlexec(\n",
        "    \"\"\"\n",
        "    create or replace function perf_score(score_name Text)\n",
        "    returns int as $$\n",
        "        select score from ( \n",
        "            values \n",
        "            ('Exceptional', 2),\n",
        "            ('Exceeds', 1),\n",
        "            ('Fully Meets', 1),\n",
        "            ('90-day meets', 1),\n",
        "            ('N/A- too early to review', 0),\n",
        "            ('Needs Improvement', -1),\n",
        "            ('PIP', -2)\n",
        "        ) as t (code_name, score)\n",
        "        where score_name = code_name;\n",
        "    $$ language sql;\n",
        "    \"\"\"\n",
        ")"
      ]
    },
    {
      "source": [
        "Для удобства анализа продолжительности работы в компании, разобьем продолжительность на несколько категорий."
      ],
      "cell_type": "markdown",
      "metadata": {}
    },
    {
      "cell_type": "code",
      "execution_count": 425,
      "metadata": {},
      "outputs": [],
      "source": [
        "sqlexec(\n",
        "    \"\"\"\n",
        "    create or replace function days_to_period(days int)\n",
        "    returns int as $$\n",
        "    begin \n",
        "        return width_bucket(days, array[90, 180, 360, 640, 720, 1400]);\n",
        "    end\n",
        "    $$ language plpgsql;\n",
        "    \"\"\"\n",
        ")\n",
        "\n",
        "sqlexec(\n",
        "    \"\"\"\n",
        "    create or replace function days_to_period_name(days int)\n",
        "    returns text as $$\n",
        "    declare \n",
        "        bin int;\n",
        "    begin \n",
        "        bin := width_bucket(days, array[90, 180, 360, 640, 720, 1400]);\n",
        "        return (array[\n",
        "            'less then tree months', \n",
        "            'tree months', \n",
        "            'half a year', \n",
        "            'one year', \n",
        "            'a year and a half', \n",
        "            'two years', \n",
        "            'more then two years'\n",
        "        ])[bin + 1];\n",
        "    end\n",
        "    $$ language plpgsql;\n",
        "    \"\"\"\n",
        ")"
      ]
    },
    {
      "source": [
        "Избавимся от редких значений, мешающих аналлизу.\n"
      ],
      "cell_type": "markdown",
      "metadata": {}
    },
    {
      "cell_type": "code",
      "execution_count": 426,
      "metadata": {},
      "outputs": [],
      "source": [
        "# Managers\n",
        "sqlexec(\n",
        "    \"\"\"create temp table if not exists Manager as\n",
        "    select \"Manager Name\" as name, count(*) c\n",
        "    from hr_dataset hd\n",
        "    group by name\n",
        "    -- 10 would be better, but we have what we have.\n",
        "    having count(*) >= 7 \n",
        "    order by c;\n",
        "    \"\"\"\n",
        ")\n",
        "assert not sql(\"select count(*) from Manager\").empty\n",
        "\n",
        "# Departments\n",
        "sqlexec(\n",
        "    \"\"\"create temp table if not exists Department as\n",
        "    select department dep, count(*) c\n",
        "    from hr_dataset hd\n",
        "    group by dep\n",
        "    having count(*) >= 10 \n",
        "    order by c;\n",
        "    \"\"\"\n",
        ")\n",
        "assert not sql(\"select count(*) from Department\").empty\n",
        "\n",
        "\n",
        "# Employee sources\n",
        "sqlexec(\n",
        "    \"\"\"create temp table if not exists EmployeeSource as\n",
        "    select \"Employee Source\" as source, count(*) c\n",
        "    from hr_dataset hd\n",
        "    group by source\n",
        "    having count(*) >= 10 \n",
        "    order by c;\n",
        "    \"\"\"\n",
        ")\n",
        "assert not sql(\"select count(*) from EmployeeSource\").empty\n",
        "\n",
        "\n",
        "# Race descriptions\n",
        "sqlexec(\n",
        "    \"\"\"create temp table if not exists Races as\n",
        "    select racedesc race, count(*) c\n",
        "    from hr_dataset hd\n",
        "    group by race\n",
        "    having count(*) >= 10 \n",
        "    order by c;\n",
        "    \"\"\"\n",
        ")\n",
        "assert not sql(\"select count(*) from Races\").empty\n"
      ]
    },
    {
      "cell_type": "code",
      "execution_count": 427,
      "metadata": {},
      "outputs": [],
      "source": [
        "# Let's create some views that would help with filtering.\n",
        "sqlexec(\n",
        "    \"\"\"\n",
        "    create or replace temp view managersv as (\n",
        "        select * from hr_dataset hd \n",
        "        where hd.\"Manager Name\" in (select name from Manager)\n",
        "    );\n",
        "    \"\"\"\n",
        ")\n",
        "assert not sql(\"select count(*) from managersv\").empty\n",
        "\n",
        "sqlexec(\n",
        "    \"\"\"\n",
        "    create or replace temp view departmentsv as (\n",
        "        select * from hr_dataset hd \n",
        "        where hd.department in (select dep from Department)\n",
        "    );\n",
        "    \"\"\"\n",
        ")\n",
        "assert not sql(\"select count(*) from departmentsv\").empty\n",
        "\n",
        "sqlexec(\n",
        "    \"\"\"\n",
        "    create or replace temp view racesv as (\n",
        "        select * from hr_dataset hd \n",
        "        where hd.racedesc in (select race from Races)\n",
        "    );\n",
        "    \"\"\"\n",
        ")\n",
        "assert not sql(\"select count(*) from racesv\").empty\n",
        "\n",
        "sqlexec(\n",
        "    \"\"\"\n",
        "    create or replace temp view employeesourcesv as (\n",
        "        select * from hr_dataset hd\n",
        "        where \"Employee Source\" in (select source from EmployeeSource)\n",
        "    );\n",
        "    \"\"\"\n",
        ")\n",
        "assert not sql(\"select count(*) from employeesourcesv\").empty"
      ]
    },
    {
      "source": [
        "### Приступим к анализу\n",
        "#### Посмотрим, правда ли, что работать под руководством некоторых менеджеров финансово выгоднее, чем под руководством других."
      ],
      "cell_type": "markdown",
      "metadata": {}
    },
    {
      "cell_type": "code",
      "execution_count": 428,
      "metadata": {},
      "outputs": [
        {
          "output_type": "execute_result",
          "data": {
            "text/plain": [
              "                  name   mean    min    max  count\n",
              "0        Lynn Daneault  55.31  55.00  57.00     13\n",
              "1           John Smith  55.14  54.00  56.00     14\n",
              "2      Jennifer Zamora  52.21  21.00  65.00      7\n",
              "3           Janet King  52.13  33.50  65.00     19\n",
              "4      Alex Sweetwater  51.07  45.42  57.12      9\n",
              "5     Brian Champaigne  48.69  45.00  55.00      8\n",
              "6         Peter Monroe  44.96  27.00  56.20     14\n",
              "7           Simon Roup  44.31  30.20  62.00     17\n",
              "8   Brandon R. LeBlanc  24.86  16.56  34.95      7\n",
              "9       Brannon Miller  21.70  15.00  29.00     21\n",
              "10            Amy Dunn  21.29  15.00  29.00     21\n",
              "11      Kissy Sullivan  21.13  14.00  29.00     22\n",
              "12        Elijiah Gray  21.08  14.00  28.75     22\n",
              "13      Michael Albert  21.05  15.25  29.00     22\n",
              "14       Ketsia Liebig  21.00  14.00  29.00     21\n",
              "15      Webster Butler  20.78  15.00  28.00     21\n",
              "16       Kelley Spirea  20.76  14.00  29.00     22\n",
              "17       David Stanley  19.90  15.00  27.00     21"
            ],
            "text/html": "<div>\n<style scoped>\n    .dataframe tbody tr th:only-of-type {\n        vertical-align: middle;\n    }\n\n    .dataframe tbody tr th {\n        vertical-align: top;\n    }\n\n    .dataframe thead th {\n        text-align: right;\n    }\n</style>\n<table border=\"1\" class=\"dataframe\">\n  <thead>\n    <tr style=\"text-align: right;\">\n      <th></th>\n      <th>name</th>\n      <th>mean</th>\n      <th>min</th>\n      <th>max</th>\n      <th>count</th>\n    </tr>\n  </thead>\n  <tbody>\n    <tr>\n      <th>0</th>\n      <td>Lynn Daneault</td>\n      <td>55.31</td>\n      <td>55.00</td>\n      <td>57.00</td>\n      <td>13</td>\n    </tr>\n    <tr>\n      <th>1</th>\n      <td>John Smith</td>\n      <td>55.14</td>\n      <td>54.00</td>\n      <td>56.00</td>\n      <td>14</td>\n    </tr>\n    <tr>\n      <th>2</th>\n      <td>Jennifer Zamora</td>\n      <td>52.21</td>\n      <td>21.00</td>\n      <td>65.00</td>\n      <td>7</td>\n    </tr>\n    <tr>\n      <th>3</th>\n      <td>Janet King</td>\n      <td>52.13</td>\n      <td>33.50</td>\n      <td>65.00</td>\n      <td>19</td>\n    </tr>\n    <tr>\n      <th>4</th>\n      <td>Alex Sweetwater</td>\n      <td>51.07</td>\n      <td>45.42</td>\n      <td>57.12</td>\n      <td>9</td>\n    </tr>\n    <tr>\n      <th>5</th>\n      <td>Brian Champaigne</td>\n      <td>48.69</td>\n      <td>45.00</td>\n      <td>55.00</td>\n      <td>8</td>\n    </tr>\n    <tr>\n      <th>6</th>\n      <td>Peter Monroe</td>\n      <td>44.96</td>\n      <td>27.00</td>\n      <td>56.20</td>\n      <td>14</td>\n    </tr>\n    <tr>\n      <th>7</th>\n      <td>Simon Roup</td>\n      <td>44.31</td>\n      <td>30.20</td>\n      <td>62.00</td>\n      <td>17</td>\n    </tr>\n    <tr>\n      <th>8</th>\n      <td>Brandon R. LeBlanc</td>\n      <td>24.86</td>\n      <td>16.56</td>\n      <td>34.95</td>\n      <td>7</td>\n    </tr>\n    <tr>\n      <th>9</th>\n      <td>Brannon Miller</td>\n      <td>21.70</td>\n      <td>15.00</td>\n      <td>29.00</td>\n      <td>21</td>\n    </tr>\n    <tr>\n      <th>10</th>\n      <td>Amy Dunn</td>\n      <td>21.29</td>\n      <td>15.00</td>\n      <td>29.00</td>\n      <td>21</td>\n    </tr>\n    <tr>\n      <th>11</th>\n      <td>Kissy Sullivan</td>\n      <td>21.13</td>\n      <td>14.00</td>\n      <td>29.00</td>\n      <td>22</td>\n    </tr>\n    <tr>\n      <th>12</th>\n      <td>Elijiah Gray</td>\n      <td>21.08</td>\n      <td>14.00</td>\n      <td>28.75</td>\n      <td>22</td>\n    </tr>\n    <tr>\n      <th>13</th>\n      <td>Michael Albert</td>\n      <td>21.05</td>\n      <td>15.25</td>\n      <td>29.00</td>\n      <td>22</td>\n    </tr>\n    <tr>\n      <th>14</th>\n      <td>Ketsia Liebig</td>\n      <td>21.00</td>\n      <td>14.00</td>\n      <td>29.00</td>\n      <td>21</td>\n    </tr>\n    <tr>\n      <th>15</th>\n      <td>Webster Butler</td>\n      <td>20.78</td>\n      <td>15.00</td>\n      <td>28.00</td>\n      <td>21</td>\n    </tr>\n    <tr>\n      <th>16</th>\n      <td>Kelley Spirea</td>\n      <td>20.76</td>\n      <td>14.00</td>\n      <td>29.00</td>\n      <td>22</td>\n    </tr>\n    <tr>\n      <th>17</th>\n      <td>David Stanley</td>\n      <td>19.90</td>\n      <td>15.00</td>\n      <td>27.00</td>\n      <td>21</td>\n    </tr>\n  </tbody>\n</table>\n</div>"
          },
          "metadata": {},
          "execution_count": 428
        }
      ],
      "source": [
        "sql(\n",
        "    \"\"\"\n",
        "    select \"Manager Name\" as name, \n",
        "           round(avg(\"Pay Rate\") :: numeric, 2) mean, \n",
        "           round(min(\"Pay Rate\") :: numeric, 2) min,\n",
        "           round(max(\"Pay Rate\") :: numeric, 2) max,\n",
        "           count(\"Pay Rate\")\n",
        "    from managersv\n",
        "    group by name\n",
        "    order by mean desc;\n",
        "    \"\"\"\n",
        ")"
      ]
    },
    {
      "source": [
        "Да, это правда, но интереснее и чеснее посмотреть на это в разбивке по департаментам."
      ],
      "cell_type": "markdown",
      "metadata": {}
    },
    {
      "cell_type": "code",
      "execution_count": 429,
      "metadata": {},
      "outputs": [
        {
          "output_type": "execute_result",
          "data": {
            "text/plain": [
              "                  name                   dep   mean    min    max  count\n",
              "0           Janet King         Admin Offices  55.00  55.00  55.00      2\n",
              "1   Brandon R. LeBlanc         Admin Offices  24.86  16.56  34.95      7\n",
              "2           Janet King                 IT/IS  65.00  65.00  65.00      1\n",
              "3      Jennifer Zamora                 IT/IS  56.42  21.00  65.00      6\n",
              "4     Brian Champaigne                 IT/IS  48.69  45.00  55.00      8\n",
              "5         Peter Monroe                 IT/IS  44.96  27.00  56.20     14\n",
              "6           Simon Roup                 IT/IS  44.31  30.20  62.00     17\n",
              "7           Janet King     Production         50.37  33.50  60.00     15\n",
              "8       Brannon Miller     Production         21.70  15.00  29.00     21\n",
              "9             Amy Dunn     Production         21.29  15.00  29.00     21\n",
              "10      Kissy Sullivan     Production         21.13  14.00  29.00     22\n",
              "11        Elijiah Gray     Production         21.08  14.00  28.75     22\n",
              "12      Michael Albert     Production         21.05  15.25  29.00     22\n",
              "13       Ketsia Liebig     Production         21.00  14.00  29.00     21\n",
              "14      Webster Butler     Production         20.78  15.00  28.00     21\n",
              "15       Kelley Spirea     Production         20.76  14.00  29.00     22\n",
              "16       David Stanley     Production         19.90  15.00  27.00     21\n",
              "17          Janet King                 Sales  60.00  60.00  60.00      1\n",
              "18       Lynn Daneault                 Sales  55.31  55.00  57.00     13\n",
              "19          John Smith                 Sales  55.14  54.00  56.00     14\n",
              "20     Alex Sweetwater  Software Engineering  51.07  45.42  57.12      9\n",
              "21     Jennifer Zamora  Software Engineering  27.00  27.00  27.00      1"
            ],
            "text/html": "<div>\n<style scoped>\n    .dataframe tbody tr th:only-of-type {\n        vertical-align: middle;\n    }\n\n    .dataframe tbody tr th {\n        vertical-align: top;\n    }\n\n    .dataframe thead th {\n        text-align: right;\n    }\n</style>\n<table border=\"1\" class=\"dataframe\">\n  <thead>\n    <tr style=\"text-align: right;\">\n      <th></th>\n      <th>name</th>\n      <th>dep</th>\n      <th>mean</th>\n      <th>min</th>\n      <th>max</th>\n      <th>count</th>\n    </tr>\n  </thead>\n  <tbody>\n    <tr>\n      <th>0</th>\n      <td>Janet King</td>\n      <td>Admin Offices</td>\n      <td>55.00</td>\n      <td>55.00</td>\n      <td>55.00</td>\n      <td>2</td>\n    </tr>\n    <tr>\n      <th>1</th>\n      <td>Brandon R. LeBlanc</td>\n      <td>Admin Offices</td>\n      <td>24.86</td>\n      <td>16.56</td>\n      <td>34.95</td>\n      <td>7</td>\n    </tr>\n    <tr>\n      <th>2</th>\n      <td>Janet King</td>\n      <td>IT/IS</td>\n      <td>65.00</td>\n      <td>65.00</td>\n      <td>65.00</td>\n      <td>1</td>\n    </tr>\n    <tr>\n      <th>3</th>\n      <td>Jennifer Zamora</td>\n      <td>IT/IS</td>\n      <td>56.42</td>\n      <td>21.00</td>\n      <td>65.00</td>\n      <td>6</td>\n    </tr>\n    <tr>\n      <th>4</th>\n      <td>Brian Champaigne</td>\n      <td>IT/IS</td>\n      <td>48.69</td>\n      <td>45.00</td>\n      <td>55.00</td>\n      <td>8</td>\n    </tr>\n    <tr>\n      <th>5</th>\n      <td>Peter Monroe</td>\n      <td>IT/IS</td>\n      <td>44.96</td>\n      <td>27.00</td>\n      <td>56.20</td>\n      <td>14</td>\n    </tr>\n    <tr>\n      <th>6</th>\n      <td>Simon Roup</td>\n      <td>IT/IS</td>\n      <td>44.31</td>\n      <td>30.20</td>\n      <td>62.00</td>\n      <td>17</td>\n    </tr>\n    <tr>\n      <th>7</th>\n      <td>Janet King</td>\n      <td>Production</td>\n      <td>50.37</td>\n      <td>33.50</td>\n      <td>60.00</td>\n      <td>15</td>\n    </tr>\n    <tr>\n      <th>8</th>\n      <td>Brannon Miller</td>\n      <td>Production</td>\n      <td>21.70</td>\n      <td>15.00</td>\n      <td>29.00</td>\n      <td>21</td>\n    </tr>\n    <tr>\n      <th>9</th>\n      <td>Amy Dunn</td>\n      <td>Production</td>\n      <td>21.29</td>\n      <td>15.00</td>\n      <td>29.00</td>\n      <td>21</td>\n    </tr>\n    <tr>\n      <th>10</th>\n      <td>Kissy Sullivan</td>\n      <td>Production</td>\n      <td>21.13</td>\n      <td>14.00</td>\n      <td>29.00</td>\n      <td>22</td>\n    </tr>\n    <tr>\n      <th>11</th>\n      <td>Elijiah Gray</td>\n      <td>Production</td>\n      <td>21.08</td>\n      <td>14.00</td>\n      <td>28.75</td>\n      <td>22</td>\n    </tr>\n    <tr>\n      <th>12</th>\n      <td>Michael Albert</td>\n      <td>Production</td>\n      <td>21.05</td>\n      <td>15.25</td>\n      <td>29.00</td>\n      <td>22</td>\n    </tr>\n    <tr>\n      <th>13</th>\n      <td>Ketsia Liebig</td>\n      <td>Production</td>\n      <td>21.00</td>\n      <td>14.00</td>\n      <td>29.00</td>\n      <td>21</td>\n    </tr>\n    <tr>\n      <th>14</th>\n      <td>Webster Butler</td>\n      <td>Production</td>\n      <td>20.78</td>\n      <td>15.00</td>\n      <td>28.00</td>\n      <td>21</td>\n    </tr>\n    <tr>\n      <th>15</th>\n      <td>Kelley Spirea</td>\n      <td>Production</td>\n      <td>20.76</td>\n      <td>14.00</td>\n      <td>29.00</td>\n      <td>22</td>\n    </tr>\n    <tr>\n      <th>16</th>\n      <td>David Stanley</td>\n      <td>Production</td>\n      <td>19.90</td>\n      <td>15.00</td>\n      <td>27.00</td>\n      <td>21</td>\n    </tr>\n    <tr>\n      <th>17</th>\n      <td>Janet King</td>\n      <td>Sales</td>\n      <td>60.00</td>\n      <td>60.00</td>\n      <td>60.00</td>\n      <td>1</td>\n    </tr>\n    <tr>\n      <th>18</th>\n      <td>Lynn Daneault</td>\n      <td>Sales</td>\n      <td>55.31</td>\n      <td>55.00</td>\n      <td>57.00</td>\n      <td>13</td>\n    </tr>\n    <tr>\n      <th>19</th>\n      <td>John Smith</td>\n      <td>Sales</td>\n      <td>55.14</td>\n      <td>54.00</td>\n      <td>56.00</td>\n      <td>14</td>\n    </tr>\n    <tr>\n      <th>20</th>\n      <td>Alex Sweetwater</td>\n      <td>Software Engineering</td>\n      <td>51.07</td>\n      <td>45.42</td>\n      <td>57.12</td>\n      <td>9</td>\n    </tr>\n    <tr>\n      <th>21</th>\n      <td>Jennifer Zamora</td>\n      <td>Software Engineering</td>\n      <td>27.00</td>\n      <td>27.00</td>\n      <td>27.00</td>\n      <td>1</td>\n    </tr>\n  </tbody>\n</table>\n</div>"
          },
          "metadata": {},
          "execution_count": 429
        }
      ],
      "source": [
        "sql(\n",
        "    \"\"\"\n",
        "    select \"Manager Name\" as name, \n",
        "           department dep, \n",
        "           round(avg(\"Pay Rate\") :: numeric, 2) mean, \n",
        "           round(min(\"Pay Rate\") :: numeric, 2) min,\n",
        "           round(max(\"Pay Rate\") :: numeric, 2) max,\n",
        "           count(\"Pay Rate\")\n",
        "    from managersv mv\n",
        "    where mv.department in (select d.dep from Department d)\n",
        "    group by name, dep\n",
        "    order by dep, mean desc;\n",
        "    \"\"\"\n",
        ")"
      ]
    },
    {
      "source": [
        "Внутри департамента разница не так замента, но все же присутствует. Также можно предположить, что менеджеры с небольшим количеством подчиненных и большим матожиданием по зп, занимают управляют всем департаментом."
      ],
      "cell_type": "markdown",
      "metadata": {}
    },
    {
      "source": [
        "#### Что насчет эфферктивности работы команды под руководством определенного менеджера, есть ли заметная разница?"
      ],
      "cell_type": "markdown",
      "metadata": {}
    },
    {
      "cell_type": "code",
      "execution_count": 430,
      "metadata": {},
      "outputs": [
        {
          "output_type": "execute_result",
          "data": {
            "text/plain": [
              "                  name  mean   std  min  max  count\n",
              "0     Brian Champaigne  1.00  0.00    1    1      8\n",
              "1        Kelley Spirea  0.95  0.21    0    1     22\n",
              "2      Alex Sweetwater  0.89  0.78   -1    2      9\n",
              "3           Simon Roup  0.88  0.60    0    2     17\n",
              "4      Jennifer Zamora  0.86  0.90   -1    2      7\n",
              "5           Janet King  0.84  0.69   -1    2     19\n",
              "6        Ketsia Liebig  0.81  0.51   -1    1     21\n",
              "7        David Stanley  0.81  0.40    0    1     21\n",
              "8       Kissy Sullivan  0.77  0.81   -2    2     22\n",
              "9         Elijiah Gray  0.77  0.53   -1    1     22\n",
              "10  Brandon R. LeBlanc  0.71  0.49    0    1      7\n",
              "11       Lynn Daneault  0.69  0.85   -2    1     13\n",
              "12      Webster Butler  0.67  0.66   -1    1     21\n",
              "13            Amy Dunn  0.67  0.80   -2    2     21\n",
              "14          John Smith  0.64  0.93   -2    1     14\n",
              "15        Peter Monroe  0.64  0.50    0    1     14\n",
              "16      Brannon Miller  0.43  1.33   -2    2     21\n",
              "17      Michael Albert  0.32  0.89   -2    1     22"
            ],
            "text/html": "<div>\n<style scoped>\n    .dataframe tbody tr th:only-of-type {\n        vertical-align: middle;\n    }\n\n    .dataframe tbody tr th {\n        vertical-align: top;\n    }\n\n    .dataframe thead th {\n        text-align: right;\n    }\n</style>\n<table border=\"1\" class=\"dataframe\">\n  <thead>\n    <tr style=\"text-align: right;\">\n      <th></th>\n      <th>name</th>\n      <th>mean</th>\n      <th>std</th>\n      <th>min</th>\n      <th>max</th>\n      <th>count</th>\n    </tr>\n  </thead>\n  <tbody>\n    <tr>\n      <th>0</th>\n      <td>Brian Champaigne</td>\n      <td>1.00</td>\n      <td>0.00</td>\n      <td>1</td>\n      <td>1</td>\n      <td>8</td>\n    </tr>\n    <tr>\n      <th>1</th>\n      <td>Kelley Spirea</td>\n      <td>0.95</td>\n      <td>0.21</td>\n      <td>0</td>\n      <td>1</td>\n      <td>22</td>\n    </tr>\n    <tr>\n      <th>2</th>\n      <td>Alex Sweetwater</td>\n      <td>0.89</td>\n      <td>0.78</td>\n      <td>-1</td>\n      <td>2</td>\n      <td>9</td>\n    </tr>\n    <tr>\n      <th>3</th>\n      <td>Simon Roup</td>\n      <td>0.88</td>\n      <td>0.60</td>\n      <td>0</td>\n      <td>2</td>\n      <td>17</td>\n    </tr>\n    <tr>\n      <th>4</th>\n      <td>Jennifer Zamora</td>\n      <td>0.86</td>\n      <td>0.90</td>\n      <td>-1</td>\n      <td>2</td>\n      <td>7</td>\n    </tr>\n    <tr>\n      <th>5</th>\n      <td>Janet King</td>\n      <td>0.84</td>\n      <td>0.69</td>\n      <td>-1</td>\n      <td>2</td>\n      <td>19</td>\n    </tr>\n    <tr>\n      <th>6</th>\n      <td>Ketsia Liebig</td>\n      <td>0.81</td>\n      <td>0.51</td>\n      <td>-1</td>\n      <td>1</td>\n      <td>21</td>\n    </tr>\n    <tr>\n      <th>7</th>\n      <td>David Stanley</td>\n      <td>0.81</td>\n      <td>0.40</td>\n      <td>0</td>\n      <td>1</td>\n      <td>21</td>\n    </tr>\n    <tr>\n      <th>8</th>\n      <td>Kissy Sullivan</td>\n      <td>0.77</td>\n      <td>0.81</td>\n      <td>-2</td>\n      <td>2</td>\n      <td>22</td>\n    </tr>\n    <tr>\n      <th>9</th>\n      <td>Elijiah Gray</td>\n      <td>0.77</td>\n      <td>0.53</td>\n      <td>-1</td>\n      <td>1</td>\n      <td>22</td>\n    </tr>\n    <tr>\n      <th>10</th>\n      <td>Brandon R. LeBlanc</td>\n      <td>0.71</td>\n      <td>0.49</td>\n      <td>0</td>\n      <td>1</td>\n      <td>7</td>\n    </tr>\n    <tr>\n      <th>11</th>\n      <td>Lynn Daneault</td>\n      <td>0.69</td>\n      <td>0.85</td>\n      <td>-2</td>\n      <td>1</td>\n      <td>13</td>\n    </tr>\n    <tr>\n      <th>12</th>\n      <td>Webster Butler</td>\n      <td>0.67</td>\n      <td>0.66</td>\n      <td>-1</td>\n      <td>1</td>\n      <td>21</td>\n    </tr>\n    <tr>\n      <th>13</th>\n      <td>Amy Dunn</td>\n      <td>0.67</td>\n      <td>0.80</td>\n      <td>-2</td>\n      <td>2</td>\n      <td>21</td>\n    </tr>\n    <tr>\n      <th>14</th>\n      <td>John Smith</td>\n      <td>0.64</td>\n      <td>0.93</td>\n      <td>-2</td>\n      <td>1</td>\n      <td>14</td>\n    </tr>\n    <tr>\n      <th>15</th>\n      <td>Peter Monroe</td>\n      <td>0.64</td>\n      <td>0.50</td>\n      <td>0</td>\n      <td>1</td>\n      <td>14</td>\n    </tr>\n    <tr>\n      <th>16</th>\n      <td>Brannon Miller</td>\n      <td>0.43</td>\n      <td>1.33</td>\n      <td>-2</td>\n      <td>2</td>\n      <td>21</td>\n    </tr>\n    <tr>\n      <th>17</th>\n      <td>Michael Albert</td>\n      <td>0.32</td>\n      <td>0.89</td>\n      <td>-2</td>\n      <td>1</td>\n      <td>22</td>\n    </tr>\n  </tbody>\n</table>\n</div>"
          },
          "metadata": {},
          "execution_count": 430
        }
      ],
      "source": [
        "sql(\n",
        "    \"\"\"\n",
        "    select \"Manager Name\" as name, \n",
        "           round(avg(perf_score(\"Performance Score\")) :: numeric, 2) mean,\n",
        "           round(stddev(perf_score(\"Performance Score\")) :: numeric, 2) std, \n",
        "           min(perf_score(\"Performance Score\")) min,\n",
        "           max(perf_score(\"Performance Score\")) max,\n",
        "           count(\"Performance Score\")\n",
        "    from managersv\n",
        "    group by name\n",
        "    order by mean desc;\n",
        "    \"\"\"\n",
        ")"
      ]
    },
    {
      "source": [
        "Разница в работе команд под управлением разных менеджеров очень велика между лидерами и аутсайдерами. \n",
        "\n",
        "Посмотрим, связан ли этот факт только с управленческими качествами менеджера или же департаменд значимую роль в производительности команды. "
      ],
      "cell_type": "markdown",
      "metadata": {}
    },
    {
      "cell_type": "code",
      "execution_count": 431,
      "metadata": {},
      "outputs": [
        {
          "output_type": "execute_result",
          "data": {
            "text/plain": [
              "              name                dep  mean   std  min  max  count\n",
              "0       Simon Roup              IT/IS  0.88  0.60    0    2     17\n",
              "1     Peter Monroe              IT/IS  0.64  0.50    0    1     14\n",
              "2    Kelley Spirea  Production         0.95  0.21    0    1     22\n",
              "3    Ketsia Liebig  Production         0.81  0.51   -1    1     21\n",
              "4    David Stanley  Production         0.81  0.40    0    1     21\n",
              "5     Elijiah Gray  Production         0.77  0.53   -1    1     22\n",
              "6   Kissy Sullivan  Production         0.77  0.81   -2    2     22\n",
              "7       Janet King  Production         0.73  0.70   -1    1     15\n",
              "8         Amy Dunn  Production         0.67  0.80   -2    2     21\n",
              "9   Webster Butler  Production         0.67  0.66   -1    1     21\n",
              "10  Brannon Miller  Production         0.43  1.33   -2    2     21\n",
              "11  Michael Albert  Production         0.32  0.89   -2    1     22\n",
              "12   Lynn Daneault              Sales  0.69  0.85   -2    1     13\n",
              "13      John Smith              Sales  0.64  0.93   -2    1     14"
            ],
            "text/html": "<div>\n<style scoped>\n    .dataframe tbody tr th:only-of-type {\n        vertical-align: middle;\n    }\n\n    .dataframe tbody tr th {\n        vertical-align: top;\n    }\n\n    .dataframe thead th {\n        text-align: right;\n    }\n</style>\n<table border=\"1\" class=\"dataframe\">\n  <thead>\n    <tr style=\"text-align: right;\">\n      <th></th>\n      <th>name</th>\n      <th>dep</th>\n      <th>mean</th>\n      <th>std</th>\n      <th>min</th>\n      <th>max</th>\n      <th>count</th>\n    </tr>\n  </thead>\n  <tbody>\n    <tr>\n      <th>0</th>\n      <td>Simon Roup</td>\n      <td>IT/IS</td>\n      <td>0.88</td>\n      <td>0.60</td>\n      <td>0</td>\n      <td>2</td>\n      <td>17</td>\n    </tr>\n    <tr>\n      <th>1</th>\n      <td>Peter Monroe</td>\n      <td>IT/IS</td>\n      <td>0.64</td>\n      <td>0.50</td>\n      <td>0</td>\n      <td>1</td>\n      <td>14</td>\n    </tr>\n    <tr>\n      <th>2</th>\n      <td>Kelley Spirea</td>\n      <td>Production</td>\n      <td>0.95</td>\n      <td>0.21</td>\n      <td>0</td>\n      <td>1</td>\n      <td>22</td>\n    </tr>\n    <tr>\n      <th>3</th>\n      <td>Ketsia Liebig</td>\n      <td>Production</td>\n      <td>0.81</td>\n      <td>0.51</td>\n      <td>-1</td>\n      <td>1</td>\n      <td>21</td>\n    </tr>\n    <tr>\n      <th>4</th>\n      <td>David Stanley</td>\n      <td>Production</td>\n      <td>0.81</td>\n      <td>0.40</td>\n      <td>0</td>\n      <td>1</td>\n      <td>21</td>\n    </tr>\n    <tr>\n      <th>5</th>\n      <td>Elijiah Gray</td>\n      <td>Production</td>\n      <td>0.77</td>\n      <td>0.53</td>\n      <td>-1</td>\n      <td>1</td>\n      <td>22</td>\n    </tr>\n    <tr>\n      <th>6</th>\n      <td>Kissy Sullivan</td>\n      <td>Production</td>\n      <td>0.77</td>\n      <td>0.81</td>\n      <td>-2</td>\n      <td>2</td>\n      <td>22</td>\n    </tr>\n    <tr>\n      <th>7</th>\n      <td>Janet King</td>\n      <td>Production</td>\n      <td>0.73</td>\n      <td>0.70</td>\n      <td>-1</td>\n      <td>1</td>\n      <td>15</td>\n    </tr>\n    <tr>\n      <th>8</th>\n      <td>Amy Dunn</td>\n      <td>Production</td>\n      <td>0.67</td>\n      <td>0.80</td>\n      <td>-2</td>\n      <td>2</td>\n      <td>21</td>\n    </tr>\n    <tr>\n      <th>9</th>\n      <td>Webster Butler</td>\n      <td>Production</td>\n      <td>0.67</td>\n      <td>0.66</td>\n      <td>-1</td>\n      <td>1</td>\n      <td>21</td>\n    </tr>\n    <tr>\n      <th>10</th>\n      <td>Brannon Miller</td>\n      <td>Production</td>\n      <td>0.43</td>\n      <td>1.33</td>\n      <td>-2</td>\n      <td>2</td>\n      <td>21</td>\n    </tr>\n    <tr>\n      <th>11</th>\n      <td>Michael Albert</td>\n      <td>Production</td>\n      <td>0.32</td>\n      <td>0.89</td>\n      <td>-2</td>\n      <td>1</td>\n      <td>22</td>\n    </tr>\n    <tr>\n      <th>12</th>\n      <td>Lynn Daneault</td>\n      <td>Sales</td>\n      <td>0.69</td>\n      <td>0.85</td>\n      <td>-2</td>\n      <td>1</td>\n      <td>13</td>\n    </tr>\n    <tr>\n      <th>13</th>\n      <td>John Smith</td>\n      <td>Sales</td>\n      <td>0.64</td>\n      <td>0.93</td>\n      <td>-2</td>\n      <td>1</td>\n      <td>14</td>\n    </tr>\n  </tbody>\n</table>\n</div>"
          },
          "metadata": {},
          "execution_count": 431
        }
      ],
      "source": [
        "sql(\n",
        "    \"\"\"\n",
        "    select \"Manager Name\" as name,\n",
        "           department dep,\n",
        "           round(avg(perf_score(\"Performance Score\")) :: numeric, 2) mean,\n",
        "           round(stddev(perf_score(\"Performance Score\")) :: numeric, 2) std, \n",
        "           min(perf_score(\"Performance Score\")) min,\n",
        "           max(perf_score(\"Performance Score\")) max,\n",
        "           count(\"Performance Score\")\n",
        "    from managersv mv\n",
        "    where mv.department in (select d.dep from Department d)\n",
        "    group by dep, name\n",
        "    having count(\"Performance Score\") >= 10\n",
        "    order by dep, mean desc;\n",
        "    \"\"\"\n",
        ")"
      ]
    },
    {
      "source": [
        "Кажется, что производительность команды сильно связана с тем, кто ей управляет. Однако, тут нужно сделать дополнительное исследование, которое прольет свет на то, отличаются ли задачи команд лидеров от команд аутсайдеров из одного отдела; на то, как были сформированы эти команды; и т.д."
      ],
      "cell_type": "markdown",
      "metadata": {}
    },
    {
      "source": [
        "#### Посмотрим, есть ли разница в производительности между отдделами.\n",
        "\n"
      ],
      "cell_type": "markdown",
      "metadata": {}
    },
    {
      "cell_type": "code",
      "execution_count": 432,
      "metadata": {},
      "outputs": [
        {
          "output_type": "execute_result",
          "data": {
            "text/plain": [
              "                    dep  mean   std  min  max  count\n",
              "0  Software Engineering  0.90  0.74   -1    2     10\n",
              "1                 IT/IS  0.86  0.57   -1    2     50\n",
              "2         Admin Offices  0.80  0.42    0    1     10\n",
              "3     Production         0.69  0.75   -2    2    208\n",
              "4                 Sales  0.65  0.88   -2    1     31"
            ],
            "text/html": "<div>\n<style scoped>\n    .dataframe tbody tr th:only-of-type {\n        vertical-align: middle;\n    }\n\n    .dataframe tbody tr th {\n        vertical-align: top;\n    }\n\n    .dataframe thead th {\n        text-align: right;\n    }\n</style>\n<table border=\"1\" class=\"dataframe\">\n  <thead>\n    <tr style=\"text-align: right;\">\n      <th></th>\n      <th>dep</th>\n      <th>mean</th>\n      <th>std</th>\n      <th>min</th>\n      <th>max</th>\n      <th>count</th>\n    </tr>\n  </thead>\n  <tbody>\n    <tr>\n      <th>0</th>\n      <td>Software Engineering</td>\n      <td>0.90</td>\n      <td>0.74</td>\n      <td>-1</td>\n      <td>2</td>\n      <td>10</td>\n    </tr>\n    <tr>\n      <th>1</th>\n      <td>IT/IS</td>\n      <td>0.86</td>\n      <td>0.57</td>\n      <td>-1</td>\n      <td>2</td>\n      <td>50</td>\n    </tr>\n    <tr>\n      <th>2</th>\n      <td>Admin Offices</td>\n      <td>0.80</td>\n      <td>0.42</td>\n      <td>0</td>\n      <td>1</td>\n      <td>10</td>\n    </tr>\n    <tr>\n      <th>3</th>\n      <td>Production</td>\n      <td>0.69</td>\n      <td>0.75</td>\n      <td>-2</td>\n      <td>2</td>\n      <td>208</td>\n    </tr>\n    <tr>\n      <th>4</th>\n      <td>Sales</td>\n      <td>0.65</td>\n      <td>0.88</td>\n      <td>-2</td>\n      <td>1</td>\n      <td>31</td>\n    </tr>\n  </tbody>\n</table>\n</div>"
          },
          "metadata": {},
          "execution_count": 432
        }
      ],
      "source": [
        "sql(\n",
        "    \"\"\"\n",
        "    select department dep,\n",
        "        round(avg(perf_score(\"Performance Score\")) :: numeric, 2) mean,\n",
        "        round(stddev(perf_score(\"Performance Score\")) :: numeric, 2) std, \n",
        "        min(perf_score(\"Performance Score\")) min,\n",
        "        max(perf_score(\"Performance Score\")) max,\n",
        "        count(\"Performance Score\")\n",
        "    from departmentsv\n",
        "    group by dep\n",
        "    order by mean desc;\n",
        "    \"\"\"\n",
        ")"
      ]
    },
    {
      "source": [
        "Выходит, что отделы, связанный с информационными технологиями показываюn лучшую производительность, чем продажи и производство. \n",
        "\n",
        "Это может быть связано с, но не огрничиваться, следующими возможностями:\n",
        "\n",
        "1. Неадекватно высокими целевыми KPI для оделов аутсайдеров;\n",
        "1. Низкими целевыми KPI для отделов лидеров;\n",
        "1. Отсуствием налаженных процессов и наработанных методологий в одтелах аутсайдерах;\n",
        "1. Неудачным периодом исследования, например кризис на рынке, из-за чего продажники плохо продают, а  производство срывает сроки из-за поставщиков..."
      ],
      "cell_type": "markdown",
      "metadata": {}
    },
    {
      "source": [
        "##### Каснемся несколько деликатной темы: есть ли разница в производительности представителй рвзных расс в конкретной компании."
      ],
      "cell_type": "markdown",
      "metadata": {}
    },
    {
      "cell_type": "code",
      "execution_count": 433,
      "metadata": {},
      "outputs": [
        {
          "output_type": "execute_result",
          "data": {
            "text/plain": [
              "                        race  mean   std  min  max  count\n",
              "0                      Asian  0.76  0.70   -2    2     34\n",
              "1                      White  0.75  0.69   -2    2    193\n",
              "2  Black or African American  0.68  0.83   -2    2     57\n",
              "3          Two or more races  0.61  0.85   -2    1     18"
            ],
            "text/html": "<div>\n<style scoped>\n    .dataframe tbody tr th:only-of-type {\n        vertical-align: middle;\n    }\n\n    .dataframe tbody tr th {\n        vertical-align: top;\n    }\n\n    .dataframe thead th {\n        text-align: right;\n    }\n</style>\n<table border=\"1\" class=\"dataframe\">\n  <thead>\n    <tr style=\"text-align: right;\">\n      <th></th>\n      <th>race</th>\n      <th>mean</th>\n      <th>std</th>\n      <th>min</th>\n      <th>max</th>\n      <th>count</th>\n    </tr>\n  </thead>\n  <tbody>\n    <tr>\n      <th>0</th>\n      <td>Asian</td>\n      <td>0.76</td>\n      <td>0.70</td>\n      <td>-2</td>\n      <td>2</td>\n      <td>34</td>\n    </tr>\n    <tr>\n      <th>1</th>\n      <td>White</td>\n      <td>0.75</td>\n      <td>0.69</td>\n      <td>-2</td>\n      <td>2</td>\n      <td>193</td>\n    </tr>\n    <tr>\n      <th>2</th>\n      <td>Black or African American</td>\n      <td>0.68</td>\n      <td>0.83</td>\n      <td>-2</td>\n      <td>2</td>\n      <td>57</td>\n    </tr>\n    <tr>\n      <th>3</th>\n      <td>Two or more races</td>\n      <td>0.61</td>\n      <td>0.85</td>\n      <td>-2</td>\n      <td>1</td>\n      <td>18</td>\n    </tr>\n  </tbody>\n</table>\n</div>"
          },
          "metadata": {},
          "execution_count": 433
        }
      ],
      "source": [
        "sql(\n",
        "    \"\"\"\n",
        "    select racedesc race, \n",
        "           round(avg(perf_score(\"Performance Score\")) :: numeric, 2) mean,\n",
        "           round(stddev(perf_score(\"Performance Score\")) :: numeric, 2) std, \n",
        "           min(perf_score(\"Performance Score\")) min,\n",
        "           max(perf_score(\"Performance Score\")) max,\n",
        "           count(\"Performance Score\")\n",
        "    from racesv\n",
        "    group by race\n",
        "    order by mean desc;\n",
        "    \"\"\"\n",
        ")"
      ]
    },
    {
      "source": [
        "Выходит, что представители азиатской рассы и белого наеления в среднем показывают лучшую производительность, чем представители других расс; и вариативность в производительности у первых также меньше (что хорошо).\n",
        "\n",
        "Помсмотрим, кака связь (и есть ли вообще) между родом деятельности и производительностю представителей разных расс."
      ],
      "cell_type": "markdown",
      "metadata": {}
    },
    {
      "cell_type": "code",
      "execution_count": 434,
      "metadata": {},
      "outputs": [
        {
          "output_type": "execute_result",
          "data": {
            "text/plain": [
              "                        race                dep  mean   std  min  max  count\n",
              "0  Black or African American              IT/IS  1.00  0.67    0    2     10\n",
              "1                      White              IT/IS  0.87  0.43    0    2     30\n",
              "2                      White  Production         0.72  0.70   -2    2    138\n",
              "3                      Asian  Production         0.68  0.78   -2    1     22\n",
              "4          Two or more races  Production         0.60  0.97   -2    1     10\n",
              "5  Black or African American  Production         0.56  0.91   -2    2     32\n",
              "6                      White              Sales  0.57  1.09   -2    1     14"
            ],
            "text/html": "<div>\n<style scoped>\n    .dataframe tbody tr th:only-of-type {\n        vertical-align: middle;\n    }\n\n    .dataframe tbody tr th {\n        vertical-align: top;\n    }\n\n    .dataframe thead th {\n        text-align: right;\n    }\n</style>\n<table border=\"1\" class=\"dataframe\">\n  <thead>\n    <tr style=\"text-align: right;\">\n      <th></th>\n      <th>race</th>\n      <th>dep</th>\n      <th>mean</th>\n      <th>std</th>\n      <th>min</th>\n      <th>max</th>\n      <th>count</th>\n    </tr>\n  </thead>\n  <tbody>\n    <tr>\n      <th>0</th>\n      <td>Black or African American</td>\n      <td>IT/IS</td>\n      <td>1.00</td>\n      <td>0.67</td>\n      <td>0</td>\n      <td>2</td>\n      <td>10</td>\n    </tr>\n    <tr>\n      <th>1</th>\n      <td>White</td>\n      <td>IT/IS</td>\n      <td>0.87</td>\n      <td>0.43</td>\n      <td>0</td>\n      <td>2</td>\n      <td>30</td>\n    </tr>\n    <tr>\n      <th>2</th>\n      <td>White</td>\n      <td>Production</td>\n      <td>0.72</td>\n      <td>0.70</td>\n      <td>-2</td>\n      <td>2</td>\n      <td>138</td>\n    </tr>\n    <tr>\n      <th>3</th>\n      <td>Asian</td>\n      <td>Production</td>\n      <td>0.68</td>\n      <td>0.78</td>\n      <td>-2</td>\n      <td>1</td>\n      <td>22</td>\n    </tr>\n    <tr>\n      <th>4</th>\n      <td>Two or more races</td>\n      <td>Production</td>\n      <td>0.60</td>\n      <td>0.97</td>\n      <td>-2</td>\n      <td>1</td>\n      <td>10</td>\n    </tr>\n    <tr>\n      <th>5</th>\n      <td>Black or African American</td>\n      <td>Production</td>\n      <td>0.56</td>\n      <td>0.91</td>\n      <td>-2</td>\n      <td>2</td>\n      <td>32</td>\n    </tr>\n    <tr>\n      <th>6</th>\n      <td>White</td>\n      <td>Sales</td>\n      <td>0.57</td>\n      <td>1.09</td>\n      <td>-2</td>\n      <td>1</td>\n      <td>14</td>\n    </tr>\n  </tbody>\n</table>\n</div>"
          },
          "metadata": {},
          "execution_count": 434
        }
      ],
      "source": [
        "sql(\n",
        "    \"\"\"\n",
        "    select racedesc race, \n",
        "           department dep, \n",
        "           round(avg(perf_score(\"Performance Score\")) :: numeric, 2) mean,\n",
        "           round(stddev(perf_score(\"Performance Score\")) :: numeric, 2) std, \n",
        "           min(perf_score(\"Performance Score\")) min,\n",
        "           max(perf_score(\"Performance Score\")) max,\n",
        "           count(\"Performance Score\")\n",
        "    from racesv\n",
        "    group by race, dep\n",
        "    having count(\"Performance Score\") >= 10\n",
        "    order by dep, mean desc;\n",
        "    \"\"\"\n",
        ")"
      ]
    },
    {
      "source": [
        "К сожалению данных маловато, чтобы можно было проверить гипотизу выше. Из-за большого перекоса в сторону представителей белого населения и департамента производства, можно поставить под сомнения и выводы о разнице в производительности расс в целом."
      ],
      "cell_type": "markdown",
      "metadata": {}
    },
    {
      "source": [
        "Посмотрим, как распределена оценка производительности по рассам."
      ],
      "cell_type": "markdown",
      "metadata": {}
    },
    {
      "cell_type": "code",
      "execution_count": 435,
      "metadata": {},
      "outputs": [
        {
          "output_type": "execute_result",
          "data": {
            "text/plain": [
              "    score                   racedesc  cume_dist\n",
              "0      -2                      Asian   1.000000\n",
              "1      -2  Black or African American   1.000000\n",
              "2      -2          Two or more races   1.000000\n",
              "3      -2                      White   1.000000\n",
              "4      -1  Black or African American   0.982456\n",
              "5      -1                      Asian   0.970588\n",
              "6      -1                      White   0.968912\n",
              "7      -1          Two or more races   0.944444\n",
              "8       0                      White   0.943005\n",
              "9       0                      Asian   0.941176\n",
              "10      0          Two or more races   0.888889\n",
              "11      0  Black or African American   0.859649\n",
              "12      1                      Asian   0.823529\n",
              "13      1                      White   0.808290\n",
              "14      1  Black or African American   0.789474\n",
              "15      1          Two or more races   0.777778\n",
              "16      2  Black or African American   0.052632\n",
              "17      2                      Asian   0.029412\n",
              "18      2                      White   0.025907"
            ],
            "text/html": "<div>\n<style scoped>\n    .dataframe tbody tr th:only-of-type {\n        vertical-align: middle;\n    }\n\n    .dataframe tbody tr th {\n        vertical-align: top;\n    }\n\n    .dataframe thead th {\n        text-align: right;\n    }\n</style>\n<table border=\"1\" class=\"dataframe\">\n  <thead>\n    <tr style=\"text-align: right;\">\n      <th></th>\n      <th>score</th>\n      <th>racedesc</th>\n      <th>cume_dist</th>\n    </tr>\n  </thead>\n  <tbody>\n    <tr>\n      <th>0</th>\n      <td>-2</td>\n      <td>Asian</td>\n      <td>1.000000</td>\n    </tr>\n    <tr>\n      <th>1</th>\n      <td>-2</td>\n      <td>Black or African American</td>\n      <td>1.000000</td>\n    </tr>\n    <tr>\n      <th>2</th>\n      <td>-2</td>\n      <td>Two or more races</td>\n      <td>1.000000</td>\n    </tr>\n    <tr>\n      <th>3</th>\n      <td>-2</td>\n      <td>White</td>\n      <td>1.000000</td>\n    </tr>\n    <tr>\n      <th>4</th>\n      <td>-1</td>\n      <td>Black or African American</td>\n      <td>0.982456</td>\n    </tr>\n    <tr>\n      <th>5</th>\n      <td>-1</td>\n      <td>Asian</td>\n      <td>0.970588</td>\n    </tr>\n    <tr>\n      <th>6</th>\n      <td>-1</td>\n      <td>White</td>\n      <td>0.968912</td>\n    </tr>\n    <tr>\n      <th>7</th>\n      <td>-1</td>\n      <td>Two or more races</td>\n      <td>0.944444</td>\n    </tr>\n    <tr>\n      <th>8</th>\n      <td>0</td>\n      <td>White</td>\n      <td>0.943005</td>\n    </tr>\n    <tr>\n      <th>9</th>\n      <td>0</td>\n      <td>Asian</td>\n      <td>0.941176</td>\n    </tr>\n    <tr>\n      <th>10</th>\n      <td>0</td>\n      <td>Two or more races</td>\n      <td>0.888889</td>\n    </tr>\n    <tr>\n      <th>11</th>\n      <td>0</td>\n      <td>Black or African American</td>\n      <td>0.859649</td>\n    </tr>\n    <tr>\n      <th>12</th>\n      <td>1</td>\n      <td>Asian</td>\n      <td>0.823529</td>\n    </tr>\n    <tr>\n      <th>13</th>\n      <td>1</td>\n      <td>White</td>\n      <td>0.808290</td>\n    </tr>\n    <tr>\n      <th>14</th>\n      <td>1</td>\n      <td>Black or African American</td>\n      <td>0.789474</td>\n    </tr>\n    <tr>\n      <th>15</th>\n      <td>1</td>\n      <td>Two or more races</td>\n      <td>0.777778</td>\n    </tr>\n    <tr>\n      <th>16</th>\n      <td>2</td>\n      <td>Black or African American</td>\n      <td>0.052632</td>\n    </tr>\n    <tr>\n      <th>17</th>\n      <td>2</td>\n      <td>Asian</td>\n      <td>0.029412</td>\n    </tr>\n    <tr>\n      <th>18</th>\n      <td>2</td>\n      <td>White</td>\n      <td>0.025907</td>\n    </tr>\n  </tbody>\n</table>\n</div>"
          },
          "metadata": {},
          "execution_count": 435
        }
      ],
      "source": [
        "sql(\n",
        "    \"\"\"\n",
        "    with \n",
        "        dist as (\n",
        "            select perf_score(\"Performance Score\") score,\n",
        "                racedesc, \n",
        "                cume_dist() over (\n",
        "                    partition by racedesc \n",
        "                    order by perf_score(\"Performance Score\") desc\n",
        "                )\n",
        "            from racesv\n",
        "            order by score, racedesc\n",
        "        )\n",
        "    select distinct * \n",
        "    from dist\n",
        "    order by score, cume_dist desc;\n",
        "    \"\"\"\n",
        ")"
      ]
    },
    {
      "source": [
        "В таблице выше отображены вероятности того, что представитель заданной рассы будем иметь вероятность не меньше указанной.\n",
        "\n",
        "Из табллицы видно, Asian и White почти всегда быдут производительней всех остальных. А вот работника с оценкой Exceptional вероятнее встретить среди Black or African American. Однако с Exceptional тоже встает проблема недостатка данных (всего 9 человек настолько хороши)."
      ],
      "cell_type": "markdown",
      "metadata": {}
    },
    {
      "source": [
        "#### Еще одно деикатное \"исследование\" — производительность в разбивке по полу."
      ],
      "cell_type": "markdown",
      "metadata": {}
    },
    {
      "cell_type": "code",
      "execution_count": 436,
      "metadata": {},
      "outputs": [
        {
          "output_type": "execute_result",
          "data": {
            "text/plain": [
              "      sex  mean   std  min  max  count\n",
              "0  Female  0.74  0.69   -2    2    177\n",
              "1    Male  0.71  0.78   -2    2    133"
            ],
            "text/html": "<div>\n<style scoped>\n    .dataframe tbody tr th:only-of-type {\n        vertical-align: middle;\n    }\n\n    .dataframe tbody tr th {\n        vertical-align: top;\n    }\n\n    .dataframe thead th {\n        text-align: right;\n    }\n</style>\n<table border=\"1\" class=\"dataframe\">\n  <thead>\n    <tr style=\"text-align: right;\">\n      <th></th>\n      <th>sex</th>\n      <th>mean</th>\n      <th>std</th>\n      <th>min</th>\n      <th>max</th>\n      <th>count</th>\n    </tr>\n  </thead>\n  <tbody>\n    <tr>\n      <th>0</th>\n      <td>Female</td>\n      <td>0.74</td>\n      <td>0.69</td>\n      <td>-2</td>\n      <td>2</td>\n      <td>177</td>\n    </tr>\n    <tr>\n      <th>1</th>\n      <td>Male</td>\n      <td>0.71</td>\n      <td>0.78</td>\n      <td>-2</td>\n      <td>2</td>\n      <td>133</td>\n    </tr>\n  </tbody>\n</table>\n</div>"
          },
          "metadata": {},
          "execution_count": 436
        }
      ],
      "source": [
        "sql(\n",
        "    \"\"\"\n",
        "    select sex, \n",
        "           round(avg(perf_score(\"Performance Score\")) :: numeric, 2) mean,\n",
        "           round(stddev(perf_score(\"Performance Score\")) :: numeric, 2) std, \n",
        "           min(perf_score(\"Performance Score\")) min,\n",
        "           max(perf_score(\"Performance Score\")) max,\n",
        "           count(\"Performance Score\")\n",
        "    from hr_dataset hd \n",
        "    group by sex\n",
        "    order by mean desc;\n",
        "    \"\"\"\n",
        ")"
      ]
    },
    {
      "source": [
        "Есть ли склонности к определнной деятельности?"
      ],
      "cell_type": "markdown",
      "metadata": {}
    },
    {
      "cell_type": "code",
      "execution_count": 437,
      "metadata": {},
      "outputs": [
        {
          "output_type": "execute_result",
          "data": {
            "text/plain": [
              "             department     sex  mean   std  min  max  count\n",
              "0         Admin Offices    Male  1.00  0.00    1    1      4\n",
              "1         Admin Offices  Female  0.67  0.52    0    1      6\n",
              "2                 IT/IS  Female  0.95  0.49    0    2     22\n",
              "3                 IT/IS    Male  0.79  0.63   -1    2     28\n",
              "4     Production         Female  0.70  0.72   -2    2    127\n",
              "5     Production           Male  0.68  0.80   -2    2     81\n",
              "6                 Sales  Female  0.80  0.77   -2    1     15\n",
              "7                 Sales    Male  0.50  0.97   -2    1     16\n",
              "8  Software Engineering    Male  1.25  0.50    1    2      4\n",
              "9  Software Engineering  Female  0.67  0.82   -1    1      6"
            ],
            "text/html": "<div>\n<style scoped>\n    .dataframe tbody tr th:only-of-type {\n        vertical-align: middle;\n    }\n\n    .dataframe tbody tr th {\n        vertical-align: top;\n    }\n\n    .dataframe thead th {\n        text-align: right;\n    }\n</style>\n<table border=\"1\" class=\"dataframe\">\n  <thead>\n    <tr style=\"text-align: right;\">\n      <th></th>\n      <th>department</th>\n      <th>sex</th>\n      <th>mean</th>\n      <th>std</th>\n      <th>min</th>\n      <th>max</th>\n      <th>count</th>\n    </tr>\n  </thead>\n  <tbody>\n    <tr>\n      <th>0</th>\n      <td>Admin Offices</td>\n      <td>Male</td>\n      <td>1.00</td>\n      <td>0.00</td>\n      <td>1</td>\n      <td>1</td>\n      <td>4</td>\n    </tr>\n    <tr>\n      <th>1</th>\n      <td>Admin Offices</td>\n      <td>Female</td>\n      <td>0.67</td>\n      <td>0.52</td>\n      <td>0</td>\n      <td>1</td>\n      <td>6</td>\n    </tr>\n    <tr>\n      <th>2</th>\n      <td>IT/IS</td>\n      <td>Female</td>\n      <td>0.95</td>\n      <td>0.49</td>\n      <td>0</td>\n      <td>2</td>\n      <td>22</td>\n    </tr>\n    <tr>\n      <th>3</th>\n      <td>IT/IS</td>\n      <td>Male</td>\n      <td>0.79</td>\n      <td>0.63</td>\n      <td>-1</td>\n      <td>2</td>\n      <td>28</td>\n    </tr>\n    <tr>\n      <th>4</th>\n      <td>Production</td>\n      <td>Female</td>\n      <td>0.70</td>\n      <td>0.72</td>\n      <td>-2</td>\n      <td>2</td>\n      <td>127</td>\n    </tr>\n    <tr>\n      <th>5</th>\n      <td>Production</td>\n      <td>Male</td>\n      <td>0.68</td>\n      <td>0.80</td>\n      <td>-2</td>\n      <td>2</td>\n      <td>81</td>\n    </tr>\n    <tr>\n      <th>6</th>\n      <td>Sales</td>\n      <td>Female</td>\n      <td>0.80</td>\n      <td>0.77</td>\n      <td>-2</td>\n      <td>1</td>\n      <td>15</td>\n    </tr>\n    <tr>\n      <th>7</th>\n      <td>Sales</td>\n      <td>Male</td>\n      <td>0.50</td>\n      <td>0.97</td>\n      <td>-2</td>\n      <td>1</td>\n      <td>16</td>\n    </tr>\n    <tr>\n      <th>8</th>\n      <td>Software Engineering</td>\n      <td>Male</td>\n      <td>1.25</td>\n      <td>0.50</td>\n      <td>1</td>\n      <td>2</td>\n      <td>4</td>\n    </tr>\n    <tr>\n      <th>9</th>\n      <td>Software Engineering</td>\n      <td>Female</td>\n      <td>0.67</td>\n      <td>0.82</td>\n      <td>-1</td>\n      <td>1</td>\n      <td>6</td>\n    </tr>\n  </tbody>\n</table>\n</div>"
          },
          "metadata": {},
          "execution_count": 437
        }
      ],
      "source": [
        "\n",
        "sql(\n",
        "    \"\"\"\n",
        "    select department, sex,  \n",
        "        round(avg(perf_score(\"Performance Score\")) :: numeric, 2) mean,\n",
        "        round(stddev(perf_score(\"Performance Score\")) :: numeric, 2) std, \n",
        "        min(perf_score(\"Performance Score\")) min,\n",
        "        max(perf_score(\"Performance Score\")) max,\n",
        "        count(\"Performance Score\")\n",
        "    from departmentsv \n",
        "    group by department, sex\n",
        "    order by department, mean desc;\n",
        "    \"\"\"\n",
        ")"
      ]
    },
    {
      "source": [
        "В очередной раз данных недостаточно для стабильных выводов. Из того, что есть можно сказать, что \"девочки\" лучше в IT/IS и Production, а \"мальчики\" значительно сильнее в Software Engineering и Admin Offices."
      ],
      "cell_type": "markdown",
      "metadata": {}
    },
    {
      "source": [
        "Мы много узнали о производительности представительей разных расс, теперь исследуем их лояльность к компании. Как много времени они работают в компании?\n"
      ],
      "cell_type": "markdown",
      "metadata": {}
    },
    {
      "cell_type": "code",
      "execution_count": 438,
      "metadata": {},
      "outputs": [
        {
          "output_type": "execute_result",
          "data": {
            "text/plain": [
              "                    racedesc     mean     std  min   max  count\n",
              "0          Two or more races  1628.28  791.85   45  3065     18\n",
              "1  Black or African American  1436.00  854.20    6  3674     57\n",
              "2                      White  1230.43  733.66    2  4339    193\n",
              "3                      Asian  1164.18  736.50   19  2583     34"
            ],
            "text/html": "<div>\n<style scoped>\n    .dataframe tbody tr th:only-of-type {\n        vertical-align: middle;\n    }\n\n    .dataframe tbody tr th {\n        vertical-align: top;\n    }\n\n    .dataframe thead th {\n        text-align: right;\n    }\n</style>\n<table border=\"1\" class=\"dataframe\">\n  <thead>\n    <tr style=\"text-align: right;\">\n      <th></th>\n      <th>racedesc</th>\n      <th>mean</th>\n      <th>std</th>\n      <th>min</th>\n      <th>max</th>\n      <th>count</th>\n    </tr>\n  </thead>\n  <tbody>\n    <tr>\n      <th>0</th>\n      <td>Two or more races</td>\n      <td>1628.28</td>\n      <td>791.85</td>\n      <td>45</td>\n      <td>3065</td>\n      <td>18</td>\n    </tr>\n    <tr>\n      <th>1</th>\n      <td>Black or African American</td>\n      <td>1436.00</td>\n      <td>854.20</td>\n      <td>6</td>\n      <td>3674</td>\n      <td>57</td>\n    </tr>\n    <tr>\n      <th>2</th>\n      <td>White</td>\n      <td>1230.43</td>\n      <td>733.66</td>\n      <td>2</td>\n      <td>4339</td>\n      <td>193</td>\n    </tr>\n    <tr>\n      <th>3</th>\n      <td>Asian</td>\n      <td>1164.18</td>\n      <td>736.50</td>\n      <td>19</td>\n      <td>2583</td>\n      <td>34</td>\n    </tr>\n  </tbody>\n</table>\n</div>"
          },
          "metadata": {},
          "execution_count": 438
        }
      ],
      "source": [
        "sql(\n",
        "    \"\"\"\n",
        "    select racedesc, \n",
        "           round(avg(\"Days Employed\") :: numeric, 2)mean, \n",
        "           round(stddev(\"Days Employed\") :: numeric, 2) std,\n",
        "           min(\"Days Employed\"),\n",
        "           max(\"Days Employed\"),\n",
        "           count(1)\n",
        "    from racesv\n",
        "    group by racedesc \n",
        "    order by mean desc;\n",
        "    \"\"\"\n",
        ")"
      ]
    },
    {
      "cell_type": "code",
      "execution_count": 439,
      "metadata": {},
      "outputs": [
        {
          "output_type": "execute_result",
          "data": {
            "text/plain": [
              "                         race            period_name  period      dist\n",
              "0                       Asian  less then tree months       0  1.000000\n",
              "1   Black or African American  less then tree months       0  1.000000\n",
              "2           Two or more races  less then tree months       0  1.000000\n",
              "3                       White  less then tree months       0  1.000000\n",
              "4   Black or African American            tree months       1  0.982456\n",
              "5                       White            tree months       1  0.948187\n",
              "6                       Asian            tree months       1  0.941176\n",
              "7   Black or African American            half a year       2  0.964912\n",
              "8                       White            half a year       2  0.922280\n",
              "9                       Asian            half a year       2  0.911765\n",
              "10          Two or more races               one year       3  0.944444\n",
              "11  Black or African American               one year       3  0.912281\n",
              "12                      White               one year       3  0.870466\n",
              "13                      Asian               one year       3  0.823529\n",
              "14  Black or African American      a year and a half       4  0.789474\n",
              "15                      White      a year and a half       4  0.772021\n",
              "16                      Asian      a year and a half       4  0.676471\n",
              "17          Two or more races              two years       5  0.888889\n",
              "18  Black or African American              two years       5  0.771930\n",
              "19                      White              two years       5  0.761658\n",
              "20                      Asian              two years       5  0.647059\n",
              "21          Two or more races    more then two years       6  0.555556\n",
              "22  Black or African American    more then two years       6  0.456140\n",
              "23                      Asian    more then two years       6  0.441176\n",
              "24                      White    more then two years       6  0.378238"
            ],
            "text/html": "<div>\n<style scoped>\n    .dataframe tbody tr th:only-of-type {\n        vertical-align: middle;\n    }\n\n    .dataframe tbody tr th {\n        vertical-align: top;\n    }\n\n    .dataframe thead th {\n        text-align: right;\n    }\n</style>\n<table border=\"1\" class=\"dataframe\">\n  <thead>\n    <tr style=\"text-align: right;\">\n      <th></th>\n      <th>race</th>\n      <th>period_name</th>\n      <th>period</th>\n      <th>dist</th>\n    </tr>\n  </thead>\n  <tbody>\n    <tr>\n      <th>0</th>\n      <td>Asian</td>\n      <td>less then tree months</td>\n      <td>0</td>\n      <td>1.000000</td>\n    </tr>\n    <tr>\n      <th>1</th>\n      <td>Black or African American</td>\n      <td>less then tree months</td>\n      <td>0</td>\n      <td>1.000000</td>\n    </tr>\n    <tr>\n      <th>2</th>\n      <td>Two or more races</td>\n      <td>less then tree months</td>\n      <td>0</td>\n      <td>1.000000</td>\n    </tr>\n    <tr>\n      <th>3</th>\n      <td>White</td>\n      <td>less then tree months</td>\n      <td>0</td>\n      <td>1.000000</td>\n    </tr>\n    <tr>\n      <th>4</th>\n      <td>Black or African American</td>\n      <td>tree months</td>\n      <td>1</td>\n      <td>0.982456</td>\n    </tr>\n    <tr>\n      <th>5</th>\n      <td>White</td>\n      <td>tree months</td>\n      <td>1</td>\n      <td>0.948187</td>\n    </tr>\n    <tr>\n      <th>6</th>\n      <td>Asian</td>\n      <td>tree months</td>\n      <td>1</td>\n      <td>0.941176</td>\n    </tr>\n    <tr>\n      <th>7</th>\n      <td>Black or African American</td>\n      <td>half a year</td>\n      <td>2</td>\n      <td>0.964912</td>\n    </tr>\n    <tr>\n      <th>8</th>\n      <td>White</td>\n      <td>half a year</td>\n      <td>2</td>\n      <td>0.922280</td>\n    </tr>\n    <tr>\n      <th>9</th>\n      <td>Asian</td>\n      <td>half a year</td>\n      <td>2</td>\n      <td>0.911765</td>\n    </tr>\n    <tr>\n      <th>10</th>\n      <td>Two or more races</td>\n      <td>one year</td>\n      <td>3</td>\n      <td>0.944444</td>\n    </tr>\n    <tr>\n      <th>11</th>\n      <td>Black or African American</td>\n      <td>one year</td>\n      <td>3</td>\n      <td>0.912281</td>\n    </tr>\n    <tr>\n      <th>12</th>\n      <td>White</td>\n      <td>one year</td>\n      <td>3</td>\n      <td>0.870466</td>\n    </tr>\n    <tr>\n      <th>13</th>\n      <td>Asian</td>\n      <td>one year</td>\n      <td>3</td>\n      <td>0.823529</td>\n    </tr>\n    <tr>\n      <th>14</th>\n      <td>Black or African American</td>\n      <td>a year and a half</td>\n      <td>4</td>\n      <td>0.789474</td>\n    </tr>\n    <tr>\n      <th>15</th>\n      <td>White</td>\n      <td>a year and a half</td>\n      <td>4</td>\n      <td>0.772021</td>\n    </tr>\n    <tr>\n      <th>16</th>\n      <td>Asian</td>\n      <td>a year and a half</td>\n      <td>4</td>\n      <td>0.676471</td>\n    </tr>\n    <tr>\n      <th>17</th>\n      <td>Two or more races</td>\n      <td>two years</td>\n      <td>5</td>\n      <td>0.888889</td>\n    </tr>\n    <tr>\n      <th>18</th>\n      <td>Black or African American</td>\n      <td>two years</td>\n      <td>5</td>\n      <td>0.771930</td>\n    </tr>\n    <tr>\n      <th>19</th>\n      <td>White</td>\n      <td>two years</td>\n      <td>5</td>\n      <td>0.761658</td>\n    </tr>\n    <tr>\n      <th>20</th>\n      <td>Asian</td>\n      <td>two years</td>\n      <td>5</td>\n      <td>0.647059</td>\n    </tr>\n    <tr>\n      <th>21</th>\n      <td>Two or more races</td>\n      <td>more then two years</td>\n      <td>6</td>\n      <td>0.555556</td>\n    </tr>\n    <tr>\n      <th>22</th>\n      <td>Black or African American</td>\n      <td>more then two years</td>\n      <td>6</td>\n      <td>0.456140</td>\n    </tr>\n    <tr>\n      <th>23</th>\n      <td>Asian</td>\n      <td>more then two years</td>\n      <td>6</td>\n      <td>0.441176</td>\n    </tr>\n    <tr>\n      <th>24</th>\n      <td>White</td>\n      <td>more then two years</td>\n      <td>6</td>\n      <td>0.378238</td>\n    </tr>\n  </tbody>\n</table>\n</div>"
          },
          "metadata": {},
          "execution_count": 439
        }
      ],
      "source": [
        "sql(\n",
        "    \"\"\"\n",
        "    with \n",
        "    dist as (\n",
        "        select racedesc race, \n",
        "               days_to_period_name(\"Days Employed\") period_name, \n",
        "               days_to_period(\"Days Employed\") period,\n",
        "               cume_dist() over (\n",
        "                   partition by racedesc \n",
        "                   order by days_to_period(\"Days Employed\") desc\n",
        "               ) as dist\n",
        "        from racesv\n",
        "    )  \n",
        "    select distinct * from dist\n",
        "    order by period, dist desc;\n",
        "    \"\"\"\n",
        ")"
      ]
    },
    {
      "source": [
        "Несмотря на некоторые нарекания с производительность Black or African American работают в компании больше всех остальных. А Asian и White вероятнее всего уйдут примерно через год с небольгим."
      ],
      "cell_type": "markdown",
      "metadata": {}
    },
    {
      "source": [
        "### Посмотрим, стоит ли вообще напрягаться и быть high-performer.\n",
        "Другими слловами, если ли связль между производительностью сотрудника и компенсацией труда?"
      ],
      "cell_type": "markdown",
      "metadata": {}
    },
    {
      "cell_type": "code",
      "execution_count": 440,
      "metadata": {},
      "outputs": [
        {
          "output_type": "execute_result",
          "data": {
            "text/plain": [
              "              department  score   mean    min    max  count\n",
              "0          Admin Offices      0  19.03  16.56  21.50      2\n",
              "1          Admin Offices      1  35.11  20.50  55.00      8\n",
              "2                  IT/IS     -1  63.00  63.00  63.00      1\n",
              "3                  IT/IS      0  46.74  34.00  61.30      9\n",
              "4                  IT/IS      1  44.38  21.00  64.00     36\n",
              "5                  IT/IS      2  52.06  35.50  65.00      4\n",
              "6      Production            -2  22.07  16.00  29.00      7\n",
              "7      Production            -1  24.36  15.00  53.00     11\n",
              "8      Production             0  21.00  15.00  28.00     25\n",
              "9      Production             1  23.38  14.00  60.00    161\n",
              "10     Production             2  22.50  17.00  25.00      4\n",
              "11                 Sales     -2  55.50  55.00  56.00      2\n",
              "12                 Sales     -1  55.50  55.00  56.00      2\n",
              "13                 Sales      0  55.00  55.00  55.00      1\n",
              "14                 Sales      1  55.55  54.00  60.25     26\n",
              "15  Software Engineering     -1  48.50  48.50  48.50      1\n",
              "16  Software Engineering      1  48.77  27.00  57.12      8\n",
              "17  Software Engineering      2  48.00  48.00  48.00      1"
            ],
            "text/html": "<div>\n<style scoped>\n    .dataframe tbody tr th:only-of-type {\n        vertical-align: middle;\n    }\n\n    .dataframe tbody tr th {\n        vertical-align: top;\n    }\n\n    .dataframe thead th {\n        text-align: right;\n    }\n</style>\n<table border=\"1\" class=\"dataframe\">\n  <thead>\n    <tr style=\"text-align: right;\">\n      <th></th>\n      <th>department</th>\n      <th>score</th>\n      <th>mean</th>\n      <th>min</th>\n      <th>max</th>\n      <th>count</th>\n    </tr>\n  </thead>\n  <tbody>\n    <tr>\n      <th>0</th>\n      <td>Admin Offices</td>\n      <td>0</td>\n      <td>19.03</td>\n      <td>16.56</td>\n      <td>21.50</td>\n      <td>2</td>\n    </tr>\n    <tr>\n      <th>1</th>\n      <td>Admin Offices</td>\n      <td>1</td>\n      <td>35.11</td>\n      <td>20.50</td>\n      <td>55.00</td>\n      <td>8</td>\n    </tr>\n    <tr>\n      <th>2</th>\n      <td>IT/IS</td>\n      <td>-1</td>\n      <td>63.00</td>\n      <td>63.00</td>\n      <td>63.00</td>\n      <td>1</td>\n    </tr>\n    <tr>\n      <th>3</th>\n      <td>IT/IS</td>\n      <td>0</td>\n      <td>46.74</td>\n      <td>34.00</td>\n      <td>61.30</td>\n      <td>9</td>\n    </tr>\n    <tr>\n      <th>4</th>\n      <td>IT/IS</td>\n      <td>1</td>\n      <td>44.38</td>\n      <td>21.00</td>\n      <td>64.00</td>\n      <td>36</td>\n    </tr>\n    <tr>\n      <th>5</th>\n      <td>IT/IS</td>\n      <td>2</td>\n      <td>52.06</td>\n      <td>35.50</td>\n      <td>65.00</td>\n      <td>4</td>\n    </tr>\n    <tr>\n      <th>6</th>\n      <td>Production</td>\n      <td>-2</td>\n      <td>22.07</td>\n      <td>16.00</td>\n      <td>29.00</td>\n      <td>7</td>\n    </tr>\n    <tr>\n      <th>7</th>\n      <td>Production</td>\n      <td>-1</td>\n      <td>24.36</td>\n      <td>15.00</td>\n      <td>53.00</td>\n      <td>11</td>\n    </tr>\n    <tr>\n      <th>8</th>\n      <td>Production</td>\n      <td>0</td>\n      <td>21.00</td>\n      <td>15.00</td>\n      <td>28.00</td>\n      <td>25</td>\n    </tr>\n    <tr>\n      <th>9</th>\n      <td>Production</td>\n      <td>1</td>\n      <td>23.38</td>\n      <td>14.00</td>\n      <td>60.00</td>\n      <td>161</td>\n    </tr>\n    <tr>\n      <th>10</th>\n      <td>Production</td>\n      <td>2</td>\n      <td>22.50</td>\n      <td>17.00</td>\n      <td>25.00</td>\n      <td>4</td>\n    </tr>\n    <tr>\n      <th>11</th>\n      <td>Sales</td>\n      <td>-2</td>\n      <td>55.50</td>\n      <td>55.00</td>\n      <td>56.00</td>\n      <td>2</td>\n    </tr>\n    <tr>\n      <th>12</th>\n      <td>Sales</td>\n      <td>-1</td>\n      <td>55.50</td>\n      <td>55.00</td>\n      <td>56.00</td>\n      <td>2</td>\n    </tr>\n    <tr>\n      <th>13</th>\n      <td>Sales</td>\n      <td>0</td>\n      <td>55.00</td>\n      <td>55.00</td>\n      <td>55.00</td>\n      <td>1</td>\n    </tr>\n    <tr>\n      <th>14</th>\n      <td>Sales</td>\n      <td>1</td>\n      <td>55.55</td>\n      <td>54.00</td>\n      <td>60.25</td>\n      <td>26</td>\n    </tr>\n    <tr>\n      <th>15</th>\n      <td>Software Engineering</td>\n      <td>-1</td>\n      <td>48.50</td>\n      <td>48.50</td>\n      <td>48.50</td>\n      <td>1</td>\n    </tr>\n    <tr>\n      <th>16</th>\n      <td>Software Engineering</td>\n      <td>1</td>\n      <td>48.77</td>\n      <td>27.00</td>\n      <td>57.12</td>\n      <td>8</td>\n    </tr>\n    <tr>\n      <th>17</th>\n      <td>Software Engineering</td>\n      <td>2</td>\n      <td>48.00</td>\n      <td>48.00</td>\n      <td>48.00</td>\n      <td>1</td>\n    </tr>\n  </tbody>\n</table>\n</div>"
          },
          "metadata": {},
          "execution_count": 440
        }
      ],
      "source": [
        "sql(\n",
        "    \"\"\"\n",
        "    select department, \n",
        "          perf_score(\"Performance Score\") score, \t   \n",
        "          round(avg(\"Pay Rate\") :: numeric, 2) mean, \n",
        "          round(min(\"Pay Rate\") :: numeric, 2) min,\n",
        "          round(max(\"Pay Rate\") :: numeric, 2) max,\n",
        "          count(\"Pay Rate\")\n",
        "    from departmentsv \n",
        "    group by score, department \n",
        "    order by department, score;\n",
        "    \"\"\"\n",
        ")"
      ]
    },
    {
      "cell_type": "code",
      "execution_count": 441,
      "metadata": {},
      "outputs": [
        {
          "output_type": "execute_result",
          "data": {
            "text/plain": [
              "       corr\n",
              "0  0.054685"
            ],
            "text/html": "<div>\n<style scoped>\n    .dataframe tbody tr th:only-of-type {\n        vertical-align: middle;\n    }\n\n    .dataframe tbody tr th {\n        vertical-align: top;\n    }\n\n    .dataframe thead th {\n        text-align: right;\n    }\n</style>\n<table border=\"1\" class=\"dataframe\">\n  <thead>\n    <tr style=\"text-align: right;\">\n      <th></th>\n      <th>corr</th>\n    </tr>\n  </thead>\n  <tbody>\n    <tr>\n      <th>0</th>\n      <td>0.054685</td>\n    </tr>\n  </tbody>\n</table>\n</div>"
          },
          "metadata": {},
          "execution_count": 441
        }
      ],
      "source": [
        "sql(\n",
        "    \"\"\"\n",
        "    select corr(perf_score(\"Performance Score\"), \"Pay Rate\")\n",
        "    from hr_dataset hd;\n",
        "    \"\"\"\n",
        ")"
      ]
    },
    {
      "cell_type": "code",
      "execution_count": 442,
      "metadata": {},
      "outputs": [
        {
          "output_type": "execute_result",
          "data": {
            "text/plain": [
              "             department      corr\n",
              "0         Admin Offices  0.499532\n",
              "1                 IT/IS -0.054152\n",
              "2     Production         0.031741\n",
              "3                 Sales  0.021390\n",
              "4  Software Engineering -0.005861"
            ],
            "text/html": "<div>\n<style scoped>\n    .dataframe tbody tr th:only-of-type {\n        vertical-align: middle;\n    }\n\n    .dataframe tbody tr th {\n        vertical-align: top;\n    }\n\n    .dataframe thead th {\n        text-align: right;\n    }\n</style>\n<table border=\"1\" class=\"dataframe\">\n  <thead>\n    <tr style=\"text-align: right;\">\n      <th></th>\n      <th>department</th>\n      <th>corr</th>\n    </tr>\n  </thead>\n  <tbody>\n    <tr>\n      <th>0</th>\n      <td>Admin Offices</td>\n      <td>0.499532</td>\n    </tr>\n    <tr>\n      <th>1</th>\n      <td>IT/IS</td>\n      <td>-0.054152</td>\n    </tr>\n    <tr>\n      <th>2</th>\n      <td>Production</td>\n      <td>0.031741</td>\n    </tr>\n    <tr>\n      <th>3</th>\n      <td>Sales</td>\n      <td>0.021390</td>\n    </tr>\n    <tr>\n      <th>4</th>\n      <td>Software Engineering</td>\n      <td>-0.005861</td>\n    </tr>\n  </tbody>\n</table>\n</div>"
          },
          "metadata": {},
          "execution_count": 442
        }
      ],
      "source": [
        "sql(\n",
        "    \"\"\"\n",
        "    select department, \n",
        "           corr(perf_score(\"Performance Score\"), \"Pay Rate\")\n",
        "    from departmentsv \n",
        "    group by department \n",
        "    order by department;\n",
        "    \"\"\"\n",
        ")"
      ]
    },
    {
      "source": [
        "Невеселая история, выглядит так, что компания не спешит поощрять сотрудников за их успехи."
      ],
      "cell_type": "markdown",
      "metadata": {}
    },
    {
      "source": [
        "Как обстоят дела с ростом зп со временем?"
      ],
      "cell_type": "markdown",
      "metadata": {}
    },
    {
      "cell_type": "code",
      "execution_count": 443,
      "metadata": {},
      "outputs": [
        {
          "output_type": "execute_result",
          "data": {
            "text/plain": [
              "                    dep      corr\n",
              "0         Admin Offices  0.004072\n",
              "1                 IT/IS -0.155838\n",
              "2     Production         0.086703\n",
              "3                 Sales -0.199112\n",
              "4  Software Engineering -0.178373"
            ],
            "text/html": "<div>\n<style scoped>\n    .dataframe tbody tr th:only-of-type {\n        vertical-align: middle;\n    }\n\n    .dataframe tbody tr th {\n        vertical-align: top;\n    }\n\n    .dataframe thead th {\n        text-align: right;\n    }\n</style>\n<table border=\"1\" class=\"dataframe\">\n  <thead>\n    <tr style=\"text-align: right;\">\n      <th></th>\n      <th>dep</th>\n      <th>corr</th>\n    </tr>\n  </thead>\n  <tbody>\n    <tr>\n      <th>0</th>\n      <td>Admin Offices</td>\n      <td>0.004072</td>\n    </tr>\n    <tr>\n      <th>1</th>\n      <td>IT/IS</td>\n      <td>-0.155838</td>\n    </tr>\n    <tr>\n      <th>2</th>\n      <td>Production</td>\n      <td>0.086703</td>\n    </tr>\n    <tr>\n      <th>3</th>\n      <td>Sales</td>\n      <td>-0.199112</td>\n    </tr>\n    <tr>\n      <th>4</th>\n      <td>Software Engineering</td>\n      <td>-0.178373</td>\n    </tr>\n  </tbody>\n</table>\n</div>"
          },
          "metadata": {},
          "execution_count": 443
        }
      ],
      "source": [
        "sql(\n",
        "    \"\"\"\n",
        "    select department dep, corr(\"Days Employed\", \"Pay Rate\")\n",
        "    from departmentsv\n",
        "    where \"Days Employed\" > 180\n",
        "    group by dep\n",
        "    order by dep;\n",
        "    \"\"\"\n",
        ")"
      ]
    },
    {
      "source": [
        "Аналогичная история. Более того, в некоторых отделах компания платит новым сотрудникам больше, чем старым. Зп страрые сотрудники не индексируется. Это может мотивировать их искать новое место работы."
      ],
      "cell_type": "markdown",
      "metadata": {}
    },
    {
      "source": [
        "### HR департаменту может быть интересно и полезно знать, как отличаются друг от друга источники найма сторудников.\n",
        "\n",
        "#### Как долго остаются в компании сотрудники, пришедшие из каждого из источников?"
      ],
      "cell_type": "markdown",
      "metadata": {}
    },
    {
      "cell_type": "code",
      "execution_count": 444,
      "metadata": {},
      "outputs": [
        {
          "output_type": "execute_result",
          "data": {
            "text/plain": [
              "                                        es     mean      std  min   max  count\n",
              "0                                Billboard  1680.75  1198.48   62  4339     16\n",
              "1                                 MBTA ads  1580.35   569.79  440  2386     17\n",
              "2                       Website Banner Ads  1471.31   516.91  508  2148     13\n",
              "3                     Professional Society  1416.60   534.65  446  2617     20\n",
              "4                              Monster.com  1403.00   757.09   72  2686     24\n",
              "5                       Diversity Job Fair  1340.45   878.48    2  3317     29\n",
              "6        Search Engine - Google Bing Yahoo  1324.56   932.85   26  3674     25\n",
              "7                   Pay Per Click - Google  1287.29   635.10   58  2512     21\n",
              "8                        Employee Referral  1252.16   561.22    6  2787     31\n",
              "9                     On-campus Recruiting  1214.42   466.00   69  1658     12\n",
              "10                      Newspager/Magazine  1193.78   666.55   45  2211     18\n",
              "11                               Glassdoor  1134.79   692.83   27  2022     14\n",
              "12  Social Networks - Facebook Twitter etc  1082.73   786.85   19  2148     11\n",
              "13                           Word of Mouth  1022.92   829.27    8  2512     13\n",
              "14                         Vendor Referral  1022.07   668.09  299  2766     15"
            ],
            "text/html": "<div>\n<style scoped>\n    .dataframe tbody tr th:only-of-type {\n        vertical-align: middle;\n    }\n\n    .dataframe tbody tr th {\n        vertical-align: top;\n    }\n\n    .dataframe thead th {\n        text-align: right;\n    }\n</style>\n<table border=\"1\" class=\"dataframe\">\n  <thead>\n    <tr style=\"text-align: right;\">\n      <th></th>\n      <th>es</th>\n      <th>mean</th>\n      <th>std</th>\n      <th>min</th>\n      <th>max</th>\n      <th>count</th>\n    </tr>\n  </thead>\n  <tbody>\n    <tr>\n      <th>0</th>\n      <td>Billboard</td>\n      <td>1680.75</td>\n      <td>1198.48</td>\n      <td>62</td>\n      <td>4339</td>\n      <td>16</td>\n    </tr>\n    <tr>\n      <th>1</th>\n      <td>MBTA ads</td>\n      <td>1580.35</td>\n      <td>569.79</td>\n      <td>440</td>\n      <td>2386</td>\n      <td>17</td>\n    </tr>\n    <tr>\n      <th>2</th>\n      <td>Website Banner Ads</td>\n      <td>1471.31</td>\n      <td>516.91</td>\n      <td>508</td>\n      <td>2148</td>\n      <td>13</td>\n    </tr>\n    <tr>\n      <th>3</th>\n      <td>Professional Society</td>\n      <td>1416.60</td>\n      <td>534.65</td>\n      <td>446</td>\n      <td>2617</td>\n      <td>20</td>\n    </tr>\n    <tr>\n      <th>4</th>\n      <td>Monster.com</td>\n      <td>1403.00</td>\n      <td>757.09</td>\n      <td>72</td>\n      <td>2686</td>\n      <td>24</td>\n    </tr>\n    <tr>\n      <th>5</th>\n      <td>Diversity Job Fair</td>\n      <td>1340.45</td>\n      <td>878.48</td>\n      <td>2</td>\n      <td>3317</td>\n      <td>29</td>\n    </tr>\n    <tr>\n      <th>6</th>\n      <td>Search Engine - Google Bing Yahoo</td>\n      <td>1324.56</td>\n      <td>932.85</td>\n      <td>26</td>\n      <td>3674</td>\n      <td>25</td>\n    </tr>\n    <tr>\n      <th>7</th>\n      <td>Pay Per Click - Google</td>\n      <td>1287.29</td>\n      <td>635.10</td>\n      <td>58</td>\n      <td>2512</td>\n      <td>21</td>\n    </tr>\n    <tr>\n      <th>8</th>\n      <td>Employee Referral</td>\n      <td>1252.16</td>\n      <td>561.22</td>\n      <td>6</td>\n      <td>2787</td>\n      <td>31</td>\n    </tr>\n    <tr>\n      <th>9</th>\n      <td>On-campus Recruiting</td>\n      <td>1214.42</td>\n      <td>466.00</td>\n      <td>69</td>\n      <td>1658</td>\n      <td>12</td>\n    </tr>\n    <tr>\n      <th>10</th>\n      <td>Newspager/Magazine</td>\n      <td>1193.78</td>\n      <td>666.55</td>\n      <td>45</td>\n      <td>2211</td>\n      <td>18</td>\n    </tr>\n    <tr>\n      <th>11</th>\n      <td>Glassdoor</td>\n      <td>1134.79</td>\n      <td>692.83</td>\n      <td>27</td>\n      <td>2022</td>\n      <td>14</td>\n    </tr>\n    <tr>\n      <th>12</th>\n      <td>Social Networks - Facebook Twitter etc</td>\n      <td>1082.73</td>\n      <td>786.85</td>\n      <td>19</td>\n      <td>2148</td>\n      <td>11</td>\n    </tr>\n    <tr>\n      <th>13</th>\n      <td>Word of Mouth</td>\n      <td>1022.92</td>\n      <td>829.27</td>\n      <td>8</td>\n      <td>2512</td>\n      <td>13</td>\n    </tr>\n    <tr>\n      <th>14</th>\n      <td>Vendor Referral</td>\n      <td>1022.07</td>\n      <td>668.09</td>\n      <td>299</td>\n      <td>2766</td>\n      <td>15</td>\n    </tr>\n  </tbody>\n</table>\n</div>"
          },
          "metadata": {},
          "execution_count": 444
        }
      ],
      "source": [
        "sql(\n",
        "    \"\"\"\n",
        "    select \"Employee Source\" es, \n",
        "           round(avg(\"Days Employed\") :: numeric, 2) mean, \n",
        "           round(stddev(\"Days Employed\") :: numeric, 2) std,\n",
        "           min(\"Days Employed\"), \n",
        "           max(\"Days Employed\"), \n",
        "           count(1)\n",
        "    from employeesourcesv \n",
        "    group by es \n",
        "    having count(1) > 1\n",
        "    order by mean desc;\n",
        "    \"\"\"\n",
        ")"
      ]
    },
    {
      "source": [
        "#### Откуда приходят лучшие сотрудники?"
      ],
      "cell_type": "markdown",
      "metadata": {}
    },
    {
      "cell_type": "code",
      "execution_count": 445,
      "metadata": {},
      "outputs": [
        {
          "output_type": "execute_result",
          "data": {
            "text/plain": [
              "                                        es  mean   std  min  max  count\n",
              "0                        Employee Referral  0.94  0.51    0    2     31\n",
              "1   Social Networks - Facebook Twitter etc  0.91  0.30    0    1     11\n",
              "2                     On-campus Recruiting  0.83  0.39    0    1     12\n",
              "3                                Glassdoor  0.79  0.58   -1    1     14\n",
              "4                       Newspager/Magazine  0.78  0.43    0    1     18\n",
              "5        Search Engine - Google Bing Yahoo  0.76  0.72   -2    1     25\n",
              "6                          Vendor Referral  0.73  0.46    0    1     15\n",
              "7                                 MBTA ads  0.71  1.05   -2    2     17\n",
              "8                            Word of Mouth  0.69  0.63   -1    1     13\n",
              "9                                Billboard  0.69  0.95   -2    2     16\n",
              "10                             Monster.com  0.67  0.70   -1    1     24\n",
              "11                  Pay Per Click - Google  0.67  0.80   -2    1     21\n",
              "12                    Professional Society  0.65  1.04   -2    2     20\n",
              "13                      Diversity Job Fair  0.62  0.86   -2    2     29\n",
              "14                      Website Banner Ads  0.38  1.12   -2    1     13"
            ],
            "text/html": "<div>\n<style scoped>\n    .dataframe tbody tr th:only-of-type {\n        vertical-align: middle;\n    }\n\n    .dataframe tbody tr th {\n        vertical-align: top;\n    }\n\n    .dataframe thead th {\n        text-align: right;\n    }\n</style>\n<table border=\"1\" class=\"dataframe\">\n  <thead>\n    <tr style=\"text-align: right;\">\n      <th></th>\n      <th>es</th>\n      <th>mean</th>\n      <th>std</th>\n      <th>min</th>\n      <th>max</th>\n      <th>count</th>\n    </tr>\n  </thead>\n  <tbody>\n    <tr>\n      <th>0</th>\n      <td>Employee Referral</td>\n      <td>0.94</td>\n      <td>0.51</td>\n      <td>0</td>\n      <td>2</td>\n      <td>31</td>\n    </tr>\n    <tr>\n      <th>1</th>\n      <td>Social Networks - Facebook Twitter etc</td>\n      <td>0.91</td>\n      <td>0.30</td>\n      <td>0</td>\n      <td>1</td>\n      <td>11</td>\n    </tr>\n    <tr>\n      <th>2</th>\n      <td>On-campus Recruiting</td>\n      <td>0.83</td>\n      <td>0.39</td>\n      <td>0</td>\n      <td>1</td>\n      <td>12</td>\n    </tr>\n    <tr>\n      <th>3</th>\n      <td>Glassdoor</td>\n      <td>0.79</td>\n      <td>0.58</td>\n      <td>-1</td>\n      <td>1</td>\n      <td>14</td>\n    </tr>\n    <tr>\n      <th>4</th>\n      <td>Newspager/Magazine</td>\n      <td>0.78</td>\n      <td>0.43</td>\n      <td>0</td>\n      <td>1</td>\n      <td>18</td>\n    </tr>\n    <tr>\n      <th>5</th>\n      <td>Search Engine - Google Bing Yahoo</td>\n      <td>0.76</td>\n      <td>0.72</td>\n      <td>-2</td>\n      <td>1</td>\n      <td>25</td>\n    </tr>\n    <tr>\n      <th>6</th>\n      <td>Vendor Referral</td>\n      <td>0.73</td>\n      <td>0.46</td>\n      <td>0</td>\n      <td>1</td>\n      <td>15</td>\n    </tr>\n    <tr>\n      <th>7</th>\n      <td>MBTA ads</td>\n      <td>0.71</td>\n      <td>1.05</td>\n      <td>-2</td>\n      <td>2</td>\n      <td>17</td>\n    </tr>\n    <tr>\n      <th>8</th>\n      <td>Word of Mouth</td>\n      <td>0.69</td>\n      <td>0.63</td>\n      <td>-1</td>\n      <td>1</td>\n      <td>13</td>\n    </tr>\n    <tr>\n      <th>9</th>\n      <td>Billboard</td>\n      <td>0.69</td>\n      <td>0.95</td>\n      <td>-2</td>\n      <td>2</td>\n      <td>16</td>\n    </tr>\n    <tr>\n      <th>10</th>\n      <td>Monster.com</td>\n      <td>0.67</td>\n      <td>0.70</td>\n      <td>-1</td>\n      <td>1</td>\n      <td>24</td>\n    </tr>\n    <tr>\n      <th>11</th>\n      <td>Pay Per Click - Google</td>\n      <td>0.67</td>\n      <td>0.80</td>\n      <td>-2</td>\n      <td>1</td>\n      <td>21</td>\n    </tr>\n    <tr>\n      <th>12</th>\n      <td>Professional Society</td>\n      <td>0.65</td>\n      <td>1.04</td>\n      <td>-2</td>\n      <td>2</td>\n      <td>20</td>\n    </tr>\n    <tr>\n      <th>13</th>\n      <td>Diversity Job Fair</td>\n      <td>0.62</td>\n      <td>0.86</td>\n      <td>-2</td>\n      <td>2</td>\n      <td>29</td>\n    </tr>\n    <tr>\n      <th>14</th>\n      <td>Website Banner Ads</td>\n      <td>0.38</td>\n      <td>1.12</td>\n      <td>-2</td>\n      <td>1</td>\n      <td>13</td>\n    </tr>\n  </tbody>\n</table>\n</div>"
          },
          "metadata": {},
          "execution_count": 445
        }
      ],
      "source": [
        "sql(\n",
        "    \"\"\"\n",
        "    select \"Employee Source\" es, \n",
        "           round(avg(perf_score(\"Performance Score\")) :: numeric, 2) mean, \n",
        "           round(stddev(perf_score(\"Performance Score\")) :: numeric, 2) std,\n",
        "           min(perf_score(\"Performance Score\")), \n",
        "           max(perf_score(\"Performance Score\")), \n",
        "           count(1)\n",
        "    from employeesourcesv \n",
        "    group by es \n",
        "    having count(1) > 1\n",
        "    order by mean desc;\n",
        "    \"\"\"\n",
        ")"
      ]
    },
    {
      "source": [
        "#### Посмотрим на оба показателя сразу"
      ],
      "cell_type": "markdown",
      "metadata": {}
    },
    {
      "cell_type": "code",
      "execution_count": 446,
      "metadata": {},
      "outputs": [
        {
          "output_type": "execute_result",
          "data": {
            "text/plain": [
              "                                        es  mean_score  mean_days  count\n",
              "0                        Employee Referral        0.94    1252.16     31\n",
              "1   Social Networks - Facebook Twitter etc        0.91    1082.73     11\n",
              "2                     On-campus Recruiting        0.83    1214.42     12\n",
              "3                                Glassdoor        0.79    1134.79     14\n",
              "4                       Newspager/Magazine        0.78    1193.78     18\n",
              "5        Search Engine - Google Bing Yahoo        0.76    1324.56     25\n",
              "6                          Vendor Referral        0.73    1022.07     15\n",
              "7                                 MBTA ads        0.71    1580.35     17\n",
              "8                            Word of Mouth        0.69    1022.92     13\n",
              "9                                Billboard        0.69    1680.75     16\n",
              "10                             Monster.com        0.67    1403.00     24\n",
              "11                  Pay Per Click - Google        0.67    1287.29     21\n",
              "12                    Professional Society        0.65    1416.60     20\n",
              "13                      Diversity Job Fair        0.62    1340.45     29\n",
              "14                      Website Banner Ads        0.38    1471.31     13"
            ],
            "text/html": "<div>\n<style scoped>\n    .dataframe tbody tr th:only-of-type {\n        vertical-align: middle;\n    }\n\n    .dataframe tbody tr th {\n        vertical-align: top;\n    }\n\n    .dataframe thead th {\n        text-align: right;\n    }\n</style>\n<table border=\"1\" class=\"dataframe\">\n  <thead>\n    <tr style=\"text-align: right;\">\n      <th></th>\n      <th>es</th>\n      <th>mean_score</th>\n      <th>mean_days</th>\n      <th>count</th>\n    </tr>\n  </thead>\n  <tbody>\n    <tr>\n      <th>0</th>\n      <td>Employee Referral</td>\n      <td>0.94</td>\n      <td>1252.16</td>\n      <td>31</td>\n    </tr>\n    <tr>\n      <th>1</th>\n      <td>Social Networks - Facebook Twitter etc</td>\n      <td>0.91</td>\n      <td>1082.73</td>\n      <td>11</td>\n    </tr>\n    <tr>\n      <th>2</th>\n      <td>On-campus Recruiting</td>\n      <td>0.83</td>\n      <td>1214.42</td>\n      <td>12</td>\n    </tr>\n    <tr>\n      <th>3</th>\n      <td>Glassdoor</td>\n      <td>0.79</td>\n      <td>1134.79</td>\n      <td>14</td>\n    </tr>\n    <tr>\n      <th>4</th>\n      <td>Newspager/Magazine</td>\n      <td>0.78</td>\n      <td>1193.78</td>\n      <td>18</td>\n    </tr>\n    <tr>\n      <th>5</th>\n      <td>Search Engine - Google Bing Yahoo</td>\n      <td>0.76</td>\n      <td>1324.56</td>\n      <td>25</td>\n    </tr>\n    <tr>\n      <th>6</th>\n      <td>Vendor Referral</td>\n      <td>0.73</td>\n      <td>1022.07</td>\n      <td>15</td>\n    </tr>\n    <tr>\n      <th>7</th>\n      <td>MBTA ads</td>\n      <td>0.71</td>\n      <td>1580.35</td>\n      <td>17</td>\n    </tr>\n    <tr>\n      <th>8</th>\n      <td>Word of Mouth</td>\n      <td>0.69</td>\n      <td>1022.92</td>\n      <td>13</td>\n    </tr>\n    <tr>\n      <th>9</th>\n      <td>Billboard</td>\n      <td>0.69</td>\n      <td>1680.75</td>\n      <td>16</td>\n    </tr>\n    <tr>\n      <th>10</th>\n      <td>Monster.com</td>\n      <td>0.67</td>\n      <td>1403.00</td>\n      <td>24</td>\n    </tr>\n    <tr>\n      <th>11</th>\n      <td>Pay Per Click - Google</td>\n      <td>0.67</td>\n      <td>1287.29</td>\n      <td>21</td>\n    </tr>\n    <tr>\n      <th>12</th>\n      <td>Professional Society</td>\n      <td>0.65</td>\n      <td>1416.60</td>\n      <td>20</td>\n    </tr>\n    <tr>\n      <th>13</th>\n      <td>Diversity Job Fair</td>\n      <td>0.62</td>\n      <td>1340.45</td>\n      <td>29</td>\n    </tr>\n    <tr>\n      <th>14</th>\n      <td>Website Banner Ads</td>\n      <td>0.38</td>\n      <td>1471.31</td>\n      <td>13</td>\n    </tr>\n  </tbody>\n</table>\n</div>"
          },
          "metadata": {},
          "execution_count": 446
        }
      ],
      "source": [
        "sql(\n",
        "    \"\"\"\n",
        "    select \"Employee Source\" es, \n",
        "           round(avg(perf_score(\"Performance Score\")) :: numeric, 2) mean_score, \n",
        "           round(avg(\"Days Employed\") :: numeric, 2) mean_days, \n",
        "           count(1)\n",
        "    from employeesourcesv \n",
        "    group by es \n",
        "    having count(1) > 1\n",
        "    order by mean_score desc;\n",
        "    \"\"\"\n",
        ")\n"
      ]
    },
    {
      "source": [
        "Выглядит грустно, ибо чем лучше сотрудник, тем меньше в среднем времени в компании он проведет, и, что еще хуже, — справедливо и обратное утверждение: \"плохие\" сотрудники работают в компании дольше всего.\n",
        "\n",
        "Надо это проверить."
      ],
      "cell_type": "markdown",
      "metadata": {}
    },
    {
      "cell_type": "code",
      "execution_count": 447,
      "metadata": {},
      "outputs": [
        {
          "output_type": "execute_result",
          "data": {
            "text/plain": [
              "                      score     mean     std\n",
              "0               Exceptional  1701.33  615.03\n",
              "1                   Exceeds  1627.43  873.66\n",
              "2                       PIP  1426.89  702.08\n",
              "3               Fully Meets  1402.41  746.96\n",
              "4         Needs Improvement  1365.87  684.52\n",
              "5              90-day meets  1055.81  626.97\n",
              "6  N/A- too early to review   552.41  460.56"
            ],
            "text/html": "<div>\n<style scoped>\n    .dataframe tbody tr th:only-of-type {\n        vertical-align: middle;\n    }\n\n    .dataframe tbody tr th {\n        vertical-align: top;\n    }\n\n    .dataframe thead th {\n        text-align: right;\n    }\n</style>\n<table border=\"1\" class=\"dataframe\">\n  <thead>\n    <tr style=\"text-align: right;\">\n      <th></th>\n      <th>score</th>\n      <th>mean</th>\n      <th>std</th>\n    </tr>\n  </thead>\n  <tbody>\n    <tr>\n      <th>0</th>\n      <td>Exceptional</td>\n      <td>1701.33</td>\n      <td>615.03</td>\n    </tr>\n    <tr>\n      <th>1</th>\n      <td>Exceeds</td>\n      <td>1627.43</td>\n      <td>873.66</td>\n    </tr>\n    <tr>\n      <th>2</th>\n      <td>PIP</td>\n      <td>1426.89</td>\n      <td>702.08</td>\n    </tr>\n    <tr>\n      <th>3</th>\n      <td>Fully Meets</td>\n      <td>1402.41</td>\n      <td>746.96</td>\n    </tr>\n    <tr>\n      <th>4</th>\n      <td>Needs Improvement</td>\n      <td>1365.87</td>\n      <td>684.52</td>\n    </tr>\n    <tr>\n      <th>5</th>\n      <td>90-day meets</td>\n      <td>1055.81</td>\n      <td>626.97</td>\n    </tr>\n    <tr>\n      <th>6</th>\n      <td>N/A- too early to review</td>\n      <td>552.41</td>\n      <td>460.56</td>\n    </tr>\n  </tbody>\n</table>\n</div>"
          },
          "metadata": {},
          "execution_count": 447
        }
      ],
      "source": [
        "sql(\n",
        "    \"\"\"\n",
        "    select \"Performance Score\" score, \n",
        "           round(avg(\"Days Employed\") :: numeric, 2) mean,\n",
        "           round(stddev(\"Days Employed\") :: numeric, 2) std\n",
        "    from departmentsv\n",
        "    group by score\n",
        "    order by mean desc\n",
        "    \"\"\"\n",
        ")"
      ]
    },
    {
      "source": [
        "К счастью, все не так плохо. Однако странно, что оценку 90-day meets имеют люди, которые проработали в компании больше двух лет. А N/A- too early to review — те, кто проработал полтора года. Какой-то косяк или в данных или в работе HR департамента."
      ],
      "cell_type": "markdown",
      "metadata": {}
    },
    {
      "cell_type": "code",
      "execution_count": 448,
      "metadata": {},
      "outputs": [
        {
          "output_type": "execute_result",
          "data": {
            "text/plain": [
              "                score            period_name  period      dist\n",
              "0                 PIP               one year       3  1.000000\n",
              "1                 PIP              two years       5  0.888889\n",
              "2                 PIP    more then two years       6  0.333333\n",
              "3   Needs Improvement               one year       3  1.000000\n",
              "4   Needs Improvement      a year and a half       4  0.857143\n",
              "5   Needs Improvement              two years       5  0.785714\n",
              "6   Needs Improvement    more then two years       6  0.285714\n",
              "7         Fully Meets  less then tree months       0  1.000000\n",
              "8         Fully Meets            tree months       1  0.994350\n",
              "9         Fully Meets            half a year       2  0.977401\n",
              "10        Fully Meets               one year       3  0.903955\n",
              "11        Fully Meets      a year and a half       4  0.807910\n",
              "12        Fully Meets              two years       5  0.796610\n",
              "13        Fully Meets    more then two years       6  0.502825\n",
              "14        Exceptional              two years       5  1.000000\n",
              "15        Exceptional    more then two years       6  0.555556\n",
              "16            Exceeds            half a year       2  1.000000\n",
              "17            Exceeds               one year       3  0.961538\n",
              "18            Exceeds      a year and a half       4  0.884615\n",
              "19            Exceeds              two years       5  0.846154\n",
              "20            Exceeds    more then two years       6  0.576923"
            ],
            "text/html": "<div>\n<style scoped>\n    .dataframe tbody tr th:only-of-type {\n        vertical-align: middle;\n    }\n\n    .dataframe tbody tr th {\n        vertical-align: top;\n    }\n\n    .dataframe thead th {\n        text-align: right;\n    }\n</style>\n<table border=\"1\" class=\"dataframe\">\n  <thead>\n    <tr style=\"text-align: right;\">\n      <th></th>\n      <th>score</th>\n      <th>period_name</th>\n      <th>period</th>\n      <th>dist</th>\n    </tr>\n  </thead>\n  <tbody>\n    <tr>\n      <th>0</th>\n      <td>PIP</td>\n      <td>one year</td>\n      <td>3</td>\n      <td>1.000000</td>\n    </tr>\n    <tr>\n      <th>1</th>\n      <td>PIP</td>\n      <td>two years</td>\n      <td>5</td>\n      <td>0.888889</td>\n    </tr>\n    <tr>\n      <th>2</th>\n      <td>PIP</td>\n      <td>more then two years</td>\n      <td>6</td>\n      <td>0.333333</td>\n    </tr>\n    <tr>\n      <th>3</th>\n      <td>Needs Improvement</td>\n      <td>one year</td>\n      <td>3</td>\n      <td>1.000000</td>\n    </tr>\n    <tr>\n      <th>4</th>\n      <td>Needs Improvement</td>\n      <td>a year and a half</td>\n      <td>4</td>\n      <td>0.857143</td>\n    </tr>\n    <tr>\n      <th>5</th>\n      <td>Needs Improvement</td>\n      <td>two years</td>\n      <td>5</td>\n      <td>0.785714</td>\n    </tr>\n    <tr>\n      <th>6</th>\n      <td>Needs Improvement</td>\n      <td>more then two years</td>\n      <td>6</td>\n      <td>0.285714</td>\n    </tr>\n    <tr>\n      <th>7</th>\n      <td>Fully Meets</td>\n      <td>less then tree months</td>\n      <td>0</td>\n      <td>1.000000</td>\n    </tr>\n    <tr>\n      <th>8</th>\n      <td>Fully Meets</td>\n      <td>tree months</td>\n      <td>1</td>\n      <td>0.994350</td>\n    </tr>\n    <tr>\n      <th>9</th>\n      <td>Fully Meets</td>\n      <td>half a year</td>\n      <td>2</td>\n      <td>0.977401</td>\n    </tr>\n    <tr>\n      <th>10</th>\n      <td>Fully Meets</td>\n      <td>one year</td>\n      <td>3</td>\n      <td>0.903955</td>\n    </tr>\n    <tr>\n      <th>11</th>\n      <td>Fully Meets</td>\n      <td>a year and a half</td>\n      <td>4</td>\n      <td>0.807910</td>\n    </tr>\n    <tr>\n      <th>12</th>\n      <td>Fully Meets</td>\n      <td>two years</td>\n      <td>5</td>\n      <td>0.796610</td>\n    </tr>\n    <tr>\n      <th>13</th>\n      <td>Fully Meets</td>\n      <td>more then two years</td>\n      <td>6</td>\n      <td>0.502825</td>\n    </tr>\n    <tr>\n      <th>14</th>\n      <td>Exceptional</td>\n      <td>two years</td>\n      <td>5</td>\n      <td>1.000000</td>\n    </tr>\n    <tr>\n      <th>15</th>\n      <td>Exceptional</td>\n      <td>more then two years</td>\n      <td>6</td>\n      <td>0.555556</td>\n    </tr>\n    <tr>\n      <th>16</th>\n      <td>Exceeds</td>\n      <td>half a year</td>\n      <td>2</td>\n      <td>1.000000</td>\n    </tr>\n    <tr>\n      <th>17</th>\n      <td>Exceeds</td>\n      <td>one year</td>\n      <td>3</td>\n      <td>0.961538</td>\n    </tr>\n    <tr>\n      <th>18</th>\n      <td>Exceeds</td>\n      <td>a year and a half</td>\n      <td>4</td>\n      <td>0.884615</td>\n    </tr>\n    <tr>\n      <th>19</th>\n      <td>Exceeds</td>\n      <td>two years</td>\n      <td>5</td>\n      <td>0.846154</td>\n    </tr>\n    <tr>\n      <th>20</th>\n      <td>Exceeds</td>\n      <td>more then two years</td>\n      <td>6</td>\n      <td>0.576923</td>\n    </tr>\n  </tbody>\n</table>\n</div>"
          },
          "metadata": {},
          "execution_count": 448
        }
      ],
      "source": [
        "sql(\n",
        "    \"\"\"\n",
        "    with \n",
        "    dist as (\n",
        "        select \"Performance Score\" score,  \n",
        "               days_to_period_name(\"Days Employed\") period_name,\n",
        "               days_to_period(\"Days Employed\") period,\n",
        "               cume_dist() over (\n",
        "                   partition by \"Performance Score\" \n",
        "                   order by days_to_period(\"Days Employed\") desc\n",
        "               ) as dist\n",
        "        from racesv\n",
        "        where \"Performance Score\" not in ('N/A- too early to review', '90-day meets')\n",
        "    )  \n",
        "    select distinct * from dist\n",
        "    order by score desc, period;\n",
        "    \"\"\"\n",
        ")"
      ]
    },
    {
      "source": [
        "### Выводы и Рекомендации\n",
        "\n",
        "1. Компании стот обратить внимание на производительность команд под руководством определенных менеджеров и либо заменить отстающих менеджеров либо организовать для них курсы управления для повышения квалификации.\n",
        "1. Отделы продаж и производства нуждаются в оптимизации процессов либо в постановке более реалистичных KPI.\n",
        "1. Сточки зрения производительности найм представителей расс Asian и White более выгодный, чем представителей других расс; зато представители Black or African American в среднем проработают в компании дольше.\n",
        "1. Пересмотреть систему компенсаций таким образом, чтобы сотрудники с более высокой производительностью получали вознаграждение за свои труды; а также, чтобы сотрудники были заинтересованы оставаться в компании с течением времени, а не искать для себя новые возможности на стороне.\n",
        "1. Не все источники кадров одинково полезны, например, стоит подумать на тем, чтобы отказаться от использования Website Banner Ads, так как сотрудники, пришедгие оттуда показывают, плохую производительность.\n",
        "\n",
        "В датасете мало данных, из-за этого приходится игнорировать некоторые срезы, а также сложно делать разбивку по несмкольким срезам сразу.\n",
        "\n",
        "Есть странность, связвнная с несоответствием оценки производительности и временем, отработанным сотрудником в компании. Не доллжно быть так, чтобы среднее время работы в компании сотрудников с оценкой 90 days meets было 1000 дней. Возможно дело в интерпретации значений, например, сотрудник, прошедший PIP снова получает оценку 90 days meets. В таком случае стоит добавить новые оценки, явно показывающие такой переход. Аналогичная история с оценкой N/A- too early to review.\n",
        "\n",
        "\n"
      ],
      "cell_type": "markdown",
      "metadata": {}
    },
    {
      "source": [
        "## Часть вторая"
      ],
      "cell_type": "markdown",
      "metadata": {
        "id": "5OXer84FHVAU"
      }
    },
    {
      "cell_type": "markdown",
      "metadata": {
        "id": "8vS_kLIvHVAV"
      },
      "source": [
        "Перед вами стоит задача – подготовить аналитический ответ для SMM-отдела компании Skillbox. <br> Объектом анализа является  [паблик Skillbox Вконтакте](https://vk.com/skillbox_education). <br> <br> \n",
        "Подключитесь к  API VK и выгрузите посты со стены паблика Skillbox за интересующий период (определите самостоятельно и обоснуйте). Проанализируйте влияние различных факторов (например, времени публикации) на вовлеченность пользователей (количество лайков, комментариев, голосов в опросах). Сделайте аналитику по рубрикам (примеры рубрик: дизайн-битва, игра по управлению), которые есть в паблике. Выбрать нужные посты можно с помощью регулярных выражений. Составьте перечень рекомандаций для SMM-отдела по итогам анализа. <br> <br> \n",
        "\n",
        "Дополнительные инструкции по работе с API VK расположены [здесь](https://colab.research.google.com/drive/1rRaTay-OSPLAOX8V9UaFvTiAciVtp2s3)."
      ]
    },
    {
      "source": [
        "### YOUR CODE HERE ###\n",
        "from pathlib import Path\n",
        "\n",
        "vk_token = Path('access_token.txt').read_text().rstrip()\n",
        "\n",
        "import requests\n",
        "\n",
        "def getjson(url):\n",
        "    response = requests.get(url)\n",
        "    response = response.json()\n",
        "    return response\n",
        "\n",
        "url = 'https://api.vk.com/method/account.getProfileInfo?access_token=' + str(vk_token) + '&v=5.92'\n",
        "response = getjson(url)\n",
        "\n",
        "print(response)\n"
      ],
      "cell_type": "code",
      "metadata": {
        "id": "7b1vJYVrHVAR",
        "outputId": "fc1b572c-2361-4273-f105-f2ea209d99a2",
        "colab": {
          "base_uri": "https://localhost:8080/",
          "height": 35
        }
      },
      "execution_count": null,
      "outputs": []
    },
    {
      "cell_type": "code",
      "metadata": {
        "id": "7SzjqiQLHVAW"
      },
      "source": [
        "### YOUR CODE HERE ###\n",
        "\n",
        "\n"
      ],
      "execution_count": 450,
      "outputs": []
    }
  ]
}