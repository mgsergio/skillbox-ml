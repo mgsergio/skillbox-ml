{
 "cells": [
  {
   "cell_type": "code",
   "execution_count": 1,
   "metadata": {},
   "outputs": [],
   "source": [
    "from sympy import symbols, init_printing, simplify, sqrt\n",
    "\n",
    "init_printing()\n",
    "\n",
    "x, y, a, b, c, k = symbols(\"x, y, a, b, c, k\")"
   ]
  },
  {
   "cell_type": "code",
   "execution_count": 2,
   "metadata": {},
   "outputs": [
    {
     "data": {
      "image/png": "[encoded data removed]",
      "text/latex": "$\\displaystyle \\left( 9 y^{2}, \\  27\\right)$",
      "text/plain": "⎛   2    ⎞\n⎝9⋅y , 27⎠"
     },
     "execution_count": 2,
     "metadata": {},
     "output_type": "execute_result"
    }
   ],
   "source": [
    "f1 = (2*x + 3*y) ** 2 - 3*x*(4*x/3 + 4*y)\n",
    "f1_ = simplify(f1)\n",
    "(f1_, f1_.subs(y, sqrt(3)))"
   ]
  },
  {
   "cell_type": "code",
   "execution_count": 3,
   "metadata": {},
   "outputs": [
    {
     "data": {
      "image/png": "[encoded data removed]",
      "text/latex": "$\\displaystyle \\left( 4 a^{2} + 49 b^{2}, \\  452\\right)$",
      "text/plain": "⎛   2       2     ⎞\n⎝4⋅a  + 49⋅b , 452⎠"
     },
     "execution_count": 3,
     "metadata": {},
     "output_type": "execute_result"
    }
   ],
   "source": [
    "f2 = 28*a*b + (2*a - 7*b)**2\n",
    "f2_ = simplify(f2)\n",
    "(f2_, f2_.subs([(a, sqrt(15)), (b, sqrt(8))]))"
   ]
  },
  {
   "cell_type": "code",
   "execution_count": 4,
   "metadata": {},
   "outputs": [
    {
     "data": {
      "image/png": "[encoded data removed]",
      "text/latex": "$\\displaystyle \\left( \\frac{7}{10 a}, \\  1.0\\right)$",
      "text/plain": "⎛ 7       ⎞\n⎜────, 1.0⎟\n⎝10⋅a     ⎠"
     },
     "execution_count": 4,
     "metadata": {},
     "output_type": "execute_result"
    }
   ],
   "source": [
    "f3 = (a/2 + a/5)*1/a**2\n",
    "f3_ = simplify(f3)\n",
    "(f3_, f3_.subs(a, 0.7))\n"
   ]
  },
  {
   "cell_type": "code",
   "execution_count": 5,
   "metadata": {},
   "outputs": [
    {
     "data": {
      "image/png": "[encoded data removed]",
      "text/latex": "$\\displaystyle \\left( x, \\  5\\right)$",
      "text/plain": "(x, 5)"
     },
     "execution_count": 5,
     "metadata": {},
     "output_type": "execute_result"
    }
   ],
   "source": [
    "f4 = (x - 6*x/(x + 2)) / ((x - 4)/(x + 2))\n",
    "f4_ = simplify(f4)\n",
    "(f4_, f4_.subs(x, 5))"
   ]
  },
  {
   "cell_type": "code",
   "execution_count": 6,
   "metadata": {},
   "outputs": [
    {
     "data": {
      "image/png": "[encoded data removed]",
      "text/latex": "$\\displaystyle 9 a^{2} + 4 b^{2}$",
      "text/plain": "   2      2\n9⋅a  + 4⋅b "
     },
     "execution_count": 6,
     "metadata": {},
     "output_type": "execute_result"
    }
   ],
   "source": [
    "f5 = (4/a**2 + 9/b**2)*(a*b)**2\n",
    "simplify(f5)"
   ]
  },
  {
   "cell_type": "code",
   "execution_count": 7,
   "metadata": {},
   "outputs": [
    {
     "data": {
      "image/png": "[encoded data removed]",
      "text/latex": "$\\displaystyle - \\frac{1}{2}$",
      "text/plain": "-1/2"
     },
     "execution_count": 7,
     "metadata": {},
     "output_type": "execute_result"
    }
   ],
   "source": [
    "f6 = 5/(c*k**2)*(c*k**3) - (10*k + 1) / 2\n",
    "simplify(f6)"
   ]
  },
  {
   "cell_type": "code",
   "execution_count": 8,
   "metadata": {},
   "outputs": [
    {
     "data": {
      "image/png": "[encoded data removed]",
      "text/latex": "$\\displaystyle - \\frac{7}{x}$",
      "text/plain": "-7 \n───\n x "
     },
     "execution_count": 8,
     "metadata": {},
     "output_type": "execute_result"
    }
   ],
   "source": [
    "f7 = (3*x**2 + 4*x)/(x**2 - 2*x) - (2*x + 7)/x - (x + 8)/(x - 2)\n",
    "simplify(f7)"
   ]
  }
 ],
 "metadata": {
  "kernelspec": {
   "display_name": "Python 3",
   "language": "python",
   "name": "python3"
  },
  "language_info": {
   "codemirror_mode": {
    "name": "ipython",
    "version": 3
   },
   "file_extension": ".py",
   "mimetype": "text/x-python",
   "name": "python",
   "nbconvert_exporter": "python",
   "pygments_lexer": "ipython3",
   "version": "3.8.5"
  },
  "orig_nbformat": 2
 },
 "nbformat": 4,
 "nbformat_minor": 2
}