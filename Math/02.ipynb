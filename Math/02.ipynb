{
 "cells": [
  {
   "cell_type": "code",
   "execution_count": 21,
   "metadata": {},
   "outputs": [],
   "source": [
    "from sympy import (\n",
    "    expand, \n",
    "    init_printing, \n",
    "    log,\n",
    "    Rational,\n",
    "    root, \n",
    "    simplify, \n",
    "    symbols, \n",
    ")\n",
    "import math\n",
    "\n",
    "\n",
    "init_printing()\n",
    "\n",
    "x, a, b = symbols(\"x, a, b\", real=True)"
   ]
  },
  {
   "cell_type": "code",
   "execution_count": 22,
   "metadata": {},
   "outputs": [
    {
     "data": {
      "image/png": "[encoded data removed]",
      "text/latex": "$\\displaystyle 2$",
      "text/plain": "2"
     },
     "execution_count": 22,
     "metadata": {},
     "output_type": "execute_result"
    }
   ],
   "source": [
    "f = (root(13, 2) + root(7, 2)) ** 2 / (10 + root(91, 2))\n",
    "simplify(f)"
   ]
  },
  {
   "cell_type": "code",
   "execution_count": 23,
   "metadata": {},
   "outputs": [
    {
     "data": {
      "image/png": "[encoded data removed]",
      "text/latex": "$\\displaystyle -14$",
      "text/plain": "-14"
     },
     "execution_count": 23,
     "metadata": {},
     "output_type": "execute_result"
    }
   ],
   "source": [
    "f = log(10/b**3, 10)\n",
    "expand(f, force=True).subs(log(b, 10), 5)"
   ]
  },
  {
   "cell_type": "code",
   "execution_count": 24,
   "metadata": {},
   "outputs": [
    {
     "data": {
      "image/png": "[encoded data removed]",
      "text/latex": "$\\displaystyle 6 a^{3}$",
      "text/plain": "   3\n6⋅a "
     },
     "execution_count": 24,
     "metadata": {},
     "output_type": "execute_result"
    }
   ],
   "source": [
    "2*a*root(a, Rational(3, 4))*3*root(a, Rational(3, 2))\n"
   ]
  },
  {
   "cell_type": "code",
   "execution_count": 25,
   "metadata": {},
   "outputs": [
    {
     "data": {
      "text/plain": "True"
     },
     "execution_count": 25,
     "metadata": {},
     "output_type": "execute_result"
    }
   ],
   "source": [
    "def sum_log(n: int) -> float:\n",
    "    return sum(math.log(i) for i in range(1, n + 1))\n",
    "\n",
    "\n",
    "from functools import reduce\n",
    "def log_of_prod(n: int) -> float:\n",
    "    return math.log(reduce(lambda acc, e: acc * e, range(1, n + 1)))\n",
    "\n",
    "\n",
    "eps = 1e-10\n",
    "from pprint import pprint\n",
    "all([abs(sum_log(i) - log_of_prod(i)) < eps for i in range(1, 20)])"
   ]
  },
  {
   "cell_type": "markdown",
   "metadata": {},
   "source": [
    "sum_log === log_of_prod в виду справедливости формулы: \n",
    "\n",
    "log(a) + log(b) == log(a*b)\n",
    "\n",
    "Эту формулу можно применить счетное количество раз к любой из функций log_of_prod и sum_log для получения ее пары. \n",
    "\n",
    "Хоть в теории функции и совпадают, но на практике присутствуют расхождения из-за накопления ошибки вычислений при работе с вещественными числами в памяти комрьютера. "
   ]
  },
  {
   "cell_type": "code",
   "execution_count": 26,
   "metadata": {},
   "outputs": [
    {
     "data": {
      "image/png": "[encoded data removed]",
      "text/latex": "$\\displaystyle 4$",
      "text/plain": "4"
     },
     "execution_count": 26,
     "metadata": {},
     "output_type": "execute_result"
    }
   ],
   "source": [
    "(15*root(root(a, 28), 5) - 7*root(root(a, 20), 7)) / (2*root(root(a, 4), 35))"
   ]
  },
  {
   "cell_type": "code",
   "execution_count": 27,
   "metadata": {},
   "outputs": [
    {
     "data": {
      "image/png": "[encoded data removed]",
      "text/latex": "$\\displaystyle 1$",
      "text/plain": "1"
     },
     "execution_count": 27,
     "metadata": {},
     "output_type": "execute_result"
    }
   ],
   "source": [
    "g = root(x*(4 - x), 3)\n",
    "\n",
    "g.subs(x, (2 - x))/g.subs(x, (2 + x))"
   ]
  },
  {
   "cell_type": "code",
   "execution_count": 28,
   "metadata": {},
   "outputs": [
    {
     "data": {
      "image/png": "[encoded data removed]",
      "text/latex": "$\\displaystyle 5$",
      "text/plain": "5"
     },
     "execution_count": 28,
     "metadata": {},
     "output_type": "execute_result"
    }
   ],
   "source": [
    "((2*x**3)**4 - (x**2)**6) / (3*x**12)"
   ]
  },
  {
   "cell_type": "code",
   "execution_count": 29,
   "metadata": {},
   "outputs": [
    {
     "data": {
      "image/png": "[encoded data removed]",
      "text/latex": "$\\displaystyle \\left( - \\frac{4}{b^{3}}, \\  - \\frac{1}{2}\\right)$",
      "text/plain": "⎛-4       ⎞\n⎜───, -1/2⎟\n⎜  3      ⎟\n⎝ b       ⎠"
     },
     "execution_count": 29,
     "metadata": {},
     "output_type": "execute_result"
    }
   ],
   "source": [
    "f = ((11*a**6*b**3 - (3*a**2*b)**3)/(4*a**6*b**6))\n",
    "(f, f.subs(b, 2))"
   ]
  }
 ],
 "metadata": {
  "kernelspec": {
   "display_name": "Python 3",
   "language": "python",
   "name": "python3"
  },
  "language_info": {
   "codemirror_mode": {
    "name": "ipython",
    "version": 3
   },
   "file_extension": ".py",
   "mimetype": "text/x-python",
   "name": "python",
   "nbconvert_exporter": "python",
   "pygments_lexer": "ipython3",
   "version": "3.8.5"
  },
  "orig_nbformat": 2
 },
 "nbformat": 4,
 "nbformat_minor": 2
}