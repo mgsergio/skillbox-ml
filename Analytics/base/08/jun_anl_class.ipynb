{
 "cells": [
  {
   "cell_type": "markdown",
   "metadata": {
    "colab_type": "text",
    "id": "RbR5OTe50Za4"
   },
   "source": [
    "# Классы\n",
    "## Домашнее задание"
   ]
  },
  {
   "cell_type": "markdown",
   "metadata": {
    "colab_type": "text",
    "id": "Xh_DBCdu0Za5"
   },
   "source": [
    "### Вопросы по лекциям\n",
    "\n",
    "#### 1.\n",
    "\n",
    "Напишите название функции, которая является конструктором класса."
   ]
  },
  {
   "cell_type": "markdown",
   "metadata": {
    "colab_type": "text",
    "id": "8-Tj4AMg0Za6"
   },
   "source": [
    "**Ответ:**\n",
    "\n",
    "Конструктором класса является функция `type`, если вдруг вопрос был про `__init__`, то эта функция инициализирует обхект, который возвразает `__new__`.\n"
   ]
  },
  {
   "cell_type": "markdown",
   "metadata": {
    "colab_type": "text",
    "id": "lf14yx330Za7"
   },
   "source": [
    "#### 2.\n",
    "\n",
    "На что указывает переменная `self`?"
   ]
  },
  {
   "cell_type": "markdown",
   "metadata": {
    "colab_type": "text",
    "id": "wI-0FWlF0Za8"
   },
   "source": [
    "**Ответ:**\n",
    "\n",
    "На что угодно. Но по конвенции, `self` — первый агрумент методов класса, куда передается объект, у которого был вызван метод.\n",
    "```\n",
    "class Foo:\n",
    "    def bar(self):\n",
    "        return 1\n",
    "        \n",
    "f = Foo()\n",
    "f.bar() == Foo.bar(f)\n",
    "```\n",
    "\n",
    "С другой стороны этот магический аргумент можно назвать иначе\n",
    "\n",
    "```\n",
    "class Baz:\n",
    "    def unconventional(x):\n",
    "        return type(x)\n",
    "```"
   ]
  },
  {
   "cell_type": "code",
   "execution_count": 11,
   "metadata": {},
   "outputs": [
    {
     "data": {
      "text/plain": [
       "100"
      ]
     },
     "execution_count": 11,
     "metadata": {},
     "output_type": "execute_result"
    }
   ],
   "source": [
    "self = 100\n",
    "self"
   ]
  },
  {
   "cell_type": "markdown",
   "metadata": {
    "colab_type": "text",
    "id": "j_8_O_nl0Za8"
   },
   "source": [
    "#### 3.\n",
    "С помощью какой функции можно проверить, что некая строка является именем одного из атрибутов объекта?"
   ]
  },
  {
   "cell_type": "markdown",
   "metadata": {
    "colab_type": "text",
    "id": "5h8ASTrV0Za9"
   },
   "source": [
    "**Ответ:**\n",
    "hasattr"
   ]
  },
  {
   "cell_type": "markdown",
   "metadata": {
    "colab_type": "text",
    "id": "G104VWgj0Za-"
   },
   "source": [
    "#### 4.\n",
    "Когда вызывается метод `__del__`? (относительно события удаления объекта)"
   ]
  },
  {
   "cell_type": "markdown",
   "metadata": {
    "colab_type": "text",
    "id": "Ukzoyxkn0Za-"
   },
   "source": [
    "**Ответ:**\n",
    "<br>\n",
    "Когда счетчик ссылок на объект становится равен нулю."
   ]
  },
  {
   "cell_type": "markdown",
   "metadata": {
    "colab_type": "text",
    "id": "MkF-HyBM0ZbA"
   },
   "source": [
    "#### 5.\n",
    "Верно ли, что атрибут класса перекрывает атрибут объекта?"
   ]
  },
  {
   "cell_type": "markdown",
   "metadata": {
    "colab_type": "text",
    "id": "o7B52kVt0ZbC"
   },
   "source": [
    "**Ответ:**\n",
    "Неа"
   ]
  },
  {
   "cell_type": "code",
   "execution_count": 12,
   "metadata": {},
   "outputs": [
    {
     "name": "stdout",
     "output_type": "stream",
     "text": [
      "2\n",
      "1\n"
     ]
    }
   ],
   "source": [
    "class Foo:\n",
    "    a = 1\n",
    "    \n",
    "    def __init__(self, a):\n",
    "        self.a = a\n",
    "        \n",
    "f = Foo(2)\n",
    "print(f.a)\n",
    "print(Foo.a)"
   ]
  },
  {
   "cell_type": "markdown",
   "metadata": {
    "colab_type": "text",
    "id": "kSwZWV2B0ZbC"
   },
   "source": [
    "#### 6.\n",
    "Можно ли атрибуты базового класса вызывать в дочернем классе? Если да, то напишите, нет ли исклчений?"
   ]
  },
  {
   "cell_type": "markdown",
   "metadata": {
    "colab_type": "text",
    "id": "6i74Koih0ZbE"
   },
   "source": [
    "**Ответ:**\n",
    "\n",
    "1. Насколько мне известно, можно докопатся до чего угодно без исключений, если стучать чере `super().__dict__`.\n",
    "1. В с лучае со иножественным наследование, можно найти нужного родителя через MRO.\n",
    "1. Если нужно свойство, которое начинается с `__`, то его можно получить, добавив у имени желаемого свойства `_ParentName__`"
   ]
  },
  {
   "cell_type": "markdown",
   "metadata": {
    "colab_type": "text",
    "id": "tl1St2O20ZbE"
   },
   "source": [
    "#### 7.\n",
    "Объясните своими словами для чего нужен метод `super`."
   ]
  },
  {
   "cell_type": "markdown",
   "metadata": {
    "colab_type": "text",
    "id": "rg3u1PoY0ZbF"
   },
   "source": [
    "**Ответ:**\n",
    "Чтобы получить ссылку на класс родителя внутри класса наследника, например, чтобы обратиться к перегружаемому методу. "
   ]
  },
  {
   "cell_type": "markdown",
   "metadata": {
    "colab_type": "text",
    "id": "5AiJn8ut0ZbG"
   },
   "source": [
    "### Практика\n",
    "\n",
    "1. Напишите класс `Fraction` для работы с дробями. Пусть дробь в нашем классе предстает в виде `числитель/знаменатель`. Дробное число должно создаваться по запросу `Fraction(a, b)`, где `a` – это числитель, а `b` – знаменатель дроби. \n",
    "2. Добавьте возможность сложения (сложения через оператор сложения) для дроби. Предполагается, что операция сложения может проводиться как только между дробями, так и между дробью и целым числом. Результат операции должен быть представлен в виде дроби.\n",
    "3. Добавьте возможность взятия разности (вычитания через оператор вычитания) для дробей. Предполагается, что операция вычитания может проводиться как только для двух дробей, так и для дроби и целого числа. Результат операции должен быть представлен в виде дроби.\n",
    "4. Добавьте возможность умножения (умножения через оператор умножения) для дробей. Предполагается, что операция умножения может проводиться как только для двух дробей, так и для дроби и целого числа. Результат операции должен быть представлен в виде дроби.\n",
    "5. Добавьте возможность приведения дроби к целому числу через стандартную функцию `int()`.\n",
    "6. Добавьте возможность приведения дроби к числу с плавающей точкой через стандартную функцию `float()`.\n",
    "7. Создайте дочерний класс `OperationsOnFraction` и добавьте туда собственные методы `getint` и `getfloat`, которые будут возвращать целую часть дроби и представление дроби в виде числа с плавающей точкой соответственно. \n",
    " "
   ]
  },
  {
   "cell_type": "code",
   "execution_count": 58,
   "metadata": {
    "colab": {},
    "colab_type": "code",
    "id": "ru3BJ52J0ZbG"
   },
   "outputs": [
    {
     "name": "stderr",
     "output_type": "stream",
     "text": [
      ".........\n",
      "----------------------------------------------------------------------\n",
      "Ran 9 tests in 0.013s\n",
      "\n",
      "OK\n"
     ]
    },
    {
     "data": {
      "text/plain": [
       "<unittest.main.TestProgram at 0x1117c2950>"
      ]
     },
     "execution_count": 58,
     "metadata": {},
     "output_type": "execute_result"
    }
   ],
   "source": [
    "### YOUR CODE HERE ###\n",
    "import unittest\n",
    "from typing import Tuple, overload\n",
    "\n",
    "\n",
    "class Fraction:\n",
    "    numerator: int\n",
    "    denominator: int\n",
    "        \n",
    "    def __init__(self, numerator: int, denominator: int):\n",
    "        assert denominator != 0\n",
    "        if denominator < 0:\n",
    "            numerator = -numerator\n",
    "            denominator = -denominator\n",
    "        self.numerator = numerator\n",
    "        self.denominator = denominator\n",
    "           \n",
    "    def __neg__(self) -> 'Fraction':\n",
    "        return Fraction(-self.numerator, self.denominator)\n",
    "        \n",
    "    @overload    \n",
    "    def __add__(self, other: 'Fraction') -> 'Fraction': ...\n",
    "    @overload    \n",
    "    def __add__(self, other: int) -> 'Fraction': ...\n",
    "    \n",
    "    def __add__(self, other) -> 'Fraction':\n",
    "        if isinstance(other, Fraction):\n",
    "            if self.denominator == other.denominator:\n",
    "                return Fraction(\n",
    "                    self.numerator + other.numerator,\n",
    "                    self.denominator\n",
    "                )\n",
    "            return Fraction(\n",
    "                self.numerator * other.denominator + other.numerator * self.denominator,\n",
    "                self.denominator * other.denominator\n",
    "            )\n",
    "        if isinstance(other, int):\n",
    "            return self + Fraction(other, 1)\n",
    "        raise TypeError('Only int and Fraction types are supported.')\n",
    "        \n",
    "    __radd__ = __add__\n",
    "\n",
    "    @overload    \n",
    "    def __sub__(self, other: 'Fraction') -> 'Fraction': ...\n",
    "    @overload    \n",
    "    def __sub__(self, other: int) -> 'Fraction': ...\n",
    "\n",
    "    def __sub__(self, other) -> 'Fraction':\n",
    "        return self + (-other)\n",
    "    \n",
    "    @overload    \n",
    "    def __rsub__(self, other: 'Fraction') -> 'Fraction': ...\n",
    "    @overload    \n",
    "    def __rsub__(self, other: int) -> 'Fraction': ...\n",
    "        \n",
    "    def __rsub__(self, other) -> 'Fraction':\n",
    "        return -self + other\n",
    "        \n",
    "    @overload\n",
    "    def __mul__(self, other: 'Fraction') -> 'Fraction': ...\n",
    "    @overload\n",
    "    def __mul__(self, other: int) -> 'Fraction': ...\n",
    "\n",
    "    def __mul__(self, other: int) -> 'Fraction':\n",
    "        if isinstance(other, Fraction):\n",
    "            return Fraction(\n",
    "                self.numerator * other.numerator,\n",
    "                self.denominator * other.denominator\n",
    "            )\n",
    "        if isinstance(other, int):\n",
    "            return Fraction(self.numerator * other, self.denominator)\n",
    "        raise TypeError('Only int and Fraction types are supported.')\n",
    "        \n",
    "    __rmul__ = __mul__\n",
    "    \n",
    "    def __int__(self) -> int:\n",
    "        return self.numerator // self.denominator\n",
    "    \n",
    "    def __float__(self) -> float:\n",
    "        return self.numerator / self.denominator\n",
    "    \n",
    "    def tuple(self) -> Tuple[int, int]:\n",
    "        return self.numerator, self.denominator\n",
    "    \n",
    "    def copy(self) -> 'Fraction':\n",
    "        return Fraction(self.numerator, self.denominator)\n",
    " \n",
    "    \n",
    "class OperationsOnFraction(Fraction):\n",
    "    def getint(self) -> int:\n",
    "        return int(self)\n",
    "    \n",
    "    def getfloat(self) -> float:\n",
    "        return float(self)\n",
    "    \n",
    "\n",
    "F = Fraction\n",
    "    \n",
    "class TestFraction(unittest.TestCase):\n",
    "    def test_init(self):\n",
    "        self.assertRaises(AssertionError, F, 1, 0)\n",
    "        \n",
    "        self.assertEqual(F(2, 3).tuple(), (2, 3))\n",
    "        self.assertEqual(F(2, -3).tuple(), (-2, 3))\n",
    "        self.assertEqual(F(-2, 3).tuple(), (-2, 3))\n",
    "        self.assertEqual(F(-2, -3).tuple(), (2, 3))\n",
    "\n",
    "    def test_neg(self):\n",
    "        self.assertEqual((-F(5, 6)).tuple(), (-5, 6))\n",
    "        self.assertEqual((-F(-5, 6)).tuple(), (5, 6))\n",
    "        \n",
    "    def test_add(self):\n",
    "        self.assertEqual((F(1, 2) + F(1, 2)).tuple(), (2, 2))\n",
    "        self.assertEqual((F(-1, 2) + F(1, 2)).tuple(), (0, 2))\n",
    "        self.assertEqual((F(1, 2) + F(1, 3)).tuple(), (5, 6))\n",
    "        self.assertEqual((F(4, 7) + F(3, 10)).tuple(), (61, 70))\n",
    "\n",
    "        self.assertEqual((1 + F(4, 7)).tuple(), (11, 7))\n",
    "        self.assertEqual((F(4, 7) + 2).tuple(), (18, 7))\n",
    "\n",
    "    def test_sub(self):\n",
    "        self.assertEqual((F(1, 2) - F(1, 2)).tuple(), (0, 2))\n",
    "        self.assertEqual((F(-1, 2) - F(1, 2)).tuple(), (-2, 2))\n",
    "        self.assertEqual((F(1, 2) - F(1, 3)).tuple(), (1, 6))\n",
    "        self.assertEqual((F(4, 7) - F(3, 10)).tuple(), (19, 70))\n",
    "\n",
    "        self.assertEqual((1 - F(4, 7)).tuple(), (3, 7))\n",
    "        self.assertEqual((F(4, 7) - 2).tuple(), (-10, 7))\n",
    "\n",
    "    def test_mult(self):\n",
    "        self.assertEqual((F(1, 2) * F(1, 2)).tuple(), (1, 4))\n",
    "        self.assertEqual((F(-1, 2) * F(1, 2)).tuple(), (-1, 4))\n",
    "        self.assertEqual((F(1, 2) * F(1, 3)).tuple(), (1, 6))\n",
    "        self.assertEqual((F(4, 7) * F(3, 10)).tuple(), (12, 70))\n",
    "\n",
    "        self.assertEqual((1 * F(4, 7)).tuple(), (4, 7))\n",
    "        self.assertEqual((F(4, 7) * 2).tuple(), (8, 7))\n",
    "        self.assertEqual((F(4, 7) * -2).tuple(), (-8, 7))\n",
    "        self.assertEqual((-2 * F(4, 7)).tuple(), (-8, 7))\n",
    "\n",
    "    def test_int(self):\n",
    "        self.assertEqual(int(F(4, 7)), 0)\n",
    "        self.assertEqual(int(F(8, 7)), 1)\n",
    "        self.assertEqual(int(F(14, 7)), 2)\n",
    "        \n",
    "    def test_float(self):\n",
    "        self.assertAlmostEqual(float(F(4, 7)), 4 / 7)\n",
    "        self.assertAlmostEqual(float(F(8, 7)), 8 / 7)\n",
    "        self.assertAlmostEqual(float(F(14, 7)), 2)\n",
    "     \n",
    "    \n",
    "OF = OperationsOnFraction\n",
    "\n",
    "class TestOperationsOnFraction(unittest.TestCase):\n",
    "    def test_int(self):\n",
    "        self.assertEqual(OF(4, 7).getint(), 0)\n",
    "        self.assertEqual(OF(8, 7).getint(), 1)\n",
    "        self.assertEqual(OF(14, 7).getint(), 2)\n",
    "        \n",
    "    def test_float(self):\n",
    "        self.assertAlmostEqual(OF(4, 7).getfloat(), 4 / 7)\n",
    "        self.assertAlmostEqual(OF(8, 7).getfloat(), 8 / 7)\n",
    "        self.assertAlmostEqual(OF(14, 7).getfloat(), 2)\n",
    "\n",
    "    \n",
    "unittest.main(argv=['first-arg-is-ignored'], exit=False)"
   ]
  },
  {
   "cell_type": "code",
   "execution_count": null,
   "metadata": {},
   "outputs": [],
   "source": []
  }
 ],
 "metadata": {
  "colab": {
   "collapsed_sections": [],
   "name": "jun_anl_class.ipynb",
   "provenance": []
  },
  "kernelspec": {
   "display_name": "Python 3",
   "language": "python",
   "name": "python3"
  },
  "language_info": {
   "codemirror_mode": {
    "name": "ipython",
    "version": 3
   },
   "file_extension": ".py",
   "mimetype": "text/x-python",
   "name": "python",
   "nbconvert_exporter": "python",
   "pygments_lexer": "ipython3",
   "version": "3.7.7"
  }
 },
 "nbformat": 4,
 "nbformat_minor": 4
}
